{
  "cells": [
    {
      "cell_type": "markdown",
      "metadata": {
        "colab_type": "text",
        "id": "view-in-github"
      },
      "source": [
        "<a href=\"https://colab.research.google.com/github/Erhtric/NeuralQuestionGenerationNLP/blob/master/goqu_nb.ipynb\" target=\"_parent\"><img src=\"https://colab.research.google.com/assets/colab-badge.svg\" alt=\"Open In Colab\"/></a>"
      ]
    },
    {
      "cell_type": "markdown",
      "metadata": {
        "id": "8OU-wpGL18xj"
      },
      "source": [
        "This is the main file: its purpouse is to collect all the code coming from the coding pipeline."
      ]
    },
    {
      "cell_type": "markdown",
      "metadata": {
        "id": "ZS1Y56XayL9_"
      },
      "source": [
        "# GoQU (Generator of QUestions): a tensorflow implementation of the \"Learning to Ask\" paper\n",
        "\n",
        "The paper cited is [Learning to Ask: Neural Question Generation for Reading Comprehension](https://aclanthology.org/P17-1123) (Du et al., ACL 2017)\n",
        "\n",
        "This section contains initializations, various configurations and libraries importing."
      ]
    },
    {
      "cell_type": "code",
      "execution_count": 1,
      "metadata": {
        "id": "dm3zC-RigXJH"
      },
      "outputs": [],
      "source": [
        "# %load_ext tensorboard"
      ]
    },
    {
      "cell_type": "markdown",
      "metadata": {
        "id": "xl7H67iPmZHL"
      },
      "source": [
        "## 0.1 Libraries\n",
        "\n",
        "The requirements are all included in the `requirements.txt` file present in the root directory of this project. The additional requirements required for colab will be downloaded in the next cell."
      ]
    },
    {
      "cell_type": "code",
      "execution_count": 36,
      "metadata": {
        "id": "jJ6IfruxRu7S"
      },
      "outputs": [],
      "source": [
        "try:\n",
        "  import google.colab\n",
        "  IN_COLAB = True\n",
        "except:\n",
        "  IN_COLAB = False\n",
        "\n",
        "# %%capture\n",
        "# %pip install datasets\n",
        "# %pip install keras-tuner --upgrade\n",
        "# %pip install rouge_score\n",
        "#!pip install tflearn - batchnorm"
      ]
    },
    {
      "cell_type": "code",
      "execution_count": 37,
      "metadata": {},
      "outputs": [
        {
          "name": "stdout",
          "output_type": "stream",
          "text": [
            "The autoreload extension is already loaded. To reload it, use:\n",
            "  %reload_ext autoreload\n"
          ]
        }
      ],
      "source": [
        "%load_ext autoreload\n",
        "%autoreload 2\n",
        "\n",
        "import os\n",
        "import json\n",
        "import sys\n",
        "sys.path.append(\".\")\n",
        "sys.path.append(\"..\")\n",
        "\n",
        "import tensorflow as tf\n",
        "import numpy as np\n",
        "import pandas as pd\n",
        "# disable chained assignments to avoid annoying warning\n",
        "pd.options.mode.chained_assignment = None\n",
        "import matplotlib.pyplot as plt\n",
        "\n",
        "from typing import Any, Tuple, List, NamedTuple\n",
        "\n",
        "# Dataloader & Configs\n",
        "from src.data.data_generator import SQuAD, Dataset\n",
        "from configs.config import *\n",
        "\n",
        "# Embeddings\n",
        "from src.utils.embeddings import GloVe\n",
        "\n",
        "# Model\n",
        "from src.models.layers import Encoder, Decoder"
      ]
    },
    {
      "cell_type": "code",
      "execution_count": 4,
      "metadata": {
        "colab": {
          "base_uri": "https://localhost:8080/"
        },
        "id": "oLvONYDvKAHz",
        "outputId": "f4557c2b-89ec-4f79-e3b7-5f9561fcd7a0"
      },
      "outputs": [],
      "source": [
        "# import pandas as pd\n",
        "# import numpy as np\n",
        "# import json\n",
        "# import sklearn\n",
        "# from sklearn.model_selection import train_test_split, GroupShuffleSplit\n",
        "# import re\n",
        "# import os\n",
        "# import random\n",
        "# import typing\n",
        "# from typing import Any, Tuple, List, NamedTuple\n",
        "# import spacy\n",
        "# import gensim\n",
        "# import gensim.downloader as gloader\n",
        "# from gensim.models import KeyedVectors\n",
        "# from itertools import chain\n",
        "# from tqdm import tqdm\n",
        "# import datetime\n",
        "# import matplotlib.pyplot as plt\n",
        "\n",
        "# import tensorflow as tf\n",
        "# #import tensorflow_addons as tfa\n",
        "# #import tensorflow_text as tf_text\n",
        "# from tensorflow import keras\n",
        "# from keras.models import Model\n",
        "# from keras.layers import (\n",
        "#     Layer, \n",
        "#     Embedding, \n",
        "#     LSTM, \n",
        "#     Dense, \n",
        "#     Bidirectional, \n",
        "#     Input, \n",
        "#     AdditiveAttention,\n",
        "#     Dropout)\n",
        "\n",
        "# # import keras_nlp\n",
        "# import nltk\n",
        "# #from nltk import punkt, pos_tag, ne_chunk\n",
        "# from nltk.tokenize import sent_tokenize\n",
        "# nltk.download('punkt')\n",
        "# nltk.download('averaged_perceptron_tagger')\n",
        "# nltk.download('maxent_ne_chunker')\n",
        "# nltk.download('words')"
      ]
    },
    {
      "cell_type": "code",
      "execution_count": 5,
      "metadata": {
        "colab": {
          "base_uri": "https://localhost:8080/"
        },
        "id": "WMLxr4LDpZGc",
        "outputId": "761b5120-a90b-4b27-9cc4-49a8038c0055"
      },
      "outputs": [],
      "source": [
        "# from google.colab import drive\n",
        "# drive.mount('/content/drive')"
      ]
    },
    {
      "cell_type": "markdown",
      "metadata": {
        "id": "Y8NrwPONoVQ-"
      },
      "source": [
        "## 0.2 Directories"
      ]
    },
    {
      "cell_type": "markdown",
      "metadata": {
        "id": "UqKVWPel_ybt"
      },
      "source": [
        "Commands to prepare the folder to accomodate data."
      ]
    },
    {
      "cell_type": "code",
      "execution_count": 6,
      "metadata": {
        "colab": {
          "base_uri": "https://localhost:8080/"
        },
        "id": "GbwRWifNfo2k",
        "outputId": "9688c2ed-c253-4ec1-f7c7-2190508f47f8"
      },
      "outputs": [],
      "source": [
        "# %ls -ls"
      ]
    },
    {
      "cell_type": "code",
      "execution_count": 7,
      "metadata": {
        "colab": {
          "base_uri": "https://localhost:8080/"
        },
        "id": "BKVGy7JPJCoi",
        "outputId": "5bdd71b6-2f71-4a3a-bb2d-df7926dacedd"
      },
      "outputs": [],
      "source": [
        "# %cd drive/MyDrive/NLP/Project/qg_project/\n",
        "# %pwd"
      ]
    },
    {
      "cell_type": "code",
      "execution_count": 8,
      "metadata": {
        "id": "ikmZGjUlitqS"
      },
      "outputs": [],
      "source": [
        "if not os.path.exists('./data'):\n",
        "  print('Data folder does not exists. Creating it')\n",
        "  os.makedirs('./data', exist_ok=True)\n",
        "\n",
        "if not os.path.exists('./training_checkpoints'):\n",
        "  print('Training checkpoint folder does not exists. Creating it')\n",
        "  os.makedirs('./training_checkpoints', exist_ok=True)\n",
        "\n",
        "if not os.path.exists('./logs'):\n",
        "  print('Tensorboard Logs folder does not exists. Creating it')\n",
        "  os.makedirs('./logs', exist_ok=True)"
      ]
    },
    {
      "attachments": {},
      "cell_type": "markdown",
      "metadata": {
        "id": "2hyzKyj_-GjI"
      },
      "source": [
        "## 0.3 Configuration\n",
        "This are the configuration parameters valid for the notebook."
      ]
    },
    {
      "cell_type": "code",
      "execution_count": 9,
      "metadata": {},
      "outputs": [
        {
          "name": "stdout",
          "output_type": "stream",
          "text": [
            "Dataset config:  {'num_examples': 90000, 'train_size': 0.65, 'test_size': 0.4, 'num_words_context': 45000, 'num_words_question': 28000, 'buffer_size': 32000, 'batch_size': 256, 'random_seed': 13}\n",
            "Model config:  {'batch_size': 64, 'enc_units': 256, 'dec_units': 256, 'max_length_context': None, 'max_length_question': None, 'dropout_rate': 0.3, 'regularizer': 0.001, 'embedding_dimension': 300, 'lr_schedule': [(15, 0.1), (23, 0.05)]}\n",
            "Paths config:  {'training_json_path': './data/squad.json', 'save_pkl_path': './data/squadv1.1.pkl', 'log_dir': './models/logs'}\n",
            "Evaluation config:  {'temperature': 0.7}\n"
          ]
        }
      ],
      "source": [
        "print(\"Dataset config: \", dataset_config)\n",
        "print(\"Model config: \", model_config)\n",
        "print(\"Paths config: \", path_config)\n",
        "print(\"Evaluation config: \", evaluation_config)"
      ]
    },
    {
      "attachments": {},
      "cell_type": "markdown",
      "metadata": {
        "id": "sFBKCIE3Jxf2"
      },
      "source": [
        "# 1. Dataset Definition\n",
        "\n",
        "Here we implement a dataset-utility class that:\n",
        "1. loads the dataset `.json` file and converts it to a `pandas.DataFrame` file, saves it to a `Pickle` file,\n",
        "2. extract the sentence that contains the answer from the context of each sample,\n",
        "3. preprocess the dataset by:\n",
        "    - clean the sentences by removing special characters and punctuactions,\n",
        "    - add to each sentence, both for the question and the context, $x$ a start of sequence `<SOS>` tag and end of sequence `<EOS>` tag,\n",
        "4. split the dataset according to the partitions defined in the configuration file,\n",
        "5. tokenize each sentence and pad them to the a specified max length, computed in order to cover about 99% of the dataset phrases' length,\n",
        "6. Pad each context to maximum length.\n",
        "\n",
        "The resulting data that will be used hereinafter will be of type `tf.data.Dataset`. By calling the `SQuAD` constructor we create a dataset handling object which will be useful for future operations."
      ]
    },
    {
      "attachments": {},
      "cell_type": "markdown",
      "metadata": {
        "id": "MvU7n1LboA6g"
      },
      "source": [
        "## 1.1 Building the dataset\n",
        "\n",
        "This is the data produced that we are most interested in. As we can see we will have:\n",
        "- a data structure `dataset` containing the training, validation and test set;\n",
        "- a tuple containing the word-to-token mappings for the training, validation and test set respectively.\n",
        "\n",
        "Note that loading the dataset will require some time."
      ]
    },
    {
      "cell_type": "code",
      "execution_count": 10,
      "metadata": {
        "colab": {
          "base_uri": "https://localhost:8080/"
        },
        "id": "Ax999y7aI75Y",
        "outputId": "b3cb0cdc-3fe4-4803-a12a-39e9ae4ef90b"
      },
      "outputs": [
        {
          "name": "stdout",
          "output_type": "stream",
          "text": [
            "File already exists! Loading from .pkl...\n",
            "\n",
            "Dir path ./data/squadv1.1.pkl\n",
            "Sentences max lenght: 102\n",
            "Questions max lenght: 27\n"
          ]
        }
      ],
      "source": [
        "# Preprocessed dataset without tokenizing\n",
        "# %%time\n",
        "dataset_creator = SQuAD()\n",
        "dataset, word_to_idx_context, word_to_idx_question = dataset_creator(dataset_config, path_config, tokenized=True)\n",
        "\n",
        "max_length_context = dataset_creator.max_length_context\n",
        "max_length_question = dataset_creator.max_length_question\n",
        "\n",
        "model_config[\"max_length_context\"] = dataset.train.element_spec[0].shape[1]\n",
        "model_config[\"max_length_question\"] = dataset.train.element_spec[1].shape[1]\n",
        "\n",
        "print(f'Sentences max lenght: {max_length_context}')\n",
        "print(f'Questions max lenght: {max_length_question}')"
      ]
    },
    {
      "cell_type": "markdown",
      "metadata": {
        "id": "W7hARM_R2Kod"
      },
      "source": [
        "Accessing such `NamedTuple` data structure (cfr `dataset`) is pretty simple, namely in a:\n",
        "1. tuple-way by accessing it like a list, e.g. `train = dataset[0]`,\n",
        "2. object-way by calling the instance parameters, e.g. `train = dataset.train`.\n",
        "\n",
        "The other two returned values are the word to index mappings for the context and question words respectively. In order to refer to a specific split simply call:\n",
        "1. for the training dataset,\n",
        "2. for the validation dataset,\n",
        "3. for the test dataset.\n",
        "\n",
        "We can see how the dataset is distributed, we have chosen to give 65% to the training set, about 20% to the validation and the remaining 15% to the test set."
      ]
    },
    {
      "cell_type": "code",
      "execution_count": 11,
      "metadata": {
        "colab": {
          "base_uri": "https://localhost:8080/"
        },
        "id": "KQ85_hoZFz1R",
        "outputId": "88743cb0-49d3-4a8d-ed9a-60a93b1e52b3"
      },
      "outputs": [
        {
          "name": "stdout",
          "output_type": "stream",
          "text": [
            "Num samples --- [Train]: 58112 [Validation]: 17152 [Test]: 11776\n"
          ]
        }
      ],
      "source": [
        "num_samples_train = dataset.train.cardinality().numpy() * dataset_config['batch_size']\n",
        "num_samples_val = dataset.val.cardinality().numpy() * dataset_config['batch_size']\n",
        "num_samples_test = dataset.test.cardinality().numpy() * dataset_config['batch_size']\n",
        "\n",
        "print(f'Num samples --- [Train]: {num_samples_train} [Validation]: {num_samples_val} [Test]: {num_samples_test}')"
      ]
    },
    {
      "cell_type": "code",
      "execution_count": 12,
      "metadata": {
        "colab": {
          "base_uri": "https://localhost:8080/"
        },
        "id": "obaRYgawxyXp",
        "outputId": "925ea6fa-fc61-4a2c-8327-c072134b8e6e"
      },
      "outputs": [
        {
          "name": "stdout",
          "output_type": "stream",
          "text": [
            "Training vocab size for the context: 52628\n",
            "Training vocab size for the question: 29191\n",
            "\n",
            "Validation vocab size for the context: 60390\n",
            "Validation vocab size for the question: 33660\n",
            "\n",
            "Test vocab size for the context: 60390\n",
            "Test vocab size for the question: 33660\n"
          ]
        }
      ],
      "source": [
        "print(f'Training vocab size for the context: {len(word_to_idx_context[0])}')\n",
        "print(f'Training vocab size for the question: {len(word_to_idx_question[0])}')\n",
        "print()\n",
        "print(f'Validation vocab size for the context: {len(word_to_idx_context[1])}')\n",
        "print(f'Validation vocab size for the question: {len(word_to_idx_question[1])}')\n",
        "print()\n",
        "print(f'Test vocab size for the context: {len(word_to_idx_context[2])}')\n",
        "print(f'Test vocab size for the question: {len(word_to_idx_question[2])}')"
      ]
    },
    {
      "cell_type": "markdown",
      "metadata": {
        "id": "8Jo7OJP_HPIF"
      },
      "source": [
        "Note that the vocabularies for the test set are not updated this is because we want to simulate how it handles tasks in the real world."
      ]
    },
    {
      "cell_type": "code",
      "execution_count": 13,
      "metadata": {
        "colab": {
          "base_uri": "https://localhost:8080/"
        },
        "id": "_EC5HkothI9t",
        "outputId": "c8518699-55e8-4422-e17a-3870ac02c137"
      },
      "outputs": [
        {
          "name": "stdout",
          "output_type": "stream",
          "text": [
            "Vocab size --- [Context]: 60390 [Question]: 33660\n"
          ]
        }
      ],
      "source": [
        "print(f'Vocab size --- [Context]: {len(word_to_idx_context[1])} [Question]: {len(word_to_idx_question[1])}')"
      ]
    },
    {
      "cell_type": "markdown",
      "metadata": {
        "id": "CisZfqquHPIF"
      },
      "source": [
        "Here below we report a simple analysis on the length of the sentences, but keep in mind that all the computations are done in the `SQuAD` class which handles the padding length accordingly."
      ]
    },
    {
      "cell_type": "code",
      "execution_count": 14,
      "metadata": {
        "colab": {
          "base_uri": "https://localhost:8080/"
        },
        "id": "7siSawSqsUvO",
        "outputId": "b550a329-3528-4b90-fa1d-805d1d01d7ea"
      },
      "outputs": [
        {
          "name": "stdout",
          "output_type": "stream",
          "text": [
            "Lenght of longest sentence in the context: 389\n",
            "Mean length in for sentences in the context: 33.75989451934383\n",
            "\n",
            "Lenght of longest sentence in the question: 62\n",
            "Mean length in for sentences in the question: 13.322275368440279\n",
            "\n"
          ]
        }
      ],
      "source": [
        "context_list = list(dataset_creator.preproc_squad_df.context)\n",
        "question_list = list(dataset_creator.preproc_squad_df.question)\n",
        "\n",
        "context_length = [len(sen.split()) for sen in context_list]\n",
        "question_length = [len(sen.split()) for sen in question_list]\n",
        "\n",
        "print(\"Lenght of longest sentence in the context: {}\".format(np.max(context_length)))\n",
        "print(\"Mean length in for sentences in the context: {}\\n\".format(np.mean(context_length)))\n",
        "\n",
        "print(\"Lenght of longest sentence in the question: {}\".format(np.max(question_length)))\n",
        "print(\"Mean length in for sentences in the question: {}\\n\".format(np.mean(question_length)))"
      ]
    },
    {
      "attachments": {},
      "cell_type": "markdown",
      "metadata": {
        "id": "kx2f7Nn_4en9"
      },
      "source": [
        "# 2. GloVe and Embeddings\n",
        "\n",
        "In order to represent terms we choose to use pre-trained GloVe embeddings. Along the same path, we also provide a method to build the embedding matrices. To represent Out-Of_Vocabulary words we will use vectors randomly sampled from the interval $[-\\frac{1}{2}, \\frac{1}{2}]$ of fixed size $d$. In this experiment we set the embedding dimension $d=300$.\n",
        "\n",
        "The next step is to initialize the handler with the desidered `embedding_dimension`. Then to build the embedding matrix with the pre-trained GloVe embeddings simply call the `build_embedding_matrix` method."
      ]
    },
    {
      "cell_type": "code",
      "execution_count": 15,
      "metadata": {
        "colab": {
          "base_uri": "https://localhost:8080/"
        },
        "id": "YUmvdCWGavSR",
        "outputId": "b942a9cf-5199-4ac3-ac07-92249425b98d"
      },
      "outputs": [
        {
          "data": {
            "application/vnd.jupyter.widget-view+json": {
              "model_id": "f4cb52fb372841b1901d623ae1d1755d",
              "version_major": 2,
              "version_minor": 0
            },
            "text/plain": [
              "  0%|          | 0/60390 [00:00<?, ?it/s]"
            ]
          },
          "metadata": {},
          "output_type": "display_data"
        },
        {
          "data": {
            "application/vnd.jupyter.widget-view+json": {
              "model_id": "97ae0a9441854635b417823916f0de0e",
              "version_major": 2,
              "version_minor": 0
            },
            "text/plain": [
              "  0%|          | 0/33660 [00:00<?, ?it/s]"
            ]
          },
          "metadata": {},
          "output_type": "display_data"
        },
        {
          "name": "stdout",
          "output_type": "stream",
          "text": [
            "CPU times: total: 484 ms\n",
            "Wall time: 975 ms\n"
          ]
        }
      ],
      "source": [
        "%%time\n",
        "# Initalize the handler for GloVe\n",
        "glove_handler = GloVe(embedding_dimension=300)\n",
        "\n",
        "# We will create the matrix by using only the words present in the training and validation set\n",
        "embedding_matrix_context, oov_words_context = glove_handler.build_embedding_matrix(\n",
        "    word_to_idx_context[2],\n",
        "    len(word_to_idx_context[2]))\n",
        "\n",
        "embedding_matrix_question, oov_words_question = glove_handler.build_embedding_matrix(\n",
        "    word_to_idx_question[2],\n",
        "    len(word_to_idx_question[2]))"
      ]
    },
    {
      "cell_type": "markdown",
      "metadata": {
        "id": "qdLOk0pQu3Iu"
      },
      "source": [
        "Convert both of them into tensor, but it is fine to also treat them as `numpy` array, still it is better to use the `tensorflow` fundamentals. We also check the shapes, but this step is not fundamental."
      ]
    },
    {
      "cell_type": "code",
      "execution_count": 16,
      "metadata": {
        "colab": {
          "base_uri": "https://localhost:8080/"
        },
        "id": "EX6PvKTBsdSW",
        "outputId": "0e6efca7-cc72-4d48-cfc9-03a9e96e2d3c"
      },
      "outputs": [
        {
          "name": "stdout",
          "output_type": "stream",
          "text": [
            "Embedding matrix for the context: (60390, 300)\n",
            "Embedding matrix for the question: (33660, 300)\n"
          ]
        }
      ],
      "source": [
        "embedding_matrix_context = tf.convert_to_tensor(embedding_matrix_context)\n",
        "embedding_matrix_question = tf.convert_to_tensor(embedding_matrix_question)\n",
        "\n",
        "print(f'Embedding matrix for the context: {embedding_matrix_context.shape}')\n",
        "print(f'Embedding matrix for the question: {embedding_matrix_question.shape}')"
      ]
    },
    {
      "cell_type": "markdown",
      "metadata": {
        "id": "FF5Rtd4uqa_k"
      },
      "source": [
        "# 3. Encoder-Decoder Definition\n",
        "\n",
        "Here comes a fundamental step in our experiment: the model defintion. Before proceeding we have to build the two main components of such model, which it resembles the Seq2Seq model presented in [Sequence to Sequence Learning with Neural Networks](https://arxiv.org/abs/1409.3215) (Sutskever et al., 2014), that are:\n",
        "1. the **Encoder**, that it creates a representation of the input context, in our case the sentence containing the answers,\n",
        "2. the **Decoder**, that tries to create a sentence given the representation provided by the Encoder by comparing the predictions it creates with an input sentence, that is our question.\n",
        "\n",
        "In this section, not only we provide a way to define such models but also some testing pipelines in order to get the just mentioned idea."
      ]
    },
    {
      "cell_type": "code",
      "execution_count": 17,
      "metadata": {
        "id": "GjdRysIvPoLc"
      },
      "outputs": [],
      "source": [
        "example_context_batch, example_question_batch = next(iter(dataset.train))"
      ]
    },
    {
      "attachments": {},
      "cell_type": "markdown",
      "metadata": {
        "id": "wjVfZgIIf1RV"
      },
      "source": [
        "## 3.1 Encoder\n",
        "We will use a bidirectional LSTM to encode the sentence,\n",
        "$$\n",
        "\\begin{align*}\n",
        "\\overrightarrow{b_t} &= \\overrightarrow{\\text{LSTM}}(x_t, \\overrightarrow{b_{t-1}})\\\\\n",
        "\\overleftarrow{b_t} &= \\overleftarrow{\\text{LSTM}}(x_t, \\overleftarrow{b_{t+1}})\\\\\n",
        "\\end{align*}\n",
        "$$\n",
        "where $\\overrightarrow{b_t}$ is the hidden state at time step $t$ for the forward pass LSTM and $\\overleftarrow{b_t}$ for the backward pass. In order to be able to pass it to the Decoder object we contenate the two hidden state produced by the two LSTMs. Here below we build an Encoder Model/Layer by exploiting the [Functional API](https://www.tensorflow.org/guide/keras/functional) by Keras.\n",
        "\n",
        "See `src.models.encoder` for more details."
      ]
    },
    {
      "attachments": {},
      "cell_type": "markdown",
      "metadata": {
        "id": "fbjSxPGcFud_"
      },
      "source": [
        "### 3.1.1 Test the encoder stack\n",
        "\n",
        "Just like we have mentioned before this subsection serves only the purpose of testing the implemented class and checking if all the shapes makes some sense at the end. Firstly we define a model configuration object that will handle the hyperparameters of the Encoder model.\n",
        "\n",
        "A simple example could be done by taking a single batch from the dataset, that is\n",
        "$$\n",
        "    X_{enc} = \\text{Encoder}(X)\n",
        "$$\n",
        "where $X \\in \\mathbb{R}^{B \\times M_c}$ is a batch of $B$ sentences long $M_c$ containg an answer to a respective question. The returned vector $X_{enc} \\in \\mathbb{R}^{B \\times M_c \\times U}$ is a batch of $B$ sentences long $M_c$, each of them encoded in a vector of size $U$. As a bi-product of using a Bi-LSTM we will also return the concatenated hidden and cell states $h$ and $c$ produced at the end."
      ]
    },
    {
      "cell_type": "code",
      "execution_count": 22,
      "metadata": {
        "colab": {
          "base_uri": "https://localhost:8080/"
        },
        "id": "_ffteDMQyzmD",
        "outputId": "6fa866f2-6110-4689-bc8e-85c41891ab0c"
      },
      "outputs": [
        {
          "name": "stdout",
          "output_type": "stream",
          "text": [
            "Encoder output shape: (batch_size, max_length_context, units): (256, 102, 256)\n",
            "Hidden state shape: (batch_size, units): (256, 256)\n",
            "Cell state shape: (batch_size, units): (256, 256)\n"
          ]
        }
      ],
      "source": [
        "# We need to encode the context, so we will pass the embedding matrix for the context\n",
        "encoder = Encoder(model_config=model_config, embedding_matrix=embedding_matrix_context)\n",
        "encoder_outputs, encoder_state = encoder(example_context_batch)\n",
        "\n",
        "hidden_state, cell_state = encoder_state\n",
        "\n",
        "print(f'Encoder output shape: (batch_size, max_length_context, units): {encoder_outputs.shape}')\n",
        "print(f'Hidden state shape: (batch_size, units): {hidden_state.shape}')\n",
        "print(f'Cell state shape: (batch_size, units): {cell_state.shape}')"
      ]
    },
    {
      "cell_type": "markdown",
      "metadata": {
        "id": "qDzclWivHPIN"
      },
      "source": [
        "Here below we print a summary of the model and also a plot to easily confirm if all the things were done properly."
      ]
    },
    {
      "cell_type": "code",
      "execution_count": 23,
      "metadata": {
        "colab": {
          "base_uri": "https://localhost:8080/"
        },
        "id": "eZ2NgqMLW3RO",
        "outputId": "ec7438cf-71b4-4c48-a946-daf70cd97ab6"
      },
      "outputs": [],
      "source": [
        "# encoder.build_graph()       # TODO: does not work\n",
        "# encoder.summary()\n",
        "# encoder.plot_model()"
      ]
    },
    {
      "cell_type": "markdown",
      "metadata": {
        "id": "JjVmUmzJb1xf"
      },
      "source": [
        "The encoder returns its internal state so that its state can be used to initialize the decoder. It's also common for a LSTM to return its state so that it can process a sequence over multiple calls."
      ]
    },
    {
      "attachments": {},
      "cell_type": "markdown",
      "metadata": {
        "id": "dtM9nOQrf3jq"
      },
      "source": [
        "## 3.2 Decoder\n",
        "\n",
        "The encoder is structured in a different way since it has to generate predictions for the next output token:\n",
        "1. the decoder uses an LSTM to process the questions and it is initialised with the encoder state,\n",
        "2. the encoder output is used as a *query* to the attention head and as the *key* the sentence processed by the LSTM, this will produce a context vector and the attention weights,\n",
        "3. the last hidden state and the context vector will be concatenated to produce the **attention vector**,\n",
        "4. generating the logit predictions for the next token time step:\n",
        "$$\n",
        "    a_t = f(c_t, h_t) = W_s(\\text{tanh}(W_c[c_t;h_t]))\n",
        "$$\n",
        "\n",
        "The model class is implemented in `src.models.layers.decoder`."
      ]
    },
    {
      "attachments": {},
      "cell_type": "markdown",
      "metadata": {
        "id": "IF5J42g1l-be"
      },
      "source": [
        "### 3.2.1 Test the decoder stack\n",
        "\n",
        "The decoder will take as input:\n",
        "1. `new_tokens`: the last token generated of shape `(batch_size, 1)`, namely the token obrained in the previous time step of the decoder (we will initialize the decoder with the `\"<sos>\"` token);\n",
        "2. `enc_output`: this is the representation produced by the `Encoder` of shape `(batch_size, max_length_context, enc_units)`;\n",
        "4. `decoder_state`: the previous state of the decoder, namely the internal state of the decoder's LSTM (the paper suggests to input the hidden and cell state produced by the Bi-LSTM). The shape is `[(batch_size, enc_units), (batch_size, enc_units)]`."
      ]
    },
    {
      "cell_type": "code",
      "execution_count": 29,
      "metadata": {
        "colab": {
          "base_uri": "https://localhost:8080/"
        },
        "id": "BF6PWsNYfmUf",
        "outputId": "f9fb1f36-fa35-4f96-a4ca-130753e49706"
      },
      "outputs": [
        {
          "name": "stdout",
          "output_type": "stream",
          "text": [
            "Logits shape: (batch_size, t, output_vocab_size) (256, 1, 33660)\n",
            "Attention weights shape: (batch_size, t, max_length_context) (256, 1, 102)\n",
            "Hidden state shape: (batch_size, dec_units) (256, 256)\n",
            "Cell state shape: (batch_size, dec_units) (256, 256)\n"
          ]
        }
      ],
      "source": [
        "decoder = Decoder(model_config=model_config, embedding_matrix=embedding_matrix_question)\n",
        "\n",
        "# Convert the target sequence, and collect the \"[START]\" tokens\n",
        "start_tag_index = word_to_idx_question[2]['<sos>']\n",
        "first_token = tf.constant([[start_tag_index]] * dataset_config['batch_size'])\n",
        "\n",
        "decoder_logits, attention_weights, decoder_state = decoder(inputs=[first_token, encoder_outputs], state=encoder_state)\n",
        "\n",
        "hidden_dec_state, cell_dec_state = decoder_state\n",
        "\n",
        "print(f'Logits shape: (batch_size, t, output_vocab_size) {decoder_logits.shape}')\n",
        "print(f'Attention weights shape: (batch_size, t, max_length_context) {attention_weights.shape}')\n",
        "print(f'Hidden state shape: (batch_size, dec_units) {hidden_dec_state.shape}')\n",
        "print(f'Cell state shape: (batch_size, dec_units) {cell_dec_state.shape}')"
      ]
    },
    {
      "cell_type": "code",
      "execution_count": 31,
      "metadata": {
        "colab": {
          "base_uri": "https://localhost:8080/"
        },
        "id": "JvSanVszYhL4",
        "outputId": "fef81bd7-76c3-4c4a-ce6d-1c5ad58950a0"
      },
      "outputs": [],
      "source": [
        "# decoder.build_graph()\n",
        "# decoder.summary()\n",
        "# decoder.plot_model()"
      ]
    },
    {
      "cell_type": "markdown",
      "metadata": {
        "id": "BBIQDE0Sl6k8"
      },
      "source": [
        "Moving on: this means that the decoder will produce a vector of unnormalized log probabilities (**logits**) associated to each vocabulary word. That is, a vector of logits $a_b \\in \\mathbb{R}^{\\mathcal{V}}$ for each element $b$ in the batch, namely indicating the next probable token for a given sentence. \n",
        "\n",
        "Now we sample a token according to the logits computed by the decoder."
      ]
    },
    {
      "cell_type": "code",
      "execution_count": 32,
      "metadata": {
        "colab": {
          "base_uri": "https://localhost:8080/"
        },
        "id": "kGGwivobvx_W",
        "outputId": "8003ee4d-c70b-4d74-9be2-ea73c271b9f9"
      },
      "outputs": [
        {
          "data": {
            "text/plain": [
              "['neonates', 'collectivism', 'xiaotingia', 'definitions', 'getaway']"
            ]
          },
          "execution_count": 32,
          "metadata": {},
          "output_type": "execute_result"
        }
      ],
      "source": [
        "sampled_tokens = tf.random.categorical(\n",
        "    logits=decoder_logits[:, 0, :],\n",
        "    num_samples=1, \n",
        "    seed=dataset_config['random_seed'])\n",
        "vocab = np.array(list(word_to_idx_question[2].keys()))\n",
        "\n",
        "first_word = list(vocab[tf.squeeze(sampled_tokens, axis=-1).numpy()])\n",
        "first_word[:5]"
      ]
    },
    {
      "cell_type": "markdown",
      "metadata": {
        "id": "O17BWR6mHPIT"
      },
      "source": [
        "We run it in order to produce another token, based on the previous predictions."
      ]
    },
    {
      "cell_type": "code",
      "execution_count": 33,
      "metadata": {
        "colab": {
          "base_uri": "https://localhost:8080/"
        },
        "id": "Y2ixRaJZn271",
        "outputId": "619fdda3-5335-48f9-fadb-e48a6fda74a7"
      },
      "outputs": [
        {
          "data": {
            "text/plain": [
              "['haykal', 'borane', 'too', 'reduce', 'isomorphic']"
            ]
          },
          "execution_count": 33,
          "metadata": {},
          "output_type": "execute_result"
        }
      ],
      "source": [
        "decoder_logits, _, _ = decoder([sampled_tokens, encoder_outputs], state=decoder_state)\n",
        "\n",
        "sampled_tokens = tf.random.categorical(\n",
        "    logits=decoder_logits[:, 0, :],\n",
        "    num_samples=1,\n",
        "    seed=dataset_config['random_seed'])\n",
        "sampled_tokens = tf.squeeze(sampled_tokens, axis=-1).numpy()\n",
        "\n",
        "first_word = list(vocab[sampled_tokens])\n",
        "first_word[:5]"
      ]
    },
    {
      "cell_type": "markdown",
      "metadata": {
        "id": "U8xwVgulXUab"
      },
      "source": [
        "Let's visualize the weights."
      ]
    },
    {
      "cell_type": "code",
      "execution_count": 38,
      "metadata": {
        "colab": {
          "base_uri": "https://localhost:8080/",
          "height": 0
        },
        "id": "JtJrZ7UeWac-",
        "outputId": "0ca942d1-1062-4533-a2fe-0747ae74f37d"
      },
      "outputs": [
        {
          "data": {
            "image/png": "[encoded data removed]",
            "text/plain": [
              "<Figure size 432x288 with 2 Axes>"
            ]
          },
          "metadata": {
            "needs_background": "light"
          },
          "output_type": "display_data"
        }
      ],
      "source": [
        "plt.subplot(1, 2, 1)\n",
        "plt.pcolormesh(attention_weights[:, 0, :])\n",
        "plt.title('Attention weights')\n",
        "\n",
        "plt.subplot(1, 2, 2)\n",
        "plt.pcolormesh(example_context_batch != 0)\n",
        "plt.title('Mask')\n",
        "plt.show()"
      ]
    },
    {
      "cell_type": "markdown",
      "metadata": {
        "id": "wjc7zQkDY19Y"
      },
      "source": [
        "Let's visualize the weights for only one sequence."
      ]
    },
    {
      "cell_type": "code",
      "execution_count": 39,
      "metadata": {
        "colab": {
          "base_uri": "https://localhost:8080/",
          "height": 0
        },
        "id": "XwTgLXw0YjQ1",
        "outputId": "992cea7c-35aa-46fb-b67c-e3767314f54d"
      },
      "outputs": [
        {
          "data": {
            "text/plain": [
              "<Figure size 432x288 with 0 Axes>"
            ]
          },
          "metadata": {},
          "output_type": "display_data"
        },
        {
          "data": {
            "image/png": "[encoded data removed]",
            "text/plain": [
              "<Figure size 864x432 with 2 Axes>"
            ]
          },
          "metadata": {
            "needs_background": "light"
          },
          "output_type": "display_data"
        }
      ],
      "source": [
        "attention_slice = attention_weights[0, 0].numpy()\n",
        "attention_slice = attention_slice[attention_slice != 0]\n",
        "\n",
        "plt.suptitle('Attention weights for one sequence')\n",
        "\n",
        "plt.figure(figsize=(12, 6))\n",
        "a1 = plt.subplot(1, 2, 1)\n",
        "plt.bar(range(len(attention_slice)), attention_slice)\n",
        "# freeze the xlim\n",
        "plt.xlim(plt.xlim())\n",
        "plt.xlabel('Attention weights')\n",
        "\n",
        "a2 = plt.subplot(1, 2, 2)\n",
        "plt.bar(range(len(attention_slice)), attention_slice)\n",
        "plt.xlabel('Attention weights, zoomed')\n",
        "\n",
        "# zoom in\n",
        "top = max(a1.get_ylim())\n",
        "zoom = 0.85*top\n",
        "a2.set_ylim([0.90*top, top])\n",
        "a1.plot(a1.get_xlim(), [zoom, zoom], color='k')\n",
        "\n",
        "plt.show()"
      ]
    },
    {
      "cell_type": "markdown",
      "metadata": {
        "id": "qIoySQKuIGlc"
      },
      "source": [
        "# 4. Question Generation Model\n",
        "\n",
        "In this section we will build the model used for training."
      ]
    },
    {
      "cell_type": "markdown",
      "metadata": {
        "id": "0imUvBAg14Ep"
      },
      "source": [
        "## 4.1 Tensorboard initialization"
      ]
    },
    {
      "cell_type": "markdown",
      "metadata": {
        "id": "PCyECPRVWmQD"
      },
      "source": [
        "Remember to clear any logs from previous runs."
      ]
    },
    {
      "cell_type": "code",
      "execution_count": 36,
      "metadata": {
        "id": "WOeZd4tdVvDR"
      },
      "outputs": [],
      "source": [
        "!rm -rf ./logs/"
      ]
    },
    {
      "cell_type": "markdown",
      "metadata": {
        "id": "qr26qMjV1gcR"
      },
      "source": [
        "Set up summary writers to write the summaries to disk in a different logs directory."
      ]
    },
    {
      "cell_type": "code",
      "execution_count": 37,
      "metadata": {
        "id": "dcxRteAC1fcv"
      },
      "outputs": [],
      "source": [
        "log_dir = './logs'\n",
        "\n",
        "current_time = datetime.datetime.now().strftime(\"%Y%m%d-%H%M%S\")\n",
        "train_log_dir = log_dir + '/gradient_tape/' + current_time + '/train'\n",
        "test_log_dir = log_dir + '/gradient_tape/' + current_time + '/test'\n",
        "train_summary_writer = tf.summary.create_file_writer(train_log_dir)\n",
        "test_summary_writer = tf.summary.create_file_writer(test_log_dir)"
      ]
    },
    {
      "cell_type": "markdown",
      "metadata": {
        "id": "qyRA2RxZNsx4"
      },
      "source": [
        "## 4.2 Loss\n",
        "\n",
        "The **QG** task is defined as finding $\\hat{y}$ such that:\n",
        "$$\n",
        "\\hat{y} = \\arg{\\max_y P(y|x)}  \n",
        "$$\n",
        "where $P(y|x)$ is the conditional log-likelihood of the predicted question sentence $y$ given the input $x$. Du et al. shown that the conditional probability could be factorized in:\n",
        "$$\n",
        "P(y|x) = \\prod_{t=1}^{|y|} P(y_t|x, y_{<t})\n",
        "$$\n",
        "where the probability of each $y_t$ is predicted based on all the words that have been generated upon time $t$, namely $y_{<t}$.\n",
        "\n",
        "This means that given a training corpus of sentence-question pairs $\\mathcal{S} = \\{(x^{(i)}, y^{(i)})\\}_{i=1}^N$, the objective is to minimize the negative log-likelihood:\n",
        "$$\n",
        "\\begin{align*}\n",
        "\\mathcal{L} &= - \\sum_{i=1}^N \\log P(y^{(i)}|x^{(i)}; \\theta)\\\\\n",
        "            &=  - \\sum_{i=1}^N \\sum_{j=1}^{|y^{(i)}|} \\log P (y_j^{(i)}|x^{(i)}, y_{<j}^{(i)}; \\theta)\n",
        "\\end{align*}\n",
        "$$\n",
        "We parameterize the probability of decoding each word $y_j$ by using an RNN:\n",
        "$$\n",
        "P(y_j|y_{<j}, s) = \\text{softmax}(g(h_j))\n",
        "$$\n",
        "where $g(.)$ is a transition function that outputs a vocabulary-sized vector.\n",
        "\n",
        "For more information see [here](https://stackoverflow.com/questions/47057361/how-do-i-mask-a-loss-function-in-keras-with-the-tensorflow-backend)."
      ]
    },
    {
      "cell_type": "code",
      "execution_count": 38,
      "metadata": {
        "id": "IP_UunM3MUtF"
      },
      "outputs": [],
      "source": [
        "class MaskedLoss(tf.keras.losses.Loss):\n",
        "  def __init__(self):\n",
        "    self.name = 'masked_loss'\n",
        "    self.loss = tf.keras.losses.SparseCategoricalCrossentropy(\n",
        "        from_logits=True, reduction='none')\n",
        "\n",
        "  def __call__(self, y_true, y_pred):\n",
        "    # Calculate the loss for each item in the batch.\n",
        "    loss = self.loss(y_true, y_pred) \n",
        "\n",
        "    # Mask off the losses on padding.\n",
        "    mask = tf.cast(y_true != 0, tf.float32)\n",
        "    loss *= mask\n",
        "\n",
        "    # Sum the loss over the batch since reduction is set to NONE\n",
        "    loss = tf.reduce_sum(loss)\n",
        "    return loss"
      ]
    },
    {
      "cell_type": "markdown",
      "metadata": {
        "id": "8WOVZj966EPP"
      },
      "source": [
        "## 4.3 Training metrics\n",
        "\n",
        "The metrics used during training will be:\n",
        "1. **perplexity**, that is defined as $e^{H(p,q)}$ where $H(p,q)$ is the cross-entropy between $p$, that is the ground truth (labels), and $q$, that are unscaled probabilities distributions (logits), \n",
        "2. **masked accuracy**, namely an accuracy computed only on tokens which are not `<pad>`.\n",
        "\n",
        "They will be implemented by exploiting the `Metric` object in `tensorflow`. See [here](https://www.tensorflow.org/api_docs/python/tf/keras/metrics/Metric) for more."
      ]
    },
    {
      "cell_type": "code",
      "execution_count": 39,
      "metadata": {
        "id": "xbK72c5r6LWP"
      },
      "outputs": [],
      "source": [
        "class Perplexity(tf.keras.metrics.Metric):\n",
        "  def __init__(self, name='perplexity', **kwargs):\n",
        "    super(Perplexity, self).__init__(name=name, **kwargs)\n",
        "    self.scores = self.add_weight(name='perplexity_scores', initializer='zeros')\n",
        "\n",
        "  def update_state(self, loss):\n",
        "    \"\"\"\n",
        "    Reference :- https://www.surgehq.ai/blog/how-good-is-your-chatbot-an-introduction-to-perplexity-in-nlp\n",
        "    \"\"\"\n",
        "    self.scores.assign(tf.exp(loss))\n",
        "\n",
        "  def result(self): return self.scores\n",
        "  def reset_state(self): self.scores.assign(0)\n",
        "\n",
        "# Also the accuracy should mask the padding\n",
        "class MaskedAccuracy(tf.keras.metrics.Metric):\n",
        "  def __init__(self, name='masked_accuracy',**kwargs):\n",
        "    super(MaskedAccuracy, self).__init__(name=name, **kwargs)\n",
        "    self.scores = self.add_weight(name='accuracy_scores', initializer='zeros')\n",
        "\n",
        "  def update_state(self, y_true, y_pred, sample_weight=None):\n",
        "    # We mask since we are not interested in the final accuracy score with the padding\n",
        "    mask = tf.cast(tf.math.greater(y_true, 0), dtype=tf.float32)\n",
        "\n",
        "    correct = tf.cast(tf.math.equal(y_true, y_pred), dtype=tf.float32)\n",
        "    correct = tf.math.reduce_sum(mask * correct)\n",
        "    total_legit = tf.math.reduce_sum(mask)\n",
        "\n",
        "    self.scores.assign(correct / total_legit)\n",
        "\n",
        "  def result(self): return self.scores\n",
        "  def reset_state(self): self.scores.assign(0)"
      ]
    },
    {
      "cell_type": "markdown",
      "metadata": {
        "id": "LsdTOIHxEphh"
      },
      "source": [
        "## 4.4 Callbacks"
      ]
    },
    {
      "cell_type": "code",
      "execution_count": 40,
      "metadata": {
        "id": "cEuSPhHf0aZs"
      },
      "outputs": [],
      "source": [
        "class GetEpochNumber(tf.keras.callbacks.Callback):\n",
        "  def __init__(self, **kwargs) -> None:\n",
        "    super(GetEpochNumber, self).__init__(**kwargs)\n",
        "\n",
        "  def on_epoch_end(self, epoch, logs=None):\n",
        "    self.model.epoch_number.assign_add(delta=1)\n",
        "\n",
        "class BatchLogs(tf.keras.callbacks.Callback):\n",
        "  def __init__(self, key) -> None:\n",
        "    self.key = key\n",
        "    self.logs = []\n",
        "\n",
        "  def on_train_batch_ends(self, n, logs):\n",
        "    self.logs.append(logs[self.key])\n",
        "\n",
        "class CustomLearningRateScheduler(keras.callbacks.Callback):\n",
        "  \"\"\"Learning rate scheduler which sets the learning rate according to schedule.\n",
        "\n",
        "  Arguments:\n",
        "      schedule: a function that takes an epoch index (integer, indexed from 0) \n",
        "        and current learning rate as inputs and returns a new learning rate \n",
        "        as output (float).\n",
        "  \"\"\"\n",
        "  def __init__(self):\n",
        "    super(CustomLearningRateScheduler, self).__init__()\n",
        "    self.schedule = self.lr_schedule\n",
        "\n",
        "    self.LR_SCHEDULE = [\n",
        "      # (epoch to start, learning rate) tuples\n",
        "      (15, 1e-1),\n",
        "      (23, 5e-2),\n",
        "      # (12, 5e-5),\n",
        "      # (14, 1e-5),\n",
        "        ]\n",
        "\n",
        "  def on_epoch_begin(self, epoch, logs=None):\n",
        "    if not hasattr(self.model.optimizer, \"lr\"):\n",
        "        raise ValueError('Optimizer must have a \"lr\" attribute.')\n",
        "    # Get the current learning rate from model's optimizer.\n",
        "    lr = float(tf.keras.backend.get_value(self.model.optimizer.learning_rate))\n",
        "    \n",
        "    # Call schedule function to get the scheduled learning rate.\n",
        "    scheduled_lr = self.schedule(epoch, lr)\n",
        "    \n",
        "    # Set the value back to the optimizer before this epoch starts\n",
        "    tf.keras.backend.set_value(self.model.optimizer.lr, scheduled_lr)\n",
        "    print(f\"\\nEpoch {epoch+1}: Learning rate is {scheduled_lr}.\" )\n",
        "\n",
        "  def lr_schedule(self, epoch, lr):\n",
        "    \"\"\"\n",
        "    Helper function to retrieve the scheduled learning rate based on epoch.\n",
        "    \"\"\"\n",
        "    if epoch < self.LR_SCHEDULE[0][0] or epoch > self.LR_SCHEDULE[-1][0]:\n",
        "        return lr\n",
        "    for i in range(len(self.LR_SCHEDULE)):\n",
        "        if epoch == self.LR_SCHEDULE[i][0]:\n",
        "            return self.LR_SCHEDULE[i][1]\n",
        "    return lr\n",
        "\n",
        "# Initialize the callbacks\n",
        "batch_loss = BatchLogs('batch_loss')\n",
        "perplexity = BatchLogs('perplexity')\n",
        "accuracy = BatchLogs('accuracy')\n",
        "lr_scheduler = CustomLearningRateScheduler()\n",
        "epoch_counter = GetEpochNumber()\n",
        "tensorboard_callback = tf.keras.callbacks.TensorBoard(log_dir=log_dir, histogram_freq=1)\n",
        "early_stopping = tf.keras.callbacks.EarlyStopping(monitor='val_perplexity', \n",
        "                                                  patience=3, \n",
        "                                                  mode='min', \n",
        "                                                  restore_best_weights=True) "
      ]
    },
    {
      "cell_type": "markdown",
      "metadata": {
        "id": "iwLiPsCyNuor"
      },
      "source": [
        "## 4.5 Trainer Model definition\n",
        "\n",
        "The training step should:\n",
        "1. Run the encoder on the `input_tokens` to get the `encoder_outputs`, `hidden_state` and `cell_state`. \n",
        "\n",
        "... complete"
      ]
    },
    {
      "cell_type": "code",
      "execution_count": 41,
      "metadata": {
        "id": "hx8wGohrshe9"
      },
      "outputs": [],
      "source": [
        "class CustomMasking(Layer):\n",
        "    def __init__(self, mask_value=0, **kwargs):\n",
        "        super(CustomMasking, self).__init__(**kwargs)\n",
        "        self.supports_masking = True\n",
        "        self.mask_value = mask_value\n",
        "        self._compute_output_and_mask_jointly = True\n",
        "\n",
        "    def compute_mask(self, inputs, mask=None):\n",
        "        return tf.math.reduce_any(tf.math.not_equal(inputs, self.mask_value), \n",
        "                                  axis=list(range(2, len(inputs.shape))))\n",
        "\n",
        "    def call(self, inputs):\n",
        "        axes = list(range(2, len(inputs.shape)))\n",
        "        boolean_mask = tf.math.reduce_any(tf.math.not_equal(inputs, self.mask_value),\n",
        "                             axis=axes, keepdims=True)\n",
        "        outputs = inputs * tf.cast(boolean_mask, inputs.dtype)\n",
        "        # Compute the mask and outputs simultaneously.\n",
        "        outputs._keras_mask = tf.squeeze(boolean_mask, axis=axes)  # pylint: disable=protected-access\n",
        "        return outputs\n",
        "\n",
        "    def compute_output_shape(self, input_shape):\n",
        "        return input_shape\n",
        "\n",
        "    def get_config(self):\n",
        "        config = {'mask_value': self.mask_value}\n",
        "        base_config = super(tf.keras.layers.Masking, self).get_config()\n",
        "        return dict(list(base_config.items()) + list(config.items()))"
      ]
    },
    {
      "cell_type": "code",
      "execution_count": 42,
      "metadata": {
        "cellView": "code",
        "id": "8xSn_StMq9cx"
      },
      "outputs": [],
      "source": [
        "class QGModel(tf.keras.Model):\n",
        "  def __init__(self, model_config, embedding_matrix_context, embedding_matrix_question, **kwargs):\n",
        "    \"\"\"\n",
        "    Prepare the model for the training. It builds the both the encoder and the decoder by\n",
        "    exploiting the tf.keras.Model Sub-Classing API.\n",
        "    Also it defines a wrapper to use the tf.function compilation for the tensorflow computational\n",
        "    graph.\n",
        "    \"\"\"\n",
        "    super(QGModel, self).__init__(**kwargs)\n",
        "    self.context_input = Input(shape=(model_config['max_length_context']), batch_size=model_config['batch_size'])\n",
        "    self.question_input = Input(shape=(model_config['max_length_question']), batch_size=model_config['batch_size'])\n",
        "    self.masking = CustomMasking(mask_value=0)\n",
        "    self.encoder = Encoder(model_config=model_config, embedding_matrix=embedding_matrix_context)\n",
        "    self.decoder = Decoder(model_config=model_config, embedding_matrix=embedding_matrix_question)\n",
        "\n",
        "    # Attributes\n",
        "    self.max_length_question = model_config['max_length_question']\n",
        "    self.batch_size = model_config['batch_size']\n",
        "\n",
        "    # Performance metrics\n",
        "    self.train_accuracy = tf.keras.metrics.Accuracy()\n",
        "    self.train_accuracy_sentence = MaskedAccuracy()\n",
        "    self.test_accuracy = tf.keras.metrics.Accuracy()\n",
        "    self.test_accuracy_sentence = MaskedAccuracy()\n",
        "    self.train_perplexity = Perplexity()\n",
        "    self.test_perplexity = Perplexity()\n",
        "\n",
        "    # Loss tracker, resets at the beginning of each epoch\n",
        "    self.train_loss_tracker = tf.keras.metrics.Mean(name='loss')\n",
        "    self.test_loss_tracker = tf.keras.metrics.Mean(name='loss')\n",
        "\n",
        "  @property\n",
        "  def metrics(self):\n",
        "    # We list our `Metric` objects here so that `reset_states()` can be called \n",
        "    # automatically at the start of each epoch or at the start of `evaluate()`.\n",
        "    # If you don't implement this property, you have to call # `reset_states()` \n",
        "    # yourself at the time of your choosing.\n",
        "    return [self.train_loss_tracker, self.train_accuracy, self.train_perplexity, self.train_accuracy_sentence,\n",
        "            self.test_loss_tracker, self.test_accuracy, self.test_perplexity, self.test_accuracy_sentence]\n",
        "\n",
        "  def call(self, inputs, training=False):\n",
        "    \"\"\"\n",
        "    It performs a forward pass. Calls the model on new inputs and returns the outputs as tensors.\n",
        "    \"\"\"\n",
        "    context, question = inputs\n",
        "\n",
        "    context = self.masking(context)\n",
        "    question = self.masking(question)\n",
        "\n",
        "    # We collect the question predicted by the decoder, the first character is the starting token\n",
        "    y_pred = tf.fill([self.batch_size, 1], question[0][0])\n",
        "    \n",
        "    # Keep a loss tracking value\n",
        "    if training:\n",
        "      self.train_loss_tracker.reset_state()\n",
        "    else:\n",
        "      self.test_loss_tracker.reset_state()\n",
        "    \n",
        "    # Set the loss \n",
        "    loss = tf.constant(0.0)\n",
        "    \n",
        "    # Encode the input, that is the context\n",
        "    encoder_outputs, encoder_state = self.encoder(context, training=training)\n",
        "\n",
        "    # The decoder should be initialized with the encoder last state \n",
        "    decoder_state = encoder_state\n",
        "\n",
        "    t = 0\n",
        "    # We have to run the decoder for all the length of the question \n",
        "    while t < (self.max_length_question - 1):\n",
        "      # We have to pass two tokens:\n",
        "      #   1. the token at time step t, namely the token in which we need to start run the decoder \n",
        "      #   2. the token at time step t+1, that is the next token in the sequence that needs to be compared with\n",
        "      # Note that: at the start of the question the new_token will be start-of-seq tag\n",
        "      new_token = tf.gather(question, t, axis=1)\n",
        "      target_token = tf.gather(question, t+1, axis=1)\n",
        "\n",
        "      # Here we call the decoder in order to produce the token at time step t+1, it returns,\n",
        "      #   1. the partial loss for the predicted token,\n",
        "      #   2. the new decoder state,\n",
        "      #   3. the predicted token at time step t+1\n",
        "      step_loss, decoder_state, token_pred = self.step_decoder(\n",
        "          (new_token, target_token),\n",
        "          encoder_outputs,\n",
        "          decoder_state, \n",
        "          training=training)\n",
        "      \n",
        "      # Concatenate the predicted token to the already obtained question\n",
        "      y_pred = tf.concat([y_pred, token_pred], axis=1)\n",
        "\n",
        "      # Each partial loss contributes to the total loss\n",
        "      loss = loss + step_loss\n",
        "      t = t + 1\n",
        "\n",
        "    # Since we have computed a cumulated partial scores of the losses produced \n",
        "    # at each decoder step we then average for the number of elements that are \n",
        "    # not padding\n",
        "    loss = loss / tf.math.reduce_sum(tf.cast(question != 0, dtype=loss.dtype))\n",
        "\n",
        "    return y_pred, loss\n",
        "  \n",
        "  def step_decoder(self, tokens, encoder_outputs, decoder_state, training):\n",
        "    \"\"\"\n",
        "    Run a single iteration of the decoder and computers the incremental loss between the\n",
        "    produced token and the token in the target input.\n",
        "    \"\"\"\n",
        "    new_token = tokens[0]\n",
        "    \n",
        "    # Run the decoder one time, this will return the logits for the token at timestep t+1 for the entire batch\n",
        "    decoder_logits, _, decoder_state = self.decoder([new_token, encoder_outputs], state=decoder_state, training=training)\n",
        "  \n",
        "    y_true = tf.expand_dims(tokens[1], axis=1)\n",
        "    y_pred = decoder_logits\n",
        "\n",
        "    # Compare the produced logits with the true token\n",
        "    step_loss = self.loss(y_true=y_true, y_pred=y_pred)\n",
        "\n",
        "    # Greedily extract the word that has the maximum value in the produced logits\n",
        "    y_pred = tf.cast(tf.math.argmax(y_pred, axis=-1), dtype=tf.int64)\n",
        "\n",
        "    if training:\n",
        "      self.train_accuracy.update_state(y_true=y_true, y_pred=y_pred, sample_weight=tf.cast((y_true != 0), tf.int32))\n",
        "    else:\n",
        "      self.test_accuracy.update_state(y_true=y_true, y_pred=y_pred, sample_weight=tf.cast((y_true != 0), tf.int32))\n",
        "\n",
        "    return step_loss, decoder_state, y_pred\n",
        "  \n",
        "  @tf.function\n",
        "  def train_step(self, inputs):\n",
        "    \"\"\"\n",
        "    Optimization step for a batch.\n",
        "    \"\"\"\n",
        "    context, question = inputs\n",
        "    with tf.GradientTape() as tape:\n",
        "      # Computes the forward pass: it returns the predicted question and the loss value averaged over the batch\n",
        "      y_pred, loss = self(inputs, training=True)\n",
        "\n",
        "    self.train_loss_tracker.update_state(loss)\n",
        "\n",
        "    # Compute gradients\n",
        "    tr_variables = self.trainable_variables\n",
        "    grads = tape.gradient(loss, tr_variables)\n",
        "\n",
        "    # Apply some clipping (by norm) as done in the paper and update the weights\n",
        "    ads = [tf.clip_by_norm(g, 5.0) for g in grads]\n",
        "    self.optimizer.apply_gradients(zip(grads, tr_variables))\n",
        "\n",
        "    # Compute metrics\n",
        "    self.train_perplexity.update_state(loss)\n",
        "    self.train_accuracy_sentence.update_state(y_true=question, y_pred=y_pred)\n",
        "\n",
        "    return {m.name: m.result() for m in self.metrics[:4]}\n",
        "\n",
        "  @tf.function\n",
        "  def test_step(self, inputs):\n",
        "    \"\"\"\n",
        "    The logic for one evaluation step. This function should contain the mathematical logic \n",
        "    for one step of evaluation. This typically includes the forward pass, \n",
        "    loss calculation, and metrics updates.\n",
        "\n",
        "    Called when at each epoch's end to validate on the validation data given.\n",
        "    \"\"\"\n",
        "    context, question = inputs\n",
        "\n",
        "    context = self.masking(context)\n",
        "    question = self.masking(question)\n",
        "\n",
        "    # Computes a forward pass with training set to False\n",
        "    y_pred, loss = self(inputs, training=False)\n",
        "    self.test_loss_tracker.update_state(loss)\n",
        "\n",
        "    # Compute metrics\n",
        "    self.test_perplexity.update_state(loss)\n",
        "    self.test_accuracy_sentence.update_state(y_true=question, y_pred=y_pred)\n",
        "\n",
        "    return {m.name: m.result() for m in self.metrics[4:]}\n",
        "\n",
        "  # # # Reference :- https://stackoverflow.com/questions/61427583/how-do-i-plot-a-keras-tensorflow-subclassing-api-model\n",
        "  def build_graph(self):\n",
        "    return tf.keras.Model(inputs=[self.context_input, self.question_input], outputs=self.call([self.context_input, self.question_input]))\n",
        "  \n",
        "  def plot_model(self):\n",
        "    return tf.keras.utils.plot_model(\n",
        "        self.build_graph(),               \n",
        "        show_shapes=True, \n",
        "        show_layer_names=True,  \n",
        "        expand_nested=True                       \n",
        "    )\n",
        "\n",
        "\n",
        "# Utility function in order to build the compiled model\n",
        "def build_model(model_config,\n",
        "                embedding_matrix_context, \n",
        "                embedding_matrix_question, \n",
        "                compile_info):\n",
        "  print(\"Model Configuration \\nParameters: {}\".format(model_config))\n",
        "  print(\"Compile \\nParameters: {}\".format(compile_info))\n",
        "  model = QGModel(model_config,\n",
        "                  embedding_matrix_context=embedding_matrix_context,\n",
        "                  embedding_matrix_question=embedding_matrix_question)\n",
        "  \n",
        "  model.compile(**compile_info)\n",
        "  return model"
      ]
    },
    {
      "cell_type": "markdown",
      "metadata": {
        "id": "fF8BfykX5faH"
      },
      "source": [
        "# 5. Train the model"
      ]
    },
    {
      "cell_type": "markdown",
      "metadata": {
        "id": "BEW5hmQMhgyM"
      },
      "source": [
        "## 5.1 Keras Tuner "
      ]
    },
    {
      "cell_type": "code",
      "execution_count": 43,
      "metadata": {
        "id": "QhcBal1Lhnen"
      },
      "outputs": [],
      "source": [
        "import keras_tuner as kt\n",
        "\n",
        "if keras_tuner:  \n",
        "  # Max epochs for the KerasTuner\n",
        "  epochs_tuning = 20\n",
        "\n",
        "  # Batch size used\n",
        "\n",
        "  # tune the hyperparameters of the possible choices\n",
        "  tuner = kt.Hyperband(lambda hp: build_model(embedding_matrix_context=embedding_matrix_context,\n",
        "                                              embedding_matrix_question=embedding_matrix_question, \n",
        "                                              model_config={\n",
        "                                                  'batch_size': hp.Choice('batch_size', [128]),\n",
        "                                                  \"dropout_rate\": hp.Choice('dropout_rate', [0.3]),\n",
        "                                                  \"regularizer\": hp.Choice(\"regularizer\", [1e-2, 1e-3]),\n",
        "                                                  \"enc_units\":  hp.Choice('units', [150, 300]),\n",
        "                                                  \"dec_units\": hp.Choice('units', [150, 300]),\n",
        "                                                  'max_length_context': dataset.train.element_spec[0].shape[1],\n",
        "                                                  'max_length_question': dataset.train.element_spec[1].shape[1],  \n",
        "                                              }, \n",
        "                                              compile_info={\n",
        "                                                  'loss': MaskedLoss(),\n",
        "                                                  'optimizer': keras.optimizers.Adam(learning_rate=hp.Choice('learning_rate', [1e-3, 5e-4, 1e-4])),  \n",
        "                                              }),\n",
        "                      objective=kt.Objective(\"val_perplexity\", direction=\"min\"),\n",
        "                      max_epochs=epochs_tuning,\n",
        "                      overwrite=True,\n",
        "                      directory=\"tuner\",\n",
        "                      project_name=\"tuner_qg\"\n",
        "                      )\n",
        "\n",
        "  tuner.search_space_summary()\n",
        "\n",
        "  #stop_early = tf.keras.callbacks.EarlyStopping(monitor='val_accuracy', patience=5, mode=\"max\", restore_best_weights=True)\n",
        "\n",
        "  tuner.search( dataset.train, \n",
        "                validation_data = dataset.val,\n",
        "                epochs=epochs_tuning,\n",
        "                callbacks = [tf.keras.callbacks.EarlyStopping(monitor='val_perplexity', \n",
        "                                                  patience=5, \n",
        "                                                  mode='max', \n",
        "                                                  restore_best_weights=True)] )\n",
        "  best_hps = tuner.get_best_hyperparameters()[0]\n",
        "\n",
        "  print(f\"The hyperparameter search is complete.\\n\" \n",
        "        f\"The optimal regualizer rate is: {best_hps.get('batch_size')}.\\n\" \n",
        "        f\"The optimal regualizer rate is: {best_hps.get('regularizer')}.\\n\" \n",
        "        f\"The optimal rate for Dropout layer is: {best_hps.get('dropout_rate')}.\\n\"\n",
        "        f\"The optimal number of units is: {best_hps.get('enc_units')}.\\n\"\n",
        "        f\"The optimal learning rate for the optimizer is: {best_hps.get('learning_rate')}.\")"
      ]
    },
    {
      "cell_type": "markdown",
      "metadata": {
        "id": "Za1zIzi4hkki"
      },
      "source": [
        "## 5.2 Fine Tuning"
      ]
    },
    {
      "cell_type": "code",
      "execution_count": 48,
      "metadata": {
        "id": "pVVLn9bMs2P3"
      },
      "outputs": [],
      "source": [
        "def train_model(model,\n",
        "                dataset: NamedTuple,\n",
        "                training_info):\n",
        "    \"\"\"\n",
        "    Training routine for the Keras model.\n",
        "    At the end of the training, retrieved History data is shown.\n",
        "\n",
        "    :param model: Keras built model\n",
        "    :param dataset: the split dataset\n",
        "    :param training_info: dictionary storing model fit() argument information\n",
        "\n",
        "    :return\n",
        "        model: trained Keras model\n",
        "    \"\"\"\n",
        "    print(\"Start training \\nParameters: {}\".format(training_info))\n",
        "    history = model.fit(dataset.train,\n",
        "                        validation_data=dataset.val,\n",
        "                        **training_info)\n",
        "    print(\"Training completed\")\n",
        "    return history, model"
      ]
    },
    {
      "cell_type": "code",
      "execution_count": 55,
      "metadata": {
        "colab": {
          "base_uri": "https://localhost:8080/"
        },
        "id": "kVEf6VZIYbgw",
        "outputId": "70c17bee-af02-4728-d782-169a68864f6e"
      },
      "outputs": [
        {
          "name": "stdout",
          "output_type": "stream",
          "text": [
            "Model Configuration \n",
            "Parameters: {'batch_size': 256, 'enc_units': 512, 'dec_units': 512, 'max_length_context': 102, 'max_length_question': 27, 'dropout_rate': 0.3, 'regularizer': 0.01}\n",
            "Compile \n",
            "Parameters: {'loss': <__main__.MaskedLoss object at 0x7f731e7d97d0>, 'optimizer': <keras.optimizer_v2.adam.Adam object at 0x7f731e7d92d0>}\n"
          ]
        }
      ],
      "source": [
        "training_info = {\n",
        "    'verbose': 1,\n",
        "    'epochs': 20,\n",
        "    'batch_size': dataset_config['batch_size'],\n",
        "    'callbacks': [\n",
        "                  batch_loss,\n",
        "                  perplexity,\n",
        "                  accuracy,\n",
        "                  # lr_scheduler,\n",
        "                  # tensorboard_callback,\n",
        "                  # epoch_counter,\n",
        "                  early_stopping\n",
        "                  ],\n",
        "}\n",
        "\n",
        "model_config = {\n",
        "    'batch_size': dataset_config['batch_size'],\n",
        "    'enc_units': 512,\n",
        "    'dec_units': 512,\n",
        "    'max_length_context': dataset_creator.max_length_context,\n",
        "    'max_length_question': dataset_creator.max_length_question,\n",
        "    'dropout_rate': 0.3,\n",
        "    'regularizer': 1e-2,\n",
        "}\n",
        "\n",
        "compile_info = {\n",
        "    'loss': MaskedLoss(),\n",
        "    'optimizer': keras.optimizers.Adam(learning_rate=1e-5)}\n",
        "\n",
        "qg_model = build_model(model_config, embedding_matrix_context, embedding_matrix_question, compile_info)"
      ]
    },
    {
      "cell_type": "code",
      "execution_count": 56,
      "metadata": {
        "colab": {
          "base_uri": "https://localhost:8080/"
        },
        "id": "ys97OwVn61UT",
        "outputId": "85dd78b8-1586-49ed-daa1-480b62e51bf2"
      },
      "outputs": [
        {
          "name": "stdout",
          "output_type": "stream",
          "text": [
            "Start training \n",
            "Parameters: {'verbose': 1, 'epochs': 20, 'batch_size': 256, 'callbacks': [<__main__.BatchLogs object at 0x7f7700f3ce90>, <__main__.BatchLogs object at 0x7f76d70ad310>, <__main__.BatchLogs object at 0x7f76d70fc510>, <keras.callbacks.EarlyStopping object at 0x7f76de142750>]}\n",
            "Epoch 1/20\n",
            "227/227 [==============================] - 311s 990ms/step - loss: 6.4304 - accuracy: 0.0877 - perplexity: 620.4119 - masked_accuracy: 0.1500 - val_loss: 6.3300 - val_accuracy: 0.0796 - val_perplexity: 561.1346 - val_masked_accuracy: 0.1508\n",
            "Epoch 2/20\n",
            "227/227 [==============================] - 208s 918ms/step - loss: 5.8473 - accuracy: 0.0812 - perplexity: 346.3112 - masked_accuracy: 0.1578 - val_loss: 5.7447 - val_accuracy: 0.0796 - val_perplexity: 312.5164 - val_masked_accuracy: 0.1508\n",
            "Epoch 3/20\n",
            "227/227 [==============================] - 209s 919ms/step - loss: 5.8031 - accuracy: 0.1084 - perplexity: 331.3152 - masked_accuracy: 0.1850 - val_loss: 5.6929 - val_accuracy: 0.1248 - val_perplexity: 296.7478 - val_masked_accuracy: 0.1986\n",
            "Epoch 4/20\n",
            "227/227 [==============================] - 208s 919ms/step - loss: 5.7399 - accuracy: 0.1243 - perplexity: 311.0287 - masked_accuracy: 0.1950 - val_loss: 5.6392 - val_accuracy: 0.1354 - val_perplexity: 281.2408 - val_masked_accuracy: 0.2081\n",
            "Epoch 5/20\n",
            "227/227 [==============================] - 208s 918ms/step - loss: 5.6842 - accuracy: 0.1366 - perplexity: 294.1683 - masked_accuracy: 0.2093 - val_loss: 5.5878 - val_accuracy: 0.1579 - val_perplexity: 267.1464 - val_masked_accuracy: 0.2302\n",
            "Epoch 6/20\n",
            "227/227 [==============================] - 208s 919ms/step - loss: 5.6368 - accuracy: 0.1496 - perplexity: 280.5652 - masked_accuracy: 0.2172 - val_loss: 5.5427 - val_accuracy: 0.1629 - val_perplexity: 255.3560 - val_masked_accuracy: 0.2337\n",
            "Epoch 7/20\n",
            "227/227 [==============================] - 209s 919ms/step - loss: 5.5873 - accuracy: 0.1558 - perplexity: 267.0091 - masked_accuracy: 0.2204 - val_loss: 5.5034 - val_accuracy: 0.1706 - val_perplexity: 245.5311 - val_masked_accuracy: 0.2426\n",
            "Epoch 8/20\n",
            "227/227 [==============================] - 209s 919ms/step - loss: 5.5332 - accuracy: 0.1678 - perplexity: 252.9428 - masked_accuracy: 0.2397 - val_loss: 5.4536 - val_accuracy: 0.1956 - val_perplexity: 233.5974 - val_masked_accuracy: 0.2655\n",
            "Epoch 9/20\n",
            "227/227 [==============================] - 209s 920ms/step - loss: 5.4674 - accuracy: 0.1984 - perplexity: 236.8393 - masked_accuracy: 0.2757 - val_loss: 5.3884 - val_accuracy: 0.2235 - val_perplexity: 218.8421 - val_masked_accuracy: 0.2935\n",
            "Epoch 10/20\n",
            "227/227 [==============================] - 209s 919ms/step - loss: 5.3988 - accuracy: 0.2219 - perplexity: 221.1497 - masked_accuracy: 0.2865 - val_loss: 5.3299 - val_accuracy: 0.2301 - val_perplexity: 206.4190 - val_masked_accuracy: 0.2994\n",
            "Epoch 11/20\n",
            "227/227 [==============================] - 209s 919ms/step - loss: 5.3558 - accuracy: 0.2299 - perplexity: 211.8243 - masked_accuracy: 0.2900 - val_loss: 5.2894 - val_accuracy: 0.2310 - val_perplexity: 198.2274 - val_masked_accuracy: 0.2985\n",
            "Epoch 12/20\n",
            "227/227 [==============================] - 209s 920ms/step - loss: 5.3246 - accuracy: 0.2347 - perplexity: 205.3328 - masked_accuracy: 0.2973 - val_loss: 5.2618 - val_accuracy: 0.2384 - val_perplexity: 192.8290 - val_masked_accuracy: 0.3054\n",
            "Epoch 13/20\n",
            "227/227 [==============================] - 209s 920ms/step - loss: 5.2981 - accuracy: 0.2383 - perplexity: 199.9492 - masked_accuracy: 0.3023 - val_loss: 5.2426 - val_accuracy: 0.2395 - val_perplexity: 189.1688 - val_masked_accuracy: 0.3075\n",
            "Epoch 14/20\n",
            "227/227 [==============================] - 209s 919ms/step - loss: 5.2785 - accuracy: 0.2402 - perplexity: 196.0819 - masked_accuracy: 0.3046 - val_loss: 5.2266 - val_accuracy: 0.2398 - val_perplexity: 186.1559 - val_masked_accuracy: 0.3063\n",
            "Epoch 15/20\n",
            "227/227 [==============================] - 209s 920ms/step - loss: 5.2540 - accuracy: 0.2414 - perplexity: 191.3293 - masked_accuracy: 0.3014 - val_loss: 5.2121 - val_accuracy: 0.2423 - val_perplexity: 183.4807 - val_masked_accuracy: 0.3090\n",
            "Epoch 16/20\n",
            "227/227 [==============================] - 209s 920ms/step - loss: 5.2399 - accuracy: 0.2430 - perplexity: 188.6481 - masked_accuracy: 0.3052 - val_loss: 5.1977 - val_accuracy: 0.2435 - val_perplexity: 180.8491 - val_masked_accuracy: 0.3110\n",
            "Epoch 17/20\n",
            "227/227 [==============================] - 209s 920ms/step - loss: 5.2166 - accuracy: 0.2448 - perplexity: 184.3011 - masked_accuracy: 0.3081 - val_loss: 5.1834 - val_accuracy: 0.2461 - val_perplexity: 178.2917 - val_masked_accuracy: 0.3134\n",
            "Epoch 18/20\n",
            "227/227 [==============================] - 209s 920ms/step - loss: 5.1909 - accuracy: 0.2476 - perplexity: 179.6350 - masked_accuracy: 0.3084 - val_loss: 5.1701 - val_accuracy: 0.2486 - val_perplexity: 175.9256 - val_masked_accuracy: 0.3155\n",
            "Epoch 19/20\n",
            "227/227 [==============================] - 209s 920ms/step - loss: 5.1740 - accuracy: 0.2505 - perplexity: 176.6171 - masked_accuracy: 0.3172 - val_loss: 5.1552 - val_accuracy: 0.2522 - val_perplexity: 173.3327 - val_masked_accuracy: 0.3167\n",
            "Epoch 20/20\n",
            "227/227 [==============================] - 209s 920ms/step - loss: 5.1479 - accuracy: 0.2538 - perplexity: 172.0685 - masked_accuracy: 0.3151 - val_loss: 5.1428 - val_accuracy: 0.2553 - val_perplexity: 171.1985 - val_masked_accuracy: 0.3200\n",
            "Training completed\n"
          ]
        }
      ],
      "source": [
        "if not keras_tuner:\n",
        "  history, qg_model = train_model(model=qg_model, \n",
        "                                  dataset=dataset,\n",
        "                                  training_info=training_info)"
      ]
    },
    {
      "cell_type": "code",
      "execution_count": 57,
      "metadata": {
        "colab": {
          "base_uri": "https://localhost:8080/",
          "height": 370
        },
        "id": "pDReuLzRh_LI",
        "outputId": "d5f9705b-84ee-46c6-e7d5-b357d8339f1e"
      },
      "outputs": [
        {
          "data": {
            "image/png": "[encoded data removed]",
            "text/plain": [
              "<Figure size 1440x360 with 3 Axes>"
            ]
          },
          "metadata": {
            "needs_background": "light"
          },
          "output_type": "display_data"
        }
      ],
      "source": [
        "def plot_history(hist):\n",
        "    fig, axs = plt.subplots(1, 3, figsize=(20,5))\n",
        "\n",
        "    fig.suptitle('Training trends')\n",
        "    axs[0].plot(hist.history['accuracy'])\n",
        "    axs[0].plot(hist.history['val_accuracy'])\n",
        "    axs[0].plot(hist.history['masked_accuracy'])\n",
        "    axs[0].plot(hist.history['val_masked_accuracy'])\n",
        "    axs[0].set_title(\"model accuracy\")\n",
        "    axs[0].set_ylabel('accuracy')\n",
        "    axs[0].set_xlabel('epoch')\n",
        "    axs[0].legend(['train_acc', 'val_acc', 'train_mask_acc', 'val_mask_acc'], loc='best')\n",
        "    \n",
        "    axs[1].plot(hist.history['loss'])\n",
        "    axs[1].plot(hist.history['val_loss'])\n",
        "    axs[1].set_title(\"model batch loss\")\n",
        "    axs[1].set_ylabel('loss')\n",
        "    axs[1].set_xlabel('epoch')\n",
        "    axs[1].legend(['train_loss', 'val_loss'], loc='best')\n",
        "\n",
        "    axs[2].plot(hist.history['perplexity'])\n",
        "    axs[2].plot(hist.history['val_perplexity'])\n",
        "    axs[2].set_title(\"model perplexity\")\n",
        "    axs[2].set_ylabel('perplexity')\n",
        "    axs[2].set_xlabel('epoch')\n",
        "    axs[2].legend(['train_perplexity', 'val_perplexity'], loc='best')\n",
        "\n",
        "    plt.show()\n",
        "\n",
        "  \n",
        "plot_history(history)"
      ]
    },
    {
      "cell_type": "code",
      "execution_count": 58,
      "metadata": {
        "id": "sNssj43HWtsE"
      },
      "outputs": [],
      "source": [
        "qg_model.save_weights('./training_checkpoints/weights_run_opt')"
      ]
    },
    {
      "cell_type": "code",
      "execution_count": 59,
      "metadata": {
        "id": "Yfxv7OYsVZij"
      },
      "outputs": [],
      "source": [
        "#%tensorboard --logdir ./logs/gradient_tape"
      ]
    },
    {
      "cell_type": "markdown",
      "metadata": {
        "id": "ZC-NjKElfqNf"
      },
      "source": [
        "# 6. Inference and Evaluation for QG\n"
      ]
    },
    {
      "cell_type": "markdown",
      "metadata": {
        "id": "wc9WXQ9Dqt2u"
      },
      "source": [
        "## 6.1 Evaluation metrics\n",
        "\n",
        "To evaluate our model we will use the **ROUGE-$n$**, **ROUGE-L** and **METEOR** metrics imported from [Hugginface](https://huggingface.co/datasets)([github/datasets](https://github.com/huggingface/datasets/tree/master/metrics)). For more information the single metrics please refer to the official [repository](https://github.com/huggingface/datasets/tree/master/metrics).\n",
        "\n"
      ]
    },
    {
      "cell_type": "code",
      "execution_count": 60,
      "metadata": {
        "id": "jHaP7HgBUzhE"
      },
      "outputs": [],
      "source": [
        "from datasets import load_metric\n",
        "\n",
        "class METEOR(keras.metrics.Metric):\n",
        "  def __init__(self, name=f\"meteor_metric\", **kwargs):\n",
        "    \"\"\"\n",
        "    Initialize the metric object for computing METEOR.\n",
        "    \"\"\"\n",
        "    super(METEOR, self).__init__(name=name, **kwargs)\n",
        "    # Reference :- https://github.com/huggingface/datasets/tree/master/metrics/meteor\n",
        "    self.meteor = load_metric(\"meteor\")\n",
        "    self.scores = self.add_weight(name=f\"meteor_scores\", initializer=\"zeros\", dtype=tf.float64)\n",
        "\n",
        "  def update_state(self, y_true, y_pred, sample_weight=None):\n",
        "    results = self.meteor.compute(predictions=y_pred, references=y_true)\n",
        "    self.scores.assign(tf.constant(results['meteor'], dtype=tf.float64))\n",
        "\n",
        "  def result(self):\n",
        "    return {'meteor': self.scores}\n",
        "\n",
        "  def reset_state(self):\n",
        "    # The state of the metric will be reset at the start of each epoch.\n",
        "    self.scores.assign(0.0)\n",
        "\n",
        "class ROUGE(keras.metrics.Metric):\n",
        "  def __init__(self, name=f\"rouge_metric\", **kwargs):\n",
        "    \"\"\"\n",
        "    Initialize the metric object for computing ROUGE.\n",
        "    \"\"\"\n",
        "    super(ROUGE, self).__init__(name=name, **kwargs)\n",
        "    # Reference :- https://github.com/huggingface/datasets/tree/master/metrics/rouge\n",
        "    self.rouge = load_metric(\"rouge\")\n",
        "\n",
        "    self.precision_1 = self.add_weight(name=f\"rouge1_precision_scores\", initializer=\"zeros\")\n",
        "    self.recall_1 = self.add_weight(name=f\"rouge1_recall_scores\", initializer=\"zeros\")\n",
        "    self.fmeasure_1 = self.add_weight(name=f\"rouge1_fmeasure_scores\", initializer=\"zeros\")\n",
        "\n",
        "    self.precision_2 = self.add_weight(name=f\"rouge2_precision_scores\", initializer=\"zeros\")\n",
        "    self.recall_2 = self.add_weight(name=f\"rouge2_recall_scores\", initializer=\"zeros\")\n",
        "    self.fmeasure_2 = self.add_weight(name=f\"rouge2_fmeasure_scores\", initializer=\"zeros\")\n",
        "\n",
        "    self.precisionL = self.add_weight(name=f\"rougeL_precision_scores\", initializer=\"zeros\")\n",
        "    self.recallL = self.add_weight(name=f\"rougeL_recall_scores\", initializer=\"zeros\")\n",
        "    self.fmeasureL = self.add_weight(name=f\"rougeL_fmeasure_scores\", initializer=\"zeros\")\n",
        "\n",
        "  def update_state(self, y_true, y_pred, sample_weight=None):\n",
        "    results = self.rouge.compute(predictions=y_pred, references=y_true, rouge_types=['rouge1', 'rouge2', 'rougeL'], use_aggregator=True)\n",
        "\n",
        "    self.precision_1.assign(tf.constant(results['rouge1'].mid.precision, dtype=tf.float32))\n",
        "    self.recall_1.assign(tf.constant(results['rouge1'].mid.recall, dtype=tf.float32))\n",
        "    self.fmeasure_1.assign(tf.constant(results['rouge1'].mid.fmeasure, dtype=tf.float32))\n",
        "\n",
        "    self.precision_2.assign(tf.constant(results['rouge2'].mid.precision, dtype=tf.float32))\n",
        "    self.recall_2.assign(tf.constant(results['rouge2'].mid.recall, dtype=tf.float32))\n",
        "    self.fmeasure_2.assign(tf.constant(results['rouge2'].mid.fmeasure, dtype=tf.float32))\n",
        "\n",
        "    self.precisionL.assign(tf.constant(results['rougeL'].mid.precision, dtype=tf.float32))\n",
        "    self.recallL.assign(tf.constant(results['rougeL'].mid.recall, dtype=tf.float32))\n",
        "    self.fmeasureL.assign(tf.constant(results['rougeL'].mid.fmeasure, dtype=tf.float32))\n",
        "\n",
        "  def result(self):\n",
        "    return {'precision_1': self.precision_1,\n",
        "            'recall_1': self.recall_1,\n",
        "            'fmeasure_1': self.fmeasure_1,\n",
        "            'precision_2': self.precision_2,\n",
        "            'recall_2': self.recall_2,\n",
        "            'fmeasure_2': self.fmeasure_2,\n",
        "            'precisionL': self.precisionL,\n",
        "            'recallL': self.recallL,\n",
        "            'fmeasureL': self.fmeasureL}\n",
        "\n",
        "  def reset_state(self):\n",
        "    # The state of the metric will be reset at the start of each epoch.\n",
        "    self.precision_1.assign(0.0)\n",
        "    self.recall_1.assign(0.0)\n",
        "    self.fmeasure_1.assign(0.0)\n",
        "\n",
        "    self.precision_2.assign(0.0)\n",
        "    self.recall_2.assign(0.0)\n",
        "    self.fmeasure_2.assign(0.0)\n",
        "\n",
        "    self.precisionL.assign(0.0)\n",
        "    self.recallL.assign(0.0)\n",
        "    self.fmeasureL.assign(0.0)\n",
        "\n",
        "class AnswerabilityMetric(keras.metrics.Metric):\n",
        "  def __init__(self, **kwargs):\n",
        "    \"\"\"\n",
        "    Initialize the metric object for computing Answerability.\n",
        "    \"\"\"\n",
        "    super(AnswerabilityMetric, self).__init__(**kwargs)\n",
        "    self.nlp = spacy.load('en_core_web_sm')\n",
        "    self.scores = self.add_weight(name = f\"answerability\", initializer= \"zeros\")\n",
        "\n",
        "  def update_state(self, y_pred, y_true, metric_name=None, metric_value=None, alpha=0.7, sample_weight=None):\n",
        "    if (metric_value == None or metric_name == None):\n",
        "      value_answerability = self.batch_answerability_value(y_pred, y_true)\n",
        "    else:\n",
        "     value_answerability = self.q_metric(y_pred, y_true, metric_value, alpha) \n",
        "     self.scores = self.add_weight(name = f\"answerability_{metric_name}\", initializer= \"zeros\")\n",
        "    self.scores.assign(value_answerability)\n",
        "\n",
        "  def compute_ner(self,sentence):\n",
        "    \"\"\"Find the NER into the sentence\"\"\"\n",
        "    doc = self.nlp(sentence)\n",
        "    count = 0\n",
        "    entities = []\n",
        "    for ent in doc.ents:\n",
        "      entities.append(str(ent))\n",
        "    return entities\n",
        "  \n",
        "  # Find the question words into the sentence\n",
        "  def question_words(self,sentence):\n",
        "    question_words = []\n",
        "    question_terms = ['what','where','when','whom','how','which','whose','why','?']\n",
        "    for q in question_terms:\n",
        "      if(q in sentence):\n",
        "        question_words.append(q)\n",
        "    return question_words\n",
        "\n",
        "  # Extract the keyword based on the POS\n",
        "  def get_keywords(self,text):\n",
        "    hotwords = []\n",
        "    pos_tag = ['PROPN', 'ADJ', 'NOUN']\n",
        "    doc = self.nlp(text) # 2\n",
        "    for token in doc:\n",
        "        if(token.text in self.nlp.Defaults.stop_words):\n",
        "            continue\n",
        "        if(token.pos_ in pos_tag):\n",
        "            hotwords.append(token.text)\n",
        "    return hotwords\n",
        "\n",
        "  #Extraction of context words using keywords extraction by spaCy\n",
        "  def extract_context_word(self,sentence):\n",
        "    numOfKeywords = len(sentence)\n",
        "    context_words = []\n",
        "    keywords= self.get_keywords(sentence)\n",
        "    for kw in keywords:\n",
        "      context_words.append(kw)\n",
        "    return context_words\n",
        "\n",
        "  #Extraction of function words using stopwords extraction by spaCy\n",
        "  def function_words(self,sentence):\n",
        "    function_words = []\n",
        "    stopwords = self.nlp.Defaults.stop_words\n",
        "    for q in list(stopwords):\n",
        "      if(q in sentence):\n",
        "        function_words.append(q)\n",
        "    return function_words\n",
        "\n",
        "  def answerability_value (self, pred, truth, weights = [0.25, 0.25, 0.25]):\n",
        "    if(type(pred)== list):\n",
        "        pred = \" \".join(pred)\n",
        "    if(type(truth)== list):\n",
        "      truth = \" \".join(truth)\n",
        "    #Set the weights\n",
        "    w_relevant, w_ner, w_question = weights\n",
        "\n",
        "    #Find the relevant words of truth and prediction\n",
        "    truth_relevant = self.extract_context_word(truth)\n",
        "    pred_relevant = self.extract_context_word(pred)\n",
        "    #Calculate the count of matching words\n",
        "    C_relevant = len([w for w in truth_relevant if w in pred_relevant])\n",
        "    #If no relevant words the weight is reduced to 0\n",
        "    if (len(truth_relevant)==0 and len(pred_relevant)==0):\n",
        "      w_relevant=0\n",
        "      \n",
        "    #Find NER of truth and prediction\n",
        "    truth_ner = self.compute_ner(truth)\n",
        "    pred_ner = self.compute_ner(pred)\n",
        "    #Calculate the count of matching words\n",
        "    C_ner = len([w for w in truth_ner if w in pred_ner])\n",
        "    #If no NER words the weight is reduced to 0\n",
        "    if (len(truth_ner)==0 and len(pred_ner)==0):\n",
        "      w_ner=0 \n",
        "\n",
        "    #Find question words in truth and pred\n",
        "    truth_question = self.question_words(truth)\n",
        "    pred_question = self.question_words(pred)\n",
        "    #Calculate the count of matching words\n",
        "    C_question = len([w for w in truth_question if w in pred_question])\n",
        "    #If no question words the weight is reduced to 0\n",
        "    if (len(truth_question)==0 and len(pred_question)==0):\n",
        "      w_question=0\n",
        "\n",
        "    #Find functional words as the rest of the words excluding the already counted\n",
        "    truth_functional = self.function_words(truth)\n",
        "    pred_functional = self.function_words(pred)\n",
        "    w_functional = 1 - (w_relevant+ w_ner+ w_question)\n",
        "\n",
        "    C_functional = len([w for w in truth_functional if w in pred_functional])\n",
        "\n",
        "    #Calculate precision and recall\n",
        "    P = w_relevant*C_relevant/(len(pred_relevant)+1e-10) + w_ner*C_ner/(len(pred_ner)+1e-10) + w_question*C_question/(len(pred_question)+1e-10) + w_functional*C_functional/(len(pred_functional)+1e-10)\n",
        "    R = w_relevant*C_relevant/(len(truth_relevant)+1e-10) + w_ner*C_ner/(len(truth_ner)+1e-10) + w_question*C_question/(len(truth_question)+1e-10) + w_functional*C_functional/(len(truth_functional)+1e-10)\n",
        "    \n",
        "    #Compute final answerability value\n",
        "    answerability = 2 * P * R / (P + R + 1e-10)\n",
        "\n",
        "    return answerability\n",
        "\n",
        "  #Find the mean answerability value of a batch\n",
        "  def batch_answerability_value(self, batch_pred, batch_truth):\n",
        "    answ_values = []\n",
        "    for i in range(len(batch_pred)):\n",
        "        answ_values.append(self.answerability_value(list(batch_pred[i]),batch_truth[i]))\n",
        "    batch_answ = tf.reduce_mean(answ_values)\n",
        "\n",
        "    return batch_answ\n",
        "\n",
        "  def q_metric(self,batch_pred,batch_truth,metric_value,alpha):\n",
        "    answ = self.batch_answerability_value(batch_pred,batch_truth).numpy()\n",
        "    m = metric_value.numpy()\n",
        "    return tf.constant(alpha*(answ) + (1-alpha)*(m),dtype=tf.float32)\n",
        "\n",
        "  def result(self): return self.scores\n",
        "  def reset_state(self): self.scores.assign(0)"
      ]
    },
    {
      "cell_type": "markdown",
      "metadata": {
        "id": "ezgR7c68_0nv"
      },
      "source": [
        "## 6.2 Evaluation and Inference\n",
        "In this section we will provide the class and the methods for the evaluation and inference part."
      ]
    },
    {
      "cell_type": "code",
      "execution_count": 61,
      "metadata": {
        "id": "gn2NTxAq_2sy"
      },
      "outputs": [],
      "source": [
        "class QuestionGenerator(tf.Module):\n",
        "  def __init__(self, model, evaluation_config, tokenizer_context, tokenizer_question):\n",
        "    self.model = model\n",
        "    self.encoder = model.encoder\n",
        "    self.decoder = model.decoder\n",
        "\n",
        "    self.tokenizer_context = tokenizer_context\n",
        "    # The tokenizer will be used for the conversion from question tokens to\n",
        "    # strings. It requires the tokenizer fit on the questions. \n",
        "    self.tokenizer_question = tokenizer_question\n",
        "   \n",
        "    self.result_tokens = None   # Tokens predicted\n",
        "    self.result_text = None     # Text predicted\n",
        "    self.token_mask = self.create_mask()  # Mask for the tokens\n",
        "\n",
        "    self.start_idx = tokenizer_question.word_index['<sos>']\n",
        "    self.end_idx = tokenizer_question.word_index['<eos>']\n",
        "    self.unk_idx = tokenizer_question.word_index['<unk>']\n",
        "\n",
        "    # Config\n",
        "    self.temperature = evaluation_config['temperature']\n",
        "\n",
        "    # Metrics\n",
        "    # These ones are computed and refreshed for each batch\n",
        "    self.meteor_metric_batch = METEOR()\n",
        "    self.rouge_metric_batch = ROUGE()\n",
        "    self.answerability_metric = AnswerabilityMetric()\n",
        "    \n",
        "    # These ones are the mean value among all the batches\n",
        "    self.meteor_metric = tf.keras.metrics.Mean(name='meteor_mean')\n",
        "    self.rouge1_precision_metric = tf.keras.metrics.Mean(name='rouge1_precision_mean')\n",
        "    self.rouge1_recall_metric = tf.keras.metrics.Mean(name='rouge1_recall_mean')\n",
        "    self.rouge1_fmeasure_metric = tf.keras.metrics.Mean(name='rouge1_fmeasure_mean')\n",
        "    self.rouge2_precision_metric = tf.keras.metrics.Mean(name='rouge2_precision_mean')\n",
        "    self.rouge2_recall_metric = tf.keras.metrics.Mean(name='rouge2_recall_mean')\n",
        "    self.rouge2_fmeasure_metric = tf.keras.metrics.Mean(name='rouge2_fmeasure_mean')\n",
        "    self.rougeL_precision_metric = tf.keras.metrics.Mean(name='rougeL_precision_mean')\n",
        "    self.rougeL_recall_metric = tf.keras.metrics.Mean(name='rougeL_recall_mean')\n",
        "    self.rougeL_fmeasure_metric = tf.keras.metrics.Mean(name='rougeL_fmeasure_mean')\n",
        "\n",
        "    # Store evaluation results\n",
        "    self.results = dict()\n",
        "    self.results_answerability = dict()\n",
        "\n",
        "  def token_to_string(self, result_tokens: tf.Tensor):  \n",
        "    \"\"\"\n",
        "    This method converts token IDs to text by using a given mapping.\n",
        "    \"\"\"\n",
        "    list_tokens = result_tokens.numpy().tolist()\n",
        "    list_text = self.tokenizer_question.sequences_to_texts(list_tokens)\n",
        "    \n",
        "    # list_text = tf.convert_to_tensor([list_text])\n",
        "    # result_text = tf.strings.reduce_join(list_text, axis=0, separator=' ')\n",
        "    # result_text = tf.strings.strip(result_text)\n",
        "    result_text = [s.split() for s in list_text]\n",
        "\n",
        "    self.result_tokens = result_tokens\n",
        "    self.result_text = result_text\n",
        "    return result_text\n",
        "  \n",
        "  def create_mask(self):\n",
        "    \"\"\"\n",
        "    This method creates a mask for the padding, the unknwon words and the start/ending tokens.\n",
        "    \"\"\"\n",
        "    masked_words = ['<pad>', '<sos>', '<eos>']\n",
        "    token_mask_ids = [self.tokenizer_question.word_index[mask] for mask in masked_words]\n",
        "\n",
        "    token_mask = np.zeros(shape=(len(self.tokenizer_question.word_index),), dtype=bool)\n",
        "    token_mask[np.array(token_mask_ids)] = True\n",
        "    return token_mask\n",
        "\n",
        "  def remove_tags(self, result_tokens: tf.Tensor):\n",
        "    \"\"\"\n",
        "    This method removes the padding, start and end of sentence tags\n",
        "    \"\"\"\n",
        "    list_tokens = result_tokens.numpy().tolist()\n",
        "    tag_words = ['<pad>', '<sos>', '<eos>']\n",
        "    token_tag_ids = [self.tokenizer_question.word_index[tag] for tag in tag_words]\n",
        "    \n",
        "    #For every element of the batch we extract the token list and we remove the unwanted tokens\n",
        "    list_tokens = [[token for token in token_list if token not in token_tag_ids] for token_list in list_tokens]\n",
        "    \n",
        "    texts = self.tokenizer_question.sequences_to_texts(list_tokens)\n",
        "    texts = [s.split() for s in texts]\n",
        "\n",
        "    return texts\n",
        "\n",
        "  @tf.autograph.experimental.do_not_convert \n",
        "  def evaluate_metric_answerability(self, inputs, max_length, metric_name=None, metric_value=None):\n",
        "    \"\"\"\n",
        "    \"\"\"\n",
        "    self.answerability_metric.reset_state()\n",
        "    \n",
        "    seq = []\n",
        "    for (context, question_true) in tqdm(inputs):\n",
        "      question_true = self.remove_tags(question_true)\n",
        "      prediction = self.predict_step(inputs=context, \n",
        "                                     max_length=max_length, \n",
        "                                     return_attention=False, \n",
        "                                     pretty_predict=False)\n",
        "      \n",
        "      question_pred = prediction['text']\n",
        "\n",
        "      # Compute answerability weighted score on the given metric chosen\n",
        "      self.answerability_metric.update_state(y_pred=question_pred, y_true=question_true, metric_name=metric_name, metric_value=tf.constant(metric_value))\n",
        "      seq.append(self.answerability_metric.result())\n",
        "    \n",
        "    self.results_answerability[f'{metric_name}'] = tf.reduce_mean(seq).numpy()\n",
        "    return self.results_answerability\n",
        "    \n",
        "  @tf.autograph.experimental.do_not_convert \n",
        "  def evaluate(self, inputs, max_length):\n",
        "    self.meteor_metric.reset_state()\n",
        "    self.rouge1_precision_metric.reset_state()\n",
        "    self.rouge1_recall_metric.reset_state()\n",
        "    self.rouge1_fmeasure_metric.reset_state()\n",
        "    self.rouge2_precision_metric.reset_state()\n",
        "    self.rouge2_recall_metric.reset_state()\n",
        "    self.rouge2_fmeasure_metric.reset_state()\n",
        "    self.rougeL_precision_metric.reset_state()\n",
        "    self.rougeL_recall_metric.reset_state()\n",
        "    self.rougeL_fmeasure_metric.reset_state()\n",
        "\n",
        "    for (context, question_true) in tqdm(inputs):\n",
        "      self.meteor_metric_batch.reset_state()\n",
        "      self.rouge_metric_batch.reset_state()\n",
        "\n",
        "      question_true = self.remove_tags(question_true)\n",
        "      prediction = self.predict_step(inputs=context, max_length=max_length, return_attention=False, pretty_predict=False)\n",
        "      question_pred = prediction['text']\n",
        "\n",
        "      # Compute the metric for the current batch\n",
        "      self.meteor_metric_batch.update_state(y_true=question_true, y_pred=question_pred)\n",
        "      # Compute the mean over the batches\n",
        "      self.meteor_metric.update_state(self.meteor_metric_batch.result()['meteor'])\n",
        "\n",
        "      # Compute for the current batch\n",
        "      self.rouge_metric_batch.update_state(y_true=question_true, y_pred=question_pred)\n",
        "      # Compute the mean over the batches\n",
        "      self.rouge1_precision_metric.update_state(self.rouge_metric_batch.result()['precision_1'])\n",
        "      self.rouge1_recall_metric.update_state(self.rouge_metric_batch.result()['recall_1'])\n",
        "      self.rouge1_fmeasure_metric.update_state(self.rouge_metric_batch.result()['fmeasure_1'])\n",
        "      self.rouge2_precision_metric.update_state(self.rouge_metric_batch.result()['precision_2'])\n",
        "      self.rouge2_recall_metric.update_state(self.rouge_metric_batch.result()['recall_2'])\n",
        "      self.rouge2_fmeasure_metric.update_state(self.rouge_metric_batch.result()['fmeasure_2'])\n",
        "      self.rougeL_precision_metric.update_state(self.rouge_metric_batch.result()['precisionL'])\n",
        "      self.rougeL_recall_metric.update_state(self.rouge_metric_batch.result()['recallL'])\n",
        "      self.rougeL_fmeasure_metric.update_state(self.rouge_metric_batch.result()['fmeasureL'])\n",
        "\n",
        "      print()\n",
        "      # print('METEOR batch', self.meteor_metric_batch.result())\n",
        "      # print('ROUGE batch', self.rouge_metric_batch.result())\n",
        "\n",
        "    self.results = {'METEOR': self.meteor_metric.result().numpy(),\n",
        "            'ROUGE_1_PRECISION': self.rouge1_precision_metric.result().numpy(),\n",
        "            'ROUGE_1_RECALL': self.rouge1_recall_metric.result().numpy(),\n",
        "            'ROUGE_1_FMEASURE': self.rouge1_fmeasure_metric.result().numpy(),\n",
        "            'ROUGE_2_PRECISION': self.rouge2_precision_metric.result().numpy(),\n",
        "            'ROUGE_2_RECALL': self.rouge2_recall_metric.result().numpy(),\n",
        "            'ROUGE_2_FMEASURE': self.rouge2_fmeasure_metric.result().numpy(),\n",
        "            'ROUGE_L_PRECISION': self.rougeL_precision_metric.result().numpy(),\n",
        "            'ROUGE_L_RECALL': self.rougeL_recall_metric.result().numpy(),\n",
        "            'ROUGE_L_FMEASURE': self.rougeL_fmeasure_metric.result().numpy()}\n",
        "    return self.results\n",
        "\n",
        "  def predict(self, inputs, max_length, return_attention=False, pretty_predict=False):\n",
        "    \"\"\"\n",
        "    Generates output predictions for the input samples.\n",
        "    In addition it could also return the associated attention weights.\n",
        "\n",
        "    It returns a list of dictionaries.\n",
        "    \"\"\"\n",
        "    results = []\n",
        "    for (context, _) in tqdm(inputs):\n",
        "      results.append(self.predict_step(inputs=context, \n",
        "                                       max_length=max_length, \n",
        "                                       return_attention=return_attention,\n",
        "                                       pretty_predict=pretty_predict))\n",
        "\n",
        "    return results\n",
        "\n",
        "  def predict_step(self, inputs, max_length, return_attention, pretty_predict):\n",
        "    # Similarly for what it has been done in the train step\n",
        "    encoder_output, encoder_state = self.encoder(inputs)\n",
        "    decoder_state = encoder_state\n",
        "\n",
        "    # Generate the first token of each sentence, that is the <sos> token\n",
        "    new_token = tf.fill([self.model.batch_size, 1], self.start_idx)\n",
        "\n",
        "    result_tokens = []\n",
        "    attention = []\n",
        "\n",
        "    done = tf.zeros(shape=(self.model.batch_size, 1), dtype=tf.bool)\n",
        "    unk = tf.zeros(shape=(self.model.batch_size, 1), dtype=tf.bool)\n",
        "    \n",
        "    for _ in range(max_length):\n",
        "      # Decode the token at the next timestep\n",
        "      decoder_logits, attention_weights, decoder_state = self.decoder([new_token, encoder_output], state=decoder_state)\n",
        "      \n",
        "      attention.append(attention_weights)\n",
        "\n",
        "      # Sample the new token accordingly to the distribution produced by the decoder\n",
        "      new_token = self.temperature_sampling(decoder_logits)\n",
        "\n",
        "      # if a sequence has reached <eos> set it as done\n",
        "      done = done | (new_token == self.end_idx)\n",
        "      # Once a sequence is done it only produces 0-padding.\n",
        "      new_token = tf.where(done, tf.constant(0, dtype=tf.int64), new_token)\n",
        "\n",
        "      # if a token produce has value <unk> set it as unk\n",
        "      unk = unk | (new_token == self.unk_idx)\n",
        "      # Once a token has been tagged as unk we have to chenage its value with \n",
        "      # the value in the context that has the highest attention\n",
        "      highest_attention = tf.math.argmax(attention_weights, axis=-1)\n",
        "      context_attention = tf.gather(inputs, highest_attention, axis=-1, batch_dims=1)\n",
        "      new_token = tf.where(unk, context_attention, new_token)\n",
        "\n",
        "      result_tokens.append(new_token)\n",
        "\n",
        "      if tf.reduce_all(done):\n",
        "        break\n",
        "\n",
        "    result_tokens = tf.concat(result_tokens, axis=-1)\n",
        "    result_text = self.token_to_string(result_tokens)\n",
        "    if pretty_predict: result_text = self.prettify(result_text)\n",
        "\n",
        "    attention_stack = tf.concat(attention, axis=-1)\n",
        "\n",
        "    if return_attention:\n",
        "      attention_stack = tf.concat(attention, axis=1)\n",
        "      return {'text': result_text, 'attention': attention_stack}\n",
        "    else:\n",
        "      return {'text': result_text}\n",
        "\n",
        "  def prettify(self, result_text):\n",
        "    results = []\n",
        "    for sen in result_text:\n",
        "      results.append(\" \".join(list(sen)))\n",
        "    return results\n",
        "\n",
        "  def temperature_sampling(self, logits):\n",
        "    \"\"\"\n",
        "    For the temperature choice see here:\n",
        "      Reference :- https://nlp.stanford.edu/blog/maximum-likelihood-decoding-with-rnns-the-good-the-bad-and-the-ugly/\n",
        "    \"\"\"\n",
        "    # First of all we use broadcast the generated mask to the expected logits' shape\n",
        "    # token_mask shape: (batch_size, timestep, vocab_size)\n",
        "    token_mask = self.token_mask[tf.newaxis, tf.newaxis, :]\n",
        "\n",
        "    # The logits for all the tokens that have to not be used are set to -1.0\n",
        "    logits = tf.where(token_mask, -1.0, logits)\n",
        "\n",
        "    # Freezing function\n",
        "    # Higher temperature -> greater variety\n",
        "    # Lower temperature -> grammatically correct\n",
        "    if self.temperature == 0.0:\n",
        "      # the freezing function is the argmax, behaving like a greedy search\n",
        "      new_token = tf.argmax(logits, axis=-1)\n",
        "    else:\n",
        "      # the freezing function now scales the logits.\n",
        "      # for temperature == 1.0 is the identity function\n",
        "      logits = tf.squeeze(logits, axis=1)\n",
        "      new_token = tf.random.categorical(logits / self.temperature, num_samples=1)\n",
        "    return new_token\n",
        "\n",
        "  def show(self, inputs, max_length, complete_tokenizer, max_q):\n",
        "    batch_idx = random.randint(1, inputs.cardinality())\n",
        "    predictions = self.predict_step(inputs.batch(batch_idx)[0], max_length, False, True)\n",
        "    predictions = predictions.numpy().tolist()\n",
        "    predictions = predictions[0][:max_q]\n",
        "    print(predictions)\n",
        "    for i, (context, question) in enumerate(inputs.batch(batch_idx)):\n",
        "      if i == 1: break\n",
        "      question = question.numpy().tolist()\n",
        "      references = question[0][:max_q]\n",
        "      references = self.tokenizer_question.sequences_to_texts(references)"
      ]
    },
    {
      "cell_type": "code",
      "execution_count": 62,
      "metadata": {
        "colab": {
          "base_uri": "https://localhost:8080/",
          "height": 150,
          "referenced_widgets": [
            "0f8d98a465a44f909bb48fa6efe152a2",
            "e7825d500f3a467cb63be91fc6397085",
            "01e9be5988834f75b6edee1556868377",
            "7876d6d448b54fbf8390727ec39a2f1f",
            "719d2ca7c9b543c7a1f918c170ebb624",
            "ee932b1fed634d2f84a89ff0872add74",
            "2ffd6f1637eb4dfd8ffa63ede29bf947",
            "f864b0cb27624bfc92a9f3617559b5ee",
            "9d2c2b9fd94b4b33a375ff4b23764b64",
            "7aff3e04482848aea5ba049487281d84",
            "e8a88a4dff224d1fbe599a1589949134",
            "12033b8140a3450a89bea3c2b4b31a95",
            "ec5835b49e42444c96175f669535472b",
            "789f30ec545241ccad4d70c2888a59b0",
            "68e76fbf54da4ef595e93f8abc83c10b",
            "a5d83c1cb73748a4bcc878e7547a9381",
            "9505a3f114934cb582541d5418600ad6",
            "bc8da0b9d232498797d85d2a95d97d27",
            "0e25adb3911a4a87be7d60280984d7ec",
            "abc0382b2aa142a79c4d995980924b3f",
            "26828c439bba4892b2cab3eed2572aa4",
            "94d02ecff3b84d998e6a3c543bbdca83"
          ]
        },
        "id": "1Q2pWJ5YDfqi",
        "outputId": "c1a99bca-c062-4da9-bc9b-ac5897ccbeeb"
      },
      "outputs": [
        {
          "data": {
            "application/vnd.jupyter.widget-view+json": {
              "model_id": "0f8d98a465a44f909bb48fa6efe152a2",
              "version_major": 2,
              "version_minor": 0
            },
            "text/plain": [
              "Downloading builder script:   0%|          | 0.00/2.20k [00:00<?, ?B/s]"
            ]
          },
          "metadata": {},
          "output_type": "display_data"
        },
        {
          "name": "stderr",
          "output_type": "stream",
          "text": [
            "[nltk_data] Downloading package wordnet to /root/nltk_data...\n",
            "[nltk_data] Downloading package punkt to /root/nltk_data...\n",
            "[nltk_data]   Package punkt is already up-to-date!\n",
            "[nltk_data] Downloading package omw-1.4 to /root/nltk_data...\n"
          ]
        },
        {
          "data": {
            "application/vnd.jupyter.widget-view+json": {
              "model_id": "12033b8140a3450a89bea3c2b4b31a95",
              "version_major": 2,
              "version_minor": 0
            },
            "text/plain": [
              "Downloading builder script:   0%|          | 0.00/2.16k [00:00<?, ?B/s]"
            ]
          },
          "metadata": {},
          "output_type": "display_data"
        }
      ],
      "source": [
        "qg_evaluator = QuestionGenerator(model=qg_model, evaluation_config=evaluation_config, tokenizer_question=dataset_creator.tokenizer_question, tokenizer_context=dataset_creator.tokenizer_context)"
      ]
    },
    {
      "cell_type": "code",
      "execution_count": 63,
      "metadata": {
        "id": "rrKJjWAG1MBY"
      },
      "outputs": [],
      "source": [
        "# qg_evaluator.show(dataset.test, 10, None, 5)"
      ]
    },
    {
      "cell_type": "markdown",
      "metadata": {
        "id": "KgufCjSqb2ay"
      },
      "source": [
        "### 6.3.1 Inference\n",
        "\n",
        "In this section we can compute the predictions with our pre-trained model. By using the `predict` method provided by the `Evaluator`class we can compute the predictions on the test set. Obviously only the context sentence will be used to this end."
      ]
    },
    {
      "cell_type": "code",
      "execution_count": 64,
      "metadata": {
        "colab": {
          "base_uri": "https://localhost:8080/"
        },
        "id": "pj80soL6yPnW",
        "outputId": "80b7d339-6b41-4709-bc7c-dbb0f3b2191c"
      },
      "outputs": [
        {
          "name": "stderr",
          "output_type": "stream",
          "text": [
            "100%|██████████| 46/46 [00:26<00:00,  1.72it/s]"
          ]
        },
        {
          "name": "stdout",
          "output_type": "stream",
          "text": [
            "CPU times: user 21.9 s, sys: 1.1 s, total: 23 s\n",
            "Wall time: 26.8 s\n"
          ]
        },
        {
          "name": "stderr",
          "output_type": "stream",
          "text": [
            "\n"
          ]
        }
      ],
      "source": [
        "%%time\n",
        "predictions = qg_evaluator.predict(dataset.test, 20, False, True)"
      ]
    },
    {
      "cell_type": "markdown",
      "metadata": {
        "id": "lUmR1XJMfs2H"
      },
      "source": [
        "Then we can print out some of them, e.g, we print 10 questions that have been predicted for the first batch: "
      ]
    },
    {
      "cell_type": "code",
      "execution_count": 86,
      "metadata": {
        "id": "gpQanby9eOof"
      },
      "outputs": [],
      "source": [
        "#dataset_creator.tokenizer_question.sequences_to_texts((next(iter(dataset.test))[1][60:70].numpy()))"
      ]
    },
    {
      "cell_type": "code",
      "execution_count": 84,
      "metadata": {
        "colab": {
          "base_uri": "https://localhost:8080/"
        },
        "id": "wLBXAS_I72fe",
        "outputId": "9c62aa94-d345-4037-fc3b-cc2ef71ffea1"
      },
      "outputs": [
        {
          "data": {
            "text/plain": [
              "['what was the the the the day the do of the the spoken ? to two ? in ? on',\n",
              " 'who was the the the this the the all ? ? of the of the ? of where term ?',\n",
              " 'what is the of type of the first the of the the to of of reception ? ? ? ?',\n",
              " 'what was the the prominent types the the banned ? of it ? ? ? in ? ? of in',\n",
              " 'what did did the the members to of he company ? in the the players ? ? ? ? ?',\n",
              " 'what years the the the the helped a chinese ? his to group ? in the the military the the',\n",
              " 'which did created was in the a ? in ? to the the for in the fit ? ? for',\n",
              " 'when did the the red the namibia for i ? where ? to the the the <sos> <sos> <sos> <sos>',\n",
              " 'what was the a of in an to do to the medieval ? ? ? ? to premier of the',\n",
              " 'what was the the the victor the of of the the . used ? in of offer ? the the']"
            ]
          },
          "execution_count": 84,
          "metadata": {},
          "output_type": "execute_result"
        }
      ],
      "source": [
        "predictions[0]['text'][60:70]"
      ]
    },
    {
      "cell_type": "markdown",
      "metadata": {
        "id": "2sF04M-Lb47m"
      },
      "source": [
        "### 6.3.2 Evaluation \n",
        "In this section we can evaluate our model. For this reason we pass the testing split of the dataset. "
      ]
    },
    {
      "cell_type": "code",
      "execution_count": 66,
      "metadata": {
        "colab": {
          "base_uri": "https://localhost:8080/"
        },
        "id": "DkDmgT1JPs0I",
        "outputId": "73e68048-6725-4996-98bd-1aca6ba0c541"
      },
      "outputs": [
        {
          "name": "stderr",
          "output_type": "stream",
          "text": [
            "  2%|▏         | 1/46 [00:08<06:04,  8.10s/it]"
          ]
        },
        {
          "name": "stdout",
          "output_type": "stream",
          "text": [
            "\n"
          ]
        },
        {
          "name": "stderr",
          "output_type": "stream",
          "text": [
            "\r  4%|▍         | 2/46 [00:09<02:58,  4.06s/it]"
          ]
        },
        {
          "name": "stdout",
          "output_type": "stream",
          "text": [
            "\n"
          ]
        },
        {
          "name": "stderr",
          "output_type": "stream",
          "text": [
            "\r  7%|▋         | 3/46 [00:10<01:57,  2.73s/it]"
          ]
        },
        {
          "name": "stdout",
          "output_type": "stream",
          "text": [
            "\n"
          ]
        },
        {
          "name": "stderr",
          "output_type": "stream",
          "text": [
            "\r  9%|▊         | 4/46 [00:11<01:28,  2.11s/it]"
          ]
        },
        {
          "name": "stdout",
          "output_type": "stream",
          "text": [
            "\n"
          ]
        },
        {
          "name": "stderr",
          "output_type": "stream",
          "text": [
            "\r 11%|█         | 5/46 [00:12<01:12,  1.76s/it]"
          ]
        },
        {
          "name": "stdout",
          "output_type": "stream",
          "text": [
            "\n"
          ]
        },
        {
          "name": "stderr",
          "output_type": "stream",
          "text": [
            "\r 13%|█▎        | 6/46 [00:13<01:02,  1.55s/it]"
          ]
        },
        {
          "name": "stdout",
          "output_type": "stream",
          "text": [
            "\n"
          ]
        },
        {
          "name": "stderr",
          "output_type": "stream",
          "text": [
            "\r 15%|█▌        | 7/46 [00:15<00:55,  1.42s/it]"
          ]
        },
        {
          "name": "stdout",
          "output_type": "stream",
          "text": [
            "\n"
          ]
        },
        {
          "name": "stderr",
          "output_type": "stream",
          "text": [
            "\r 17%|█▋        | 8/46 [00:16<00:50,  1.34s/it]"
          ]
        },
        {
          "name": "stdout",
          "output_type": "stream",
          "text": [
            "\n"
          ]
        },
        {
          "name": "stderr",
          "output_type": "stream",
          "text": [
            "\r 20%|█▉        | 9/46 [00:17<00:47,  1.29s/it]"
          ]
        },
        {
          "name": "stdout",
          "output_type": "stream",
          "text": [
            "\n"
          ]
        },
        {
          "name": "stderr",
          "output_type": "stream",
          "text": [
            "\r 22%|██▏       | 10/46 [00:18<00:44,  1.25s/it]"
          ]
        },
        {
          "name": "stdout",
          "output_type": "stream",
          "text": [
            "\n"
          ]
        },
        {
          "name": "stderr",
          "output_type": "stream",
          "text": [
            "\r 24%|██▍       | 11/46 [00:19<00:42,  1.21s/it]"
          ]
        },
        {
          "name": "stdout",
          "output_type": "stream",
          "text": [
            "\n"
          ]
        },
        {
          "name": "stderr",
          "output_type": "stream",
          "text": [
            "\r 26%|██▌       | 12/46 [00:20<00:41,  1.21s/it]"
          ]
        },
        {
          "name": "stdout",
          "output_type": "stream",
          "text": [
            "\n"
          ]
        },
        {
          "name": "stderr",
          "output_type": "stream",
          "text": [
            "\r 28%|██▊       | 13/46 [00:22<00:39,  1.20s/it]"
          ]
        },
        {
          "name": "stdout",
          "output_type": "stream",
          "text": [
            "\n"
          ]
        },
        {
          "name": "stderr",
          "output_type": "stream",
          "text": [
            "\r 30%|███       | 14/46 [00:23<00:38,  1.19s/it]"
          ]
        },
        {
          "name": "stdout",
          "output_type": "stream",
          "text": [
            "\n"
          ]
        },
        {
          "name": "stderr",
          "output_type": "stream",
          "text": [
            "\r 33%|███▎      | 15/46 [00:24<00:36,  1.18s/it]"
          ]
        },
        {
          "name": "stdout",
          "output_type": "stream",
          "text": [
            "\n"
          ]
        },
        {
          "name": "stderr",
          "output_type": "stream",
          "text": [
            "\r 35%|███▍      | 16/46 [00:25<00:35,  1.18s/it]"
          ]
        },
        {
          "name": "stdout",
          "output_type": "stream",
          "text": [
            "\n"
          ]
        },
        {
          "name": "stderr",
          "output_type": "stream",
          "text": [
            "\r 37%|███▋      | 17/46 [00:26<00:34,  1.17s/it]"
          ]
        },
        {
          "name": "stdout",
          "output_type": "stream",
          "text": [
            "\n"
          ]
        },
        {
          "name": "stderr",
          "output_type": "stream",
          "text": [
            "\r 39%|███▉      | 18/46 [00:27<00:33,  1.18s/it]"
          ]
        },
        {
          "name": "stdout",
          "output_type": "stream",
          "text": [
            "\n"
          ]
        },
        {
          "name": "stderr",
          "output_type": "stream",
          "text": [
            "\r 41%|████▏     | 19/46 [00:29<00:31,  1.17s/it]"
          ]
        },
        {
          "name": "stdout",
          "output_type": "stream",
          "text": [
            "\n"
          ]
        },
        {
          "name": "stderr",
          "output_type": "stream",
          "text": [
            "\r 43%|████▎     | 20/46 [00:30<00:30,  1.16s/it]"
          ]
        },
        {
          "name": "stdout",
          "output_type": "stream",
          "text": [
            "\n"
          ]
        },
        {
          "name": "stderr",
          "output_type": "stream",
          "text": [
            "\r 46%|████▌     | 21/46 [00:31<00:28,  1.16s/it]"
          ]
        },
        {
          "name": "stdout",
          "output_type": "stream",
          "text": [
            "\n"
          ]
        },
        {
          "name": "stderr",
          "output_type": "stream",
          "text": [
            "\r 48%|████▊     | 22/46 [00:32<00:27,  1.16s/it]"
          ]
        },
        {
          "name": "stdout",
          "output_type": "stream",
          "text": [
            "\n"
          ]
        },
        {
          "name": "stderr",
          "output_type": "stream",
          "text": [
            "\r 50%|█████     | 23/46 [00:33<00:26,  1.16s/it]"
          ]
        },
        {
          "name": "stdout",
          "output_type": "stream",
          "text": [
            "\n"
          ]
        },
        {
          "name": "stderr",
          "output_type": "stream",
          "text": [
            "\r 52%|█████▏    | 24/46 [00:34<00:25,  1.16s/it]"
          ]
        },
        {
          "name": "stdout",
          "output_type": "stream",
          "text": [
            "\n"
          ]
        },
        {
          "name": "stderr",
          "output_type": "stream",
          "text": [
            "\r 54%|█████▍    | 25/46 [00:36<00:24,  1.15s/it]"
          ]
        },
        {
          "name": "stdout",
          "output_type": "stream",
          "text": [
            "\n"
          ]
        },
        {
          "name": "stderr",
          "output_type": "stream",
          "text": [
            "\r 57%|█████▋    | 26/46 [00:37<00:22,  1.15s/it]"
          ]
        },
        {
          "name": "stdout",
          "output_type": "stream",
          "text": [
            "\n"
          ]
        },
        {
          "name": "stderr",
          "output_type": "stream",
          "text": [
            "\r 59%|█████▊    | 27/46 [00:38<00:21,  1.15s/it]"
          ]
        },
        {
          "name": "stdout",
          "output_type": "stream",
          "text": [
            "\n"
          ]
        },
        {
          "name": "stderr",
          "output_type": "stream",
          "text": [
            "\r 61%|██████    | 28/46 [00:39<00:20,  1.15s/it]"
          ]
        },
        {
          "name": "stdout",
          "output_type": "stream",
          "text": [
            "\n"
          ]
        },
        {
          "name": "stderr",
          "output_type": "stream",
          "text": [
            "\r 63%|██████▎   | 29/46 [00:40<00:19,  1.15s/it]"
          ]
        },
        {
          "name": "stdout",
          "output_type": "stream",
          "text": [
            "\n"
          ]
        },
        {
          "name": "stderr",
          "output_type": "stream",
          "text": [
            "\r 65%|██████▌   | 30/46 [00:41<00:18,  1.16s/it]"
          ]
        },
        {
          "name": "stdout",
          "output_type": "stream",
          "text": [
            "\n"
          ]
        },
        {
          "name": "stderr",
          "output_type": "stream",
          "text": [
            "\r 67%|██████▋   | 31/46 [00:42<00:17,  1.16s/it]"
          ]
        },
        {
          "name": "stdout",
          "output_type": "stream",
          "text": [
            "\n"
          ]
        },
        {
          "name": "stderr",
          "output_type": "stream",
          "text": [
            "\r 70%|██████▉   | 32/46 [00:44<00:16,  1.16s/it]"
          ]
        },
        {
          "name": "stdout",
          "output_type": "stream",
          "text": [
            "\n"
          ]
        },
        {
          "name": "stderr",
          "output_type": "stream",
          "text": [
            "\r 72%|███████▏  | 33/46 [00:45<00:15,  1.17s/it]"
          ]
        },
        {
          "name": "stdout",
          "output_type": "stream",
          "text": [
            "\n"
          ]
        },
        {
          "name": "stderr",
          "output_type": "stream",
          "text": [
            "\r 74%|███████▍  | 34/46 [00:46<00:14,  1.17s/it]"
          ]
        },
        {
          "name": "stdout",
          "output_type": "stream",
          "text": [
            "\n"
          ]
        },
        {
          "name": "stderr",
          "output_type": "stream",
          "text": [
            "\r 76%|███████▌  | 35/46 [00:47<00:12,  1.17s/it]"
          ]
        },
        {
          "name": "stdout",
          "output_type": "stream",
          "text": [
            "\n"
          ]
        },
        {
          "name": "stderr",
          "output_type": "stream",
          "text": [
            "\r 78%|███████▊  | 36/46 [00:48<00:11,  1.17s/it]"
          ]
        },
        {
          "name": "stdout",
          "output_type": "stream",
          "text": [
            "\n"
          ]
        },
        {
          "name": "stderr",
          "output_type": "stream",
          "text": [
            "\r 80%|████████  | 37/46 [00:49<00:10,  1.16s/it]"
          ]
        },
        {
          "name": "stdout",
          "output_type": "stream",
          "text": [
            "\n"
          ]
        },
        {
          "name": "stderr",
          "output_type": "stream",
          "text": [
            "\r 83%|████████▎ | 38/46 [00:51<00:09,  1.16s/it]"
          ]
        },
        {
          "name": "stdout",
          "output_type": "stream",
          "text": [
            "\n"
          ]
        },
        {
          "name": "stderr",
          "output_type": "stream",
          "text": [
            "\r 85%|████████▍ | 39/46 [00:52<00:08,  1.17s/it]"
          ]
        },
        {
          "name": "stdout",
          "output_type": "stream",
          "text": [
            "\n"
          ]
        },
        {
          "name": "stderr",
          "output_type": "stream",
          "text": [
            "\r 87%|████████▋ | 40/46 [00:53<00:06,  1.17s/it]"
          ]
        },
        {
          "name": "stdout",
          "output_type": "stream",
          "text": [
            "\n"
          ]
        },
        {
          "name": "stderr",
          "output_type": "stream",
          "text": [
            "\r 89%|████████▉ | 41/46 [00:54<00:05,  1.16s/it]"
          ]
        },
        {
          "name": "stdout",
          "output_type": "stream",
          "text": [
            "\n"
          ]
        },
        {
          "name": "stderr",
          "output_type": "stream",
          "text": [
            "\r 91%|█████████▏| 42/46 [00:55<00:04,  1.16s/it]"
          ]
        },
        {
          "name": "stdout",
          "output_type": "stream",
          "text": [
            "\n"
          ]
        },
        {
          "name": "stderr",
          "output_type": "stream",
          "text": [
            "\r 93%|█████████▎| 43/46 [00:56<00:03,  1.16s/it]"
          ]
        },
        {
          "name": "stdout",
          "output_type": "stream",
          "text": [
            "\n"
          ]
        },
        {
          "name": "stderr",
          "output_type": "stream",
          "text": [
            "\r 96%|█████████▌| 44/46 [00:58<00:02,  1.15s/it]"
          ]
        },
        {
          "name": "stdout",
          "output_type": "stream",
          "text": [
            "\n"
          ]
        },
        {
          "name": "stderr",
          "output_type": "stream",
          "text": [
            "\r 98%|█████████▊| 45/46 [00:59<00:01,  1.15s/it]"
          ]
        },
        {
          "name": "stdout",
          "output_type": "stream",
          "text": [
            "\n"
          ]
        },
        {
          "name": "stderr",
          "output_type": "stream",
          "text": [
            "\r100%|██████████| 46/46 [01:00<00:00,  1.16s/it]"
          ]
        },
        {
          "name": "stdout",
          "output_type": "stream",
          "text": [
            "\n"
          ]
        },
        {
          "name": "stderr",
          "output_type": "stream",
          "text": [
            "\r100%|██████████| 46/46 [01:21<00:00,  1.78s/it]"
          ]
        },
        {
          "name": "stdout",
          "output_type": "stream",
          "text": [
            "CPU times: user 58.7 s, sys: 448 ms, total: 59.1 s\n",
            "Wall time: 1min 21s\n"
          ]
        },
        {
          "name": "stderr",
          "output_type": "stream",
          "text": [
            "\n"
          ]
        }
      ],
      "source": [
        "%%time \n",
        "evaluation_results = qg_evaluator.evaluate(dataset.test, 20)"
      ]
    },
    {
      "cell_type": "markdown",
      "metadata": {
        "id": "_tHnpJLdgHHb"
      },
      "source": [
        "Then we can check the results:"
      ]
    },
    {
      "cell_type": "code",
      "execution_count": 88,
      "metadata": {
        "colab": {
          "base_uri": "https://localhost:8080/"
        },
        "id": "LyKUzxgogJj1",
        "outputId": "663e9817-c883-4817-c6fe-f0ba4aca1cc2"
      },
      "outputs": [
        {
          "data": {
            "text/plain": [
              "{'METEOR': 0.4925994,\n",
              " 'ROUGE_1_FMEASURE': 0.14209767,\n",
              " 'ROUGE_1_PRECISION': 0.11734782,\n",
              " 'ROUGE_1_RECALL': 0.1945316,\n",
              " 'ROUGE_2_FMEASURE': 0.011932016,\n",
              " 'ROUGE_2_PRECISION': 0.009749041,\n",
              " 'ROUGE_2_RECALL': 0.016838448,\n",
              " 'ROUGE_L_FMEASURE': 0.12943695,\n",
              " 'ROUGE_L_PRECISION': 0.106331185,\n",
              " 'ROUGE_L_RECALL': 0.17884359}"
            ]
          },
          "execution_count": 88,
          "metadata": {},
          "output_type": "execute_result"
        }
      ],
      "source": [
        "dict(evaluation_results)"
      ]
    },
    {
      "cell_type": "markdown",
      "metadata": {
        "id": "Xm6_sdwVgSBc"
      },
      "source": [
        "Also we can compute the respective Q-metrics for **METEOR** and **ROUGE-L**:"
      ]
    },
    {
      "cell_type": "code",
      "execution_count": 91,
      "metadata": {
        "colab": {
          "base_uri": "https://localhost:8080/"
        },
        "id": "3s6CnWXtW5mw",
        "outputId": "f0e2054f-75b2-4dd8-b23c-4dc98c76f033"
      },
      "outputs": [
        {
          "name": "stderr",
          "output_type": "stream",
          "text": [
            "100%|██████████| 46/46 [06:21<00:00,  8.30s/it]\n",
            "100%|██████████| 46/46 [06:21<00:00,  8.30s/it]\n"
          ]
        }
      ],
      "source": [
        "q_evaluation_result = qg_evaluator.evaluate_metric_answerability(dataset.test, 20, 'Q-METEOR', qg_evaluator.results['METEOR'])\n",
        "q_evaluation_result = qg_evaluator.evaluate_metric_answerability(dataset.test, 20, 'Q-ROUGE_L_FMEASURE', qg_evaluator.results['ROUGE_L_FMEASURE'])"
      ]
    },
    {
      "cell_type": "code",
      "execution_count": 94,
      "metadata": {
        "colab": {
          "base_uri": "https://localhost:8080/"
        },
        "id": "9JuzK3Danoeh",
        "outputId": "5be770ff-e6bf-4236-8d33-6ceda38bdd9d"
      },
      "outputs": [
        {
          "data": {
            "text/plain": [
              "{'Q-METEOR': 0.393617, 'Q-ROUGE_L_FMEASURE': 0.28519925}"
            ]
          },
          "execution_count": 94,
          "metadata": {},
          "output_type": "execute_result"
        }
      ],
      "source": [
        "dict(q_evaluation_result)"
      ]
    }
  ],
  "metadata": {
    "accelerator": "GPU",
    "colab": {
      "collapsed_sections": [
        "ZS1Y56XayL9_",
        "Y8NrwPONoVQ-",
        "2hyzKyj_-GjI",
        "sFBKCIE3Jxf2",
        "MvU7n1LboA6g",
        "kx2f7Nn_4en9",
        "FF5Rtd4uqa_k",
        "wjVfZgIIf1RV",
        "fbjSxPGcFud_",
        "dtM9nOQrf3jq",
        "IF5J42g1l-be",
        "qIoySQKuIGlc",
        "0imUvBAg14Ep",
        "qyRA2RxZNsx4",
        "8WOVZj966EPP",
        "BEW5hmQMhgyM",
        "wc9WXQ9Dqt2u",
        "KgufCjSqb2ay"
      ],
      "include_colab_link": true,
      "name": "goqu_nb.ipynb",
      "provenance": []
    },
    "gpuClass": "standard",
    "kernelspec": {
      "display_name": "Python 3.9.12 ('question_generation')",
      "language": "python",
      "name": "python3"
    },
    "language_info": {
      "codemirror_mode": {
        "name": "ipython",
        "version": 3
      },
      "file_extension": ".py",
      "mimetype": "text/x-python",
      "name": "python",
      "nbconvert_exporter": "python",
      "pygments_lexer": "ipython3",
      "version": "3.9.12"
    },
    "vscode": {
      "interpreter": {
        "hash": "a2754dc7c9720ef5101423c06258bd6cf53da8b62a690338f39d2ca45379d2a1"
      }
    },
    "widgets": {
      "application/vnd.jupyter.widget-state+json": {
        "01e9be5988834f75b6edee1556868377": {
          "model_module": "@jupyter-widgets/controls",
          "model_module_version": "1.5.0",
          "model_name": "FloatProgressModel",
          "state": {
            "_dom_classes": [],
            "_model_module": "@jupyter-widgets/controls",
            "_model_module_version": "1.5.0",
            "_model_name": "FloatProgressModel",
            "_view_count": null,
            "_view_module": "@jupyter-widgets/controls",
            "_view_module_version": "1.5.0",
            "_view_name": "ProgressView",
            "bar_style": "success",
            "description": "",
            "description_tooltip": null,
            "layout": "IPY_MODEL_f864b0cb27624bfc92a9f3617559b5ee",
            "max": 2199,
            "min": 0,
            "orientation": "horizontal",
            "style": "IPY_MODEL_9d2c2b9fd94b4b33a375ff4b23764b64",
            "value": 2199
          }
        },
        "0e25adb3911a4a87be7d60280984d7ec": {
          "model_module": "@jupyter-widgets/base",
          "model_module_version": "1.2.0",
          "model_name": "LayoutModel",
          "state": {
            "_model_module": "@jupyter-widgets/base",
            "_model_module_version": "1.2.0",
            "_model_name": "LayoutModel",
            "_view_count": null,
            "_view_module": "@jupyter-widgets/base",
            "_view_module_version": "1.2.0",
            "_view_name": "LayoutView",
            "align_content": null,
            "align_items": null,
            "align_self": null,
            "border": null,
            "bottom": null,
            "display": null,
            "flex": null,
            "flex_flow": null,
            "grid_area": null,
            "grid_auto_columns": null,
            "grid_auto_flow": null,
            "grid_auto_rows": null,
            "grid_column": null,
            "grid_gap": null,
            "grid_row": null,
            "grid_template_areas": null,
            "grid_template_columns": null,
            "grid_template_rows": null,
            "height": null,
            "justify_content": null,
            "justify_items": null,
            "left": null,
            "margin": null,
            "max_height": null,
            "max_width": null,
            "min_height": null,
            "min_width": null,
            "object_fit": null,
            "object_position": null,
            "order": null,
            "overflow": null,
            "overflow_x": null,
            "overflow_y": null,
            "padding": null,
            "right": null,
            "top": null,
            "visibility": null,
            "width": null
          }
        },
        "0f8d98a465a44f909bb48fa6efe152a2": {
          "model_module": "@jupyter-widgets/controls",
          "model_module_version": "1.5.0",
          "model_name": "HBoxModel",
          "state": {
            "_dom_classes": [],
            "_model_module": "@jupyter-widgets/controls",
            "_model_module_version": "1.5.0",
            "_model_name": "HBoxModel",
            "_view_count": null,
            "_view_module": "@jupyter-widgets/controls",
            "_view_module_version": "1.5.0",
            "_view_name": "HBoxView",
            "box_style": "",
            "children": [
              "IPY_MODEL_e7825d500f3a467cb63be91fc6397085",
              "IPY_MODEL_01e9be5988834f75b6edee1556868377",
              "IPY_MODEL_7876d6d448b54fbf8390727ec39a2f1f"
            ],
            "layout": "IPY_MODEL_719d2ca7c9b543c7a1f918c170ebb624"
          }
        },
        "12033b8140a3450a89bea3c2b4b31a95": {
          "model_module": "@jupyter-widgets/controls",
          "model_module_version": "1.5.0",
          "model_name": "HBoxModel",
          "state": {
            "_dom_classes": [],
            "_model_module": "@jupyter-widgets/controls",
            "_model_module_version": "1.5.0",
            "_model_name": "HBoxModel",
            "_view_count": null,
            "_view_module": "@jupyter-widgets/controls",
            "_view_module_version": "1.5.0",
            "_view_name": "HBoxView",
            "box_style": "",
            "children": [
              "IPY_MODEL_ec5835b49e42444c96175f669535472b",
              "IPY_MODEL_789f30ec545241ccad4d70c2888a59b0",
              "IPY_MODEL_68e76fbf54da4ef595e93f8abc83c10b"
            ],
            "layout": "IPY_MODEL_a5d83c1cb73748a4bcc878e7547a9381"
          }
        },
        "26828c439bba4892b2cab3eed2572aa4": {
          "model_module": "@jupyter-widgets/base",
          "model_module_version": "1.2.0",
          "model_name": "LayoutModel",
          "state": {
            "_model_module": "@jupyter-widgets/base",
            "_model_module_version": "1.2.0",
            "_model_name": "LayoutModel",
            "_view_count": null,
            "_view_module": "@jupyter-widgets/base",
            "_view_module_version": "1.2.0",
            "_view_name": "LayoutView",
            "align_content": null,
            "align_items": null,
            "align_self": null,
            "border": null,
            "bottom": null,
            "display": null,
            "flex": null,
            "flex_flow": null,
            "grid_area": null,
            "grid_auto_columns": null,
            "grid_auto_flow": null,
            "grid_auto_rows": null,
            "grid_column": null,
            "grid_gap": null,
            "grid_row": null,
            "grid_template_areas": null,
            "grid_template_columns": null,
            "grid_template_rows": null,
            "height": null,
            "justify_content": null,
            "justify_items": null,
            "left": null,
            "margin": null,
            "max_height": null,
            "max_width": null,
            "min_height": null,
            "min_width": null,
            "object_fit": null,
            "object_position": null,
            "order": null,
            "overflow": null,
            "overflow_x": null,
            "overflow_y": null,
            "padding": null,
            "right": null,
            "top": null,
            "visibility": null,
            "width": null
          }
        },
        "2ffd6f1637eb4dfd8ffa63ede29bf947": {
          "model_module": "@jupyter-widgets/controls",
          "model_module_version": "1.5.0",
          "model_name": "DescriptionStyleModel",
          "state": {
            "_model_module": "@jupyter-widgets/controls",
            "_model_module_version": "1.5.0",
            "_model_name": "DescriptionStyleModel",
            "_view_count": null,
            "_view_module": "@jupyter-widgets/base",
            "_view_module_version": "1.2.0",
            "_view_name": "StyleView",
            "description_width": ""
          }
        },
        "68e76fbf54da4ef595e93f8abc83c10b": {
          "model_module": "@jupyter-widgets/controls",
          "model_module_version": "1.5.0",
          "model_name": "HTMLModel",
          "state": {
            "_dom_classes": [],
            "_model_module": "@jupyter-widgets/controls",
            "_model_module_version": "1.5.0",
            "_model_name": "HTMLModel",
            "_view_count": null,
            "_view_module": "@jupyter-widgets/controls",
            "_view_module_version": "1.5.0",
            "_view_name": "HTMLView",
            "description": "",
            "description_tooltip": null,
            "layout": "IPY_MODEL_26828c439bba4892b2cab3eed2572aa4",
            "placeholder": "​",
            "style": "IPY_MODEL_94d02ecff3b84d998e6a3c543bbdca83",
            "value": " 5.60k/? [00:00&lt;00:00, 173kB/s]"
          }
        },
        "719d2ca7c9b543c7a1f918c170ebb624": {
          "model_module": "@jupyter-widgets/base",
          "model_module_version": "1.2.0",
          "model_name": "LayoutModel",
          "state": {
            "_model_module": "@jupyter-widgets/base",
            "_model_module_version": "1.2.0",
            "_model_name": "LayoutModel",
            "_view_count": null,
            "_view_module": "@jupyter-widgets/base",
            "_view_module_version": "1.2.0",
            "_view_name": "LayoutView",
            "align_content": null,
            "align_items": null,
            "align_self": null,
            "border": null,
            "bottom": null,
            "display": null,
            "flex": null,
            "flex_flow": null,
            "grid_area": null,
            "grid_auto_columns": null,
            "grid_auto_flow": null,
            "grid_auto_rows": null,
            "grid_column": null,
            "grid_gap": null,
            "grid_row": null,
            "grid_template_areas": null,
            "grid_template_columns": null,
            "grid_template_rows": null,
            "height": null,
            "justify_content": null,
            "justify_items": null,
            "left": null,
            "margin": null,
            "max_height": null,
            "max_width": null,
            "min_height": null,
            "min_width": null,
            "object_fit": null,
            "object_position": null,
            "order": null,
            "overflow": null,
            "overflow_x": null,
            "overflow_y": null,
            "padding": null,
            "right": null,
            "top": null,
            "visibility": null,
            "width": null
          }
        },
        "7876d6d448b54fbf8390727ec39a2f1f": {
          "model_module": "@jupyter-widgets/controls",
          "model_module_version": "1.5.0",
          "model_name": "HTMLModel",
          "state": {
            "_dom_classes": [],
            "_model_module": "@jupyter-widgets/controls",
            "_model_module_version": "1.5.0",
            "_model_name": "HTMLModel",
            "_view_count": null,
            "_view_module": "@jupyter-widgets/controls",
            "_view_module_version": "1.5.0",
            "_view_name": "HTMLView",
            "description": "",
            "description_tooltip": null,
            "layout": "IPY_MODEL_7aff3e04482848aea5ba049487281d84",
            "placeholder": "​",
            "style": "IPY_MODEL_e8a88a4dff224d1fbe599a1589949134",
            "value": " 5.34k/? [00:00&lt;00:00, 139kB/s]"
          }
        },
        "789f30ec545241ccad4d70c2888a59b0": {
          "model_module": "@jupyter-widgets/controls",
          "model_module_version": "1.5.0",
          "model_name": "FloatProgressModel",
          "state": {
            "_dom_classes": [],
            "_model_module": "@jupyter-widgets/controls",
            "_model_module_version": "1.5.0",
            "_model_name": "FloatProgressModel",
            "_view_count": null,
            "_view_module": "@jupyter-widgets/controls",
            "_view_module_version": "1.5.0",
            "_view_name": "ProgressView",
            "bar_style": "success",
            "description": "",
            "description_tooltip": null,
            "layout": "IPY_MODEL_0e25adb3911a4a87be7d60280984d7ec",
            "max": 2160,
            "min": 0,
            "orientation": "horizontal",
            "style": "IPY_MODEL_abc0382b2aa142a79c4d995980924b3f",
            "value": 2160
          }
        },
        "7aff3e04482848aea5ba049487281d84": {
          "model_module": "@jupyter-widgets/base",
          "model_module_version": "1.2.0",
          "model_name": "LayoutModel",
          "state": {
            "_model_module": "@jupyter-widgets/base",
            "_model_module_version": "1.2.0",
            "_model_name": "LayoutModel",
            "_view_count": null,
            "_view_module": "@jupyter-widgets/base",
            "_view_module_version": "1.2.0",
            "_view_name": "LayoutView",
            "align_content": null,
            "align_items": null,
            "align_self": null,
            "border": null,
            "bottom": null,
            "display": null,
            "flex": null,
            "flex_flow": null,
            "grid_area": null,
            "grid_auto_columns": null,
            "grid_auto_flow": null,
            "grid_auto_rows": null,
            "grid_column": null,
            "grid_gap": null,
            "grid_row": null,
            "grid_template_areas": null,
            "grid_template_columns": null,
            "grid_template_rows": null,
            "height": null,
            "justify_content": null,
            "justify_items": null,
            "left": null,
            "margin": null,
            "max_height": null,
            "max_width": null,
            "min_height": null,
            "min_width": null,
            "object_fit": null,
            "object_position": null,
            "order": null,
            "overflow": null,
            "overflow_x": null,
            "overflow_y": null,
            "padding": null,
            "right": null,
            "top": null,
            "visibility": null,
            "width": null
          }
        },
        "94d02ecff3b84d998e6a3c543bbdca83": {
          "model_module": "@jupyter-widgets/controls",
          "model_module_version": "1.5.0",
          "model_name": "DescriptionStyleModel",
          "state": {
            "_model_module": "@jupyter-widgets/controls",
            "_model_module_version": "1.5.0",
            "_model_name": "DescriptionStyleModel",
            "_view_count": null,
            "_view_module": "@jupyter-widgets/base",
            "_view_module_version": "1.2.0",
            "_view_name": "StyleView",
            "description_width": ""
          }
        },
        "9505a3f114934cb582541d5418600ad6": {
          "model_module": "@jupyter-widgets/base",
          "model_module_version": "1.2.0",
          "model_name": "LayoutModel",
          "state": {
            "_model_module": "@jupyter-widgets/base",
            "_model_module_version": "1.2.0",
            "_model_name": "LayoutModel",
            "_view_count": null,
            "_view_module": "@jupyter-widgets/base",
            "_view_module_version": "1.2.0",
            "_view_name": "LayoutView",
            "align_content": null,
            "align_items": null,
            "align_self": null,
            "border": null,
            "bottom": null,
            "display": null,
            "flex": null,
            "flex_flow": null,
            "grid_area": null,
            "grid_auto_columns": null,
            "grid_auto_flow": null,
            "grid_auto_rows": null,
            "grid_column": null,
            "grid_gap": null,
            "grid_row": null,
            "grid_template_areas": null,
            "grid_template_columns": null,
            "grid_template_rows": null,
            "height": null,
            "justify_content": null,
            "justify_items": null,
            "left": null,
            "margin": null,
            "max_height": null,
            "max_width": null,
            "min_height": null,
            "min_width": null,
            "object_fit": null,
            "object_position": null,
            "order": null,
            "overflow": null,
            "overflow_x": null,
            "overflow_y": null,
            "padding": null,
            "right": null,
            "top": null,
            "visibility": null,
            "width": null
          }
        },
        "9d2c2b9fd94b4b33a375ff4b23764b64": {
          "model_module": "@jupyter-widgets/controls",
          "model_module_version": "1.5.0",
          "model_name": "ProgressStyleModel",
          "state": {
            "_model_module": "@jupyter-widgets/controls",
            "_model_module_version": "1.5.0",
            "_model_name": "ProgressStyleModel",
            "_view_count": null,
            "_view_module": "@jupyter-widgets/base",
            "_view_module_version": "1.2.0",
            "_view_name": "StyleView",
            "bar_color": null,
            "description_width": ""
          }
        },
        "a5d83c1cb73748a4bcc878e7547a9381": {
          "model_module": "@jupyter-widgets/base",
          "model_module_version": "1.2.0",
          "model_name": "LayoutModel",
          "state": {
            "_model_module": "@jupyter-widgets/base",
            "_model_module_version": "1.2.0",
            "_model_name": "LayoutModel",
            "_view_count": null,
            "_view_module": "@jupyter-widgets/base",
            "_view_module_version": "1.2.0",
            "_view_name": "LayoutView",
            "align_content": null,
            "align_items": null,
            "align_self": null,
            "border": null,
            "bottom": null,
            "display": null,
            "flex": null,
            "flex_flow": null,
            "grid_area": null,
            "grid_auto_columns": null,
            "grid_auto_flow": null,
            "grid_auto_rows": null,
            "grid_column": null,
            "grid_gap": null,
            "grid_row": null,
            "grid_template_areas": null,
            "grid_template_columns": null,
            "grid_template_rows": null,
            "height": null,
            "justify_content": null,
            "justify_items": null,
            "left": null,
            "margin": null,
            "max_height": null,
            "max_width": null,
            "min_height": null,
            "min_width": null,
            "object_fit": null,
            "object_position": null,
            "order": null,
            "overflow": null,
            "overflow_x": null,
            "overflow_y": null,
            "padding": null,
            "right": null,
            "top": null,
            "visibility": null,
            "width": null
          }
        },
        "abc0382b2aa142a79c4d995980924b3f": {
          "model_module": "@jupyter-widgets/controls",
          "model_module_version": "1.5.0",
          "model_name": "ProgressStyleModel",
          "state": {
            "_model_module": "@jupyter-widgets/controls",
            "_model_module_version": "1.5.0",
            "_model_name": "ProgressStyleModel",
            "_view_count": null,
            "_view_module": "@jupyter-widgets/base",
            "_view_module_version": "1.2.0",
            "_view_name": "StyleView",
            "bar_color": null,
            "description_width": ""
          }
        },
        "bc8da0b9d232498797d85d2a95d97d27": {
          "model_module": "@jupyter-widgets/controls",
          "model_module_version": "1.5.0",
          "model_name": "DescriptionStyleModel",
          "state": {
            "_model_module": "@jupyter-widgets/controls",
            "_model_module_version": "1.5.0",
            "_model_name": "DescriptionStyleModel",
            "_view_count": null,
            "_view_module": "@jupyter-widgets/base",
            "_view_module_version": "1.2.0",
            "_view_name": "StyleView",
            "description_width": ""
          }
        },
        "e7825d500f3a467cb63be91fc6397085": {
          "model_module": "@jupyter-widgets/controls",
          "model_module_version": "1.5.0",
          "model_name": "HTMLModel",
          "state": {
            "_dom_classes": [],
            "_model_module": "@jupyter-widgets/controls",
            "_model_module_version": "1.5.0",
            "_model_name": "HTMLModel",
            "_view_count": null,
            "_view_module": "@jupyter-widgets/controls",
            "_view_module_version": "1.5.0",
            "_view_name": "HTMLView",
            "description": "",
            "description_tooltip": null,
            "layout": "IPY_MODEL_ee932b1fed634d2f84a89ff0872add74",
            "placeholder": "​",
            "style": "IPY_MODEL_2ffd6f1637eb4dfd8ffa63ede29bf947",
            "value": "Downloading builder script: "
          }
        },
        "e8a88a4dff224d1fbe599a1589949134": {
          "model_module": "@jupyter-widgets/controls",
          "model_module_version": "1.5.0",
          "model_name": "DescriptionStyleModel",
          "state": {
            "_model_module": "@jupyter-widgets/controls",
            "_model_module_version": "1.5.0",
            "_model_name": "DescriptionStyleModel",
            "_view_count": null,
            "_view_module": "@jupyter-widgets/base",
            "_view_module_version": "1.2.0",
            "_view_name": "StyleView",
            "description_width": ""
          }
        },
        "ec5835b49e42444c96175f669535472b": {
          "model_module": "@jupyter-widgets/controls",
          "model_module_version": "1.5.0",
          "model_name": "HTMLModel",
          "state": {
            "_dom_classes": [],
            "_model_module": "@jupyter-widgets/controls",
            "_model_module_version": "1.5.0",
            "_model_name": "HTMLModel",
            "_view_count": null,
            "_view_module": "@jupyter-widgets/controls",
            "_view_module_version": "1.5.0",
            "_view_name": "HTMLView",
            "description": "",
            "description_tooltip": null,
            "layout": "IPY_MODEL_9505a3f114934cb582541d5418600ad6",
            "placeholder": "​",
            "style": "IPY_MODEL_bc8da0b9d232498797d85d2a95d97d27",
            "value": "Downloading builder script: "
          }
        },
        "ee932b1fed634d2f84a89ff0872add74": {
          "model_module": "@jupyter-widgets/base",
          "model_module_version": "1.2.0",
          "model_name": "LayoutModel",
          "state": {
            "_model_module": "@jupyter-widgets/base",
            "_model_module_version": "1.2.0",
            "_model_name": "LayoutModel",
            "_view_count": null,
            "_view_module": "@jupyter-widgets/base",
            "_view_module_version": "1.2.0",
            "_view_name": "LayoutView",
            "align_content": null,
            "align_items": null,
            "align_self": null,
            "border": null,
            "bottom": null,
            "display": null,
            "flex": null,
            "flex_flow": null,
            "grid_area": null,
            "grid_auto_columns": null,
            "grid_auto_flow": null,
            "grid_auto_rows": null,
            "grid_column": null,
            "grid_gap": null,
            "grid_row": null,
            "grid_template_areas": null,
            "grid_template_columns": null,
            "grid_template_rows": null,
            "height": null,
            "justify_content": null,
            "justify_items": null,
            "left": null,
            "margin": null,
            "max_height": null,
            "max_width": null,
            "min_height": null,
            "min_width": null,
            "object_fit": null,
            "object_position": null,
            "order": null,
            "overflow": null,
            "overflow_x": null,
            "overflow_y": null,
            "padding": null,
            "right": null,
            "top": null,
            "visibility": null,
            "width": null
          }
        },
        "f864b0cb27624bfc92a9f3617559b5ee": {
          "model_module": "@jupyter-widgets/base",
          "model_module_version": "1.2.0",
          "model_name": "LayoutModel",
          "state": {
            "_model_module": "@jupyter-widgets/base",
            "_model_module_version": "1.2.0",
            "_model_name": "LayoutModel",
            "_view_count": null,
            "_view_module": "@jupyter-widgets/base",
            "_view_module_version": "1.2.0",
            "_view_name": "LayoutView",
            "align_content": null,
            "align_items": null,
            "align_self": null,
            "border": null,
            "bottom": null,
            "display": null,
            "flex": null,
            "flex_flow": null,
            "grid_area": null,
            "grid_auto_columns": null,
            "grid_auto_flow": null,
            "grid_auto_rows": null,
            "grid_column": null,
            "grid_gap": null,
            "grid_row": null,
            "grid_template_areas": null,
            "grid_template_columns": null,
            "grid_template_rows": null,
            "height": null,
            "justify_content": null,
            "justify_items": null,
            "left": null,
            "margin": null,
            "max_height": null,
            "max_width": null,
            "min_height": null,
            "min_width": null,
            "object_fit": null,
            "object_position": null,
            "order": null,
            "overflow": null,
            "overflow_x": null,
            "overflow_y": null,
            "padding": null,
            "right": null,
            "top": null,
            "visibility": null,
            "width": null
          }
        }
      }
    }
  },
  "nbformat": 4,
  "nbformat_minor": 0
}
