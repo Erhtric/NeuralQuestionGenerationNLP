{
  "cells": [
    {
      "cell_type": "markdown",
      "metadata": {
        "id": "view-in-github",
        "colab_type": "text"
      },
      "source": [
        "<a href=\"https://colab.research.google.com/github/Erhtric/NeuralQuestionGenerationNLP/blob/master/NeuralQG.ipynb\" target=\"_parent\"><img src=\"https://colab.research.google.com/assets/colab-badge.svg\" alt=\"Open In Colab\"/></a>"
      ]
    },
    {
      "cell_type": "markdown",
      "source": [
        "# 0. Miscellanous"
      ],
      "metadata": {
        "id": "ZS1Y56XayL9_"
      }
    },
    {
      "cell_type": "code",
      "source": [
        "%load_ext tensorboard"
      ],
      "metadata": {
        "id": "dm3zC-RigXJH"
      },
      "execution_count": 1,
      "outputs": []
    },
    {
      "cell_type": "markdown",
      "metadata": {
        "id": "8OU-wpGL18xj"
      },
      "source": [
        "This is the main file: its purpouse is to collect all the code coming from the coding pipeline."
      ]
    },
    {
      "cell_type": "markdown",
      "source": [
        "## 0.1 Libraries"
      ],
      "metadata": {
        "id": "xl7H67iPmZHL"
      }
    },
    {
      "cell_type": "code",
      "source": [
        "%%capture\n",
        "!pip install datasets\n",
        "#!pip install tflearn - batchnorm"
      ],
      "metadata": {
        "id": "jJ6IfruxRu7S"
      },
      "execution_count": 2,
      "outputs": []
    },
    {
      "cell_type": "code",
      "execution_count": 3,
      "metadata": {
        "colab": {
          "base_uri": "https://localhost:8080/"
        },
        "id": "oLvONYDvKAHz",
        "outputId": "ceefc8ad-4388-4212-bc16-8360e47385b1"
      },
      "outputs": [
        {
          "output_type": "stream",
          "name": "stderr",
          "text": [
            "[nltk_data] Downloading package punkt to /root/nltk_data...\n",
            "[nltk_data]   Package punkt is already up-to-date!\n",
            "[nltk_data] Downloading package averaged_perceptron_tagger to\n",
            "[nltk_data]     /root/nltk_data...\n",
            "[nltk_data]   Package averaged_perceptron_tagger is already up-to-\n",
            "[nltk_data]       date!\n",
            "[nltk_data] Downloading package maxent_ne_chunker to\n",
            "[nltk_data]     /root/nltk_data...\n",
            "[nltk_data]   Package maxent_ne_chunker is already up-to-date!\n",
            "[nltk_data] Downloading package words to /root/nltk_data...\n",
            "[nltk_data]   Package words is already up-to-date!\n"
          ]
        },
        {
          "output_type": "execute_result",
          "data": {
            "text/plain": [
              "True"
            ]
          },
          "metadata": {},
          "execution_count": 3
        }
      ],
      "source": [
        "import pandas as pd\n",
        "import numpy as np\n",
        "import json\n",
        "import sklearn\n",
        "from sklearn.model_selection import train_test_split, GroupShuffleSplit\n",
        "import re\n",
        "import os\n",
        "import typing\n",
        "from typing import Any, Tuple, List, NamedTuple\n",
        "import spacy\n",
        "import gensim\n",
        "import gensim.downloader as gloader\n",
        "from gensim.models import KeyedVectors\n",
        "#import seaborn as sns\n",
        "from itertools import chain\n",
        "from tqdm import tqdm\n",
        "import datetime\n",
        "import matplotlib.pyplot as plt\n",
        "\n",
        "import tensorflow as tf\n",
        "#import tensorflow_addons as tfa\n",
        "#import tensorflow_text as tf_text\n",
        "from tensorflow import keras\n",
        "from keras.models import Model\n",
        "from keras.layers import (\n",
        "    Layer, \n",
        "    Embedding, \n",
        "    LSTM, \n",
        "    Dense, \n",
        "    Bidirectional, \n",
        "    Input, \n",
        "    AdditiveAttention,\n",
        "    Dropout)\n",
        "\n",
        "# import keras_nlp\n",
        "import nltk\n",
        "#from nltk import punkt, pos_tag, ne_chunk\n",
        "from nltk.tokenize import sent_tokenize\n",
        "nltk.download('punkt')\n",
        "nltk.download('averaged_perceptron_tagger')\n",
        "nltk.download('maxent_ne_chunker')\n",
        "nltk.download('words')"
      ]
    },
    {
      "cell_type": "code",
      "source": [
        "from google.colab import drive\n",
        "drive.mount('/content/drive')"
      ],
      "metadata": {
        "colab": {
          "base_uri": "https://localhost:8080/"
        },
        "id": "WMLxr4LDpZGc",
        "outputId": "107330a9-8326-45cb-fac1-35a5760d0f16"
      },
      "execution_count": 4,
      "outputs": [
        {
          "output_type": "stream",
          "name": "stdout",
          "text": [
            "Drive already mounted at /content/drive; to attempt to forcibly remount, call drive.mount(\"/content/drive\", force_remount=True).\n"
          ]
        }
      ]
    },
    {
      "cell_type": "markdown",
      "source": [
        "## 0.2 Directories"
      ],
      "metadata": {
        "id": "Y8NrwPONoVQ-"
      }
    },
    {
      "cell_type": "markdown",
      "metadata": {
        "id": "UqKVWPel_ybt"
      },
      "source": [
        "Commands to prepare the folder to accomodate data."
      ]
    },
    {
      "cell_type": "code",
      "execution_count": 5,
      "metadata": {
        "colab": {
          "base_uri": "https://localhost:8080/"
        },
        "id": "BKVGy7JPJCoi",
        "outputId": "f0480fb9-ea5c-4f2e-af8f-60e946615de2"
      },
      "outputs": [
        {
          "output_type": "stream",
          "name": "stdout",
          "text": [
            "/content/drive/.shortcut-targets-by-id/1cVw6eUwM-dRL9BhqtXULyOqeXDrYkwmH/NLP/Project/Testing folder/Eric\n"
          ]
        }
      ],
      "source": [
        "%cd /content/drive/MyDrive/NLP/Project/Testing folder/Eric\n",
        "%pwd\n",
        "\n",
        "# disable chained assignments to avoid annoying warning\n",
        "pd.options.mode.chained_assignment = None "
      ]
    },
    {
      "cell_type": "code",
      "execution_count": 6,
      "metadata": {
        "id": "ikmZGjUlitqS"
      },
      "outputs": [],
      "source": [
        "if not os.path.exists('./data'):\n",
        "  print('Data folder does not exists. Creating it')\n",
        "  os.makedirs('./data')\n",
        "\n",
        "if not os.path.exists('./training_checkpoints'):\n",
        "  print('Training checkpoint folder does not exists. Creating it')\n",
        "  os.makedirs('./training_checkpoints')\n",
        "\n",
        "if not os.path.exists('./logs'):\n",
        "  print('Tensorboard Logs folder does not exists. Creating it')\n",
        "  os.makedirs('./logs')"
      ]
    },
    {
      "cell_type": "markdown",
      "metadata": {
        "id": "2hyzKyj_-GjI"
      },
      "source": [
        "## 0.3 Configuration\n",
        "This is for the `configuration.json` file, or something similar: "
      ]
    },
    {
      "cell_type": "code",
      "execution_count": 7,
      "metadata": {
        "id": "5bS3uLkE-Mvf"
      },
      "outputs": [],
      "source": [
        "batch_size = 256\n",
        "units = 600\n",
        "\n",
        "dataset_config = {\n",
        "    'num_examples': 18896,\n",
        "    # 'num_examples': 9448,\n",
        "    'num_words_context': 45000,\n",
        "    'num_words_question': 28000,\n",
        "    'buffer_size': 32000,\n",
        "    'batch_size': batch_size,\n",
        "    'random_seed': 13,\n",
        "}\n",
        "\n",
        "model_config = {\n",
        "    'enc_units': units,\n",
        "    'dec_units': units,\n",
        "    'max_length_context': None,\n",
        "    'max_length_question': None,\n",
        "    'dropout_rate': None,\n",
        "    'regularizer': None,\n",
        "}\n",
        "\n",
        "path = {\n",
        "    'training_json_path': \"./data/training_set.json\",\n",
        "    'save_pkl_path': \"./data/squadv2.pkl\",\n",
        "    'checkpoint_dir': \"./training_checkpoints\",\n",
        "}\n"
      ]
    },
    {
      "cell_type": "markdown",
      "metadata": {
        "id": "sFBKCIE3Jxf2"
      },
      "source": [
        "# 1. Dataset Definition\n",
        "\n",
        "Things to do:\n",
        "1. Add to each sentence $x$ a start of sequence `<SOS>` tag and end of sequence `<EOS>` tag,\n",
        "2. Clean the sentences by removing special chars,\n",
        "3. Perform other preprocessing steps,\n",
        "4. Create a **vocabulary** with a word-to-index and index-to-word mappings by using a **tokenizer**, \n",
        "5. Extract the sentences that contain an answer and use them as input features, whereas the question will be our target\n",
        "6. Pad each context to maximum length.\n",
        "\n",
        "The resulting data that will be used hereinafter will be of type `tf.data.Dataset`. "
      ]
    },
    {
      "cell_type": "code",
      "execution_count": 8,
      "metadata": {
        "id": "XyCKxqwRZelj"
      },
      "outputs": [],
      "source": [
        "class Dataset(NamedTuple):\n",
        "  \"\"\"\n",
        "  This class represent a a 3-way split processed dataset. \n",
        "  \"\"\"\n",
        "  # Reference :- https://github.com/topper-123/Articles/blob/master/New-interesting-data-types-in-Python3.rst\n",
        "  train: tf.data.Dataset\n",
        "  val: tf.data.Dataset\n",
        "  test: tf.data.Dataset\n",
        "\n",
        "class SQuAD:\n",
        "  def __init__(self):\n",
        "    self.random_seed = None\n",
        "    self.squad_df = None\n",
        "    self.preproc_squad_df = None\n",
        "    self.tokenizer = None\n",
        "    self.buffer_size = 0\n",
        "    self.batch_size = 0\n",
        "\n",
        "  def __call__(self,\n",
        "           num_examples, \n",
        "           buffer_size, \n",
        "           batch_size, \n",
        "           random_seed,\n",
        "           training_json_path,\n",
        "           save_pkl_path,\n",
        "           num_words_context=None,\n",
        "           num_words_question=None,\n",
        "           tokenized=True,\n",
        "           pos_ner_tag=True,\n",
        "           tensor_type=True):\n",
        "    \"\"\"The call() method loads the SQuAD dataset, preprocess it and optionally it returns \n",
        "    it tokenized. Moreover it also perform a 3-way split.\n",
        "\n",
        "    Args:\n",
        "        num_examples (int): number of examples to be taken from the original SQuAD dataset\n",
        "        num_words (int): the maximum number of words to keep, based on word frequency. Only the most common num_words-1 words will be kept. \n",
        "        buffer_size (int): buffer size for the shuffling operation\n",
        "        batch_size (int): size of the batches\n",
        "        tokenized (boolean): specifies if the context and question data should be both tokenized\n",
        "        pos_ner_tag (boolean):\n",
        "        tensor_type (boolean): \n",
        "\n",
        "    Returns (depending on the input parameters):\n",
        "        pd.DataFrame: training dataset\n",
        "        pd.DataFrame: validation dataset\n",
        "        pd.DataFrame: testing dataset\n",
        "          OR\n",
        "        NamedTuple: dataset, (dict, dict, dict)\n",
        "    \"\"\"\n",
        "    self.random_seed = random_seed\n",
        "    self.buffer_size = buffer_size\n",
        "    self.batch_size = batch_size\n",
        "    self.training_json_path = training_json_path\n",
        "    self.save_pkl_path = save_pkl_path\n",
        "    self.pos_ner_tag = pos_ner_tag\n",
        "    self.max_length_context = 0\n",
        "    self.max_length_question = 0\n",
        "\n",
        "    # Load dataset from file\n",
        "    self.load_dataset(num_examples)\n",
        "    # Extract answer\n",
        "    self.extract_answer()\n",
        "    # Preprocess context and question\n",
        "    self.preprocess()\n",
        "    \n",
        "    # Perform splitting\n",
        "    X_train, y_train, X_val, y_val, X_test, y_test = self.split_train_val(self.preproc_squad_df)\n",
        "    \n",
        "    if self.pos_ner_tag: \n",
        "      pass\n",
        "\n",
        "    # Initialize Tokenizer for the source: in our case the context phrases\n",
        "    # alternatively TextVectorization \n",
        "    self.tokenizer_context = tf.keras.preprocessing.text.Tokenizer(filters='', \n",
        "                                                                   oov_token='<unk>',\n",
        "                                                                   num_words=num_words_context)\n",
        "    # initialize also for the target, namely the question phrases\n",
        "    self.tokenizer_question = tf.keras.preprocessing.text.Tokenizer(filters='', \n",
        "                                                                   oov_token='<unk>',\n",
        "                                                                   num_words=num_words_question)\n",
        "\n",
        "    if tokenized:\n",
        "      X_train_tokenized, word_to_idx_train_context = self.__tokenize_context(X_train, test=False)\n",
        "      y_train_tokenized, word_to_idx_train_question = self.__tokenize_question(y_train, test=False)\n",
        "\n",
        "      # update the max length for the other splits\n",
        "      self.max_length_context = X_train_tokenized.context.iloc[0].shape[0]\n",
        "      self.max_length_question = y_train_tokenized.iloc[0].shape[0]\n",
        "\n",
        "      X_val_tokenized, word_to_idx_val_context = self.__tokenize_context(X_val, test=False)\n",
        "      y_val_tokenized, word_to_idx_val_question = self.__tokenize_question(y_val, test=False)\n",
        "\n",
        "      # The test set should handle the oov words as unkwown words\n",
        "      X_test_tokenized, word_to_idx_test_context = self.__tokenize_context(X_test, test=True)\n",
        "      y_test_tokenized, word_to_idx_test_question = self.__tokenize_question(y_test, test=True)\n",
        "\n",
        "      word_to_idx_context = (word_to_idx_train_context, word_to_idx_val_context, word_to_idx_test_context)\n",
        "      word_to_idx_question = (word_to_idx_train_question, word_to_idx_val_question, word_to_idx_test_question)\n",
        "      \n",
        "      if tensor_type:\n",
        "        AUTOTUNE = tf.data.AUTOTUNE\n",
        "\n",
        "        # Returns tf.Data.Dataset objects (tokenized)\n",
        "        train_dataset = self.to_tensor(X_train_tokenized, y_train_tokenized)\n",
        "        val_dataset = self.to_tensor(X_val_tokenized, y_val_tokenized)\n",
        "        test_dataset = self.to_tensor(X_test_tokenized, y_test_tokenized)\n",
        "\n",
        "        # Configure the dataset for performance\n",
        "        train_dataset = train_dataset.cache().prefetch(buffer_size=AUTOTUNE)\n",
        "        val_dataset = val_dataset.cache().prefetch(buffer_size=AUTOTUNE)\n",
        "        test_dataset = test_dataset.cache().prefetch(buffer_size=AUTOTUNE)\n",
        "\n",
        "        dataset = Dataset(\n",
        "            train=train_dataset, \n",
        "            val=val_dataset,\n",
        "            test=test_dataset)\n",
        "\n",
        "        return dataset, word_to_idx_context, word_to_idx_question\n",
        "      else:\n",
        "        # Returns pd.DataFrame objects (tokenized)\n",
        "        return X_train_tokenized, y_train_tokenized, X_val_tokenized, y_val_tokenized, X_test_tokenized, y_test_tokenized\n",
        "    else:\n",
        "      return X_train, y_train, X_val, y_val, X_test, y_test\n",
        "\n",
        "  def load_dataset(self, num_examples):\n",
        "    \"\"\"\n",
        "    Extract the dataset from the json file. Already grouped by title.\n",
        "\n",
        "    :param path: [Optional] specifies the local path where the training_set.json file is located\n",
        "\n",
        "    :return\n",
        "        - the extracted dataset in a dataframe format\n",
        "    \"\"\"\n",
        "    if os.path.exists(self.save_pkl_path):\n",
        "      print('File already exists! Loading from .pkl...\\n')\n",
        "      self.squad_df = pd.read_pickle(self.save_pkl_path)\n",
        "      self.squad_df = self.squad_df[:num_examples]\n",
        "    else:\n",
        "      print('Loading from .json...\\n')\n",
        "      with open(self.training_json_path) as f:\n",
        "          data = json.load(f)\n",
        "\n",
        "      df_array = []\n",
        "      for current_subject in data['data']:\n",
        "          title = current_subject['title']\n",
        "\n",
        "          for current_context in current_subject['paragraphs']:\n",
        "              context = current_context['context']\n",
        "\n",
        "              for current_question in current_context['qas']:\n",
        "                  question = current_question['question']\n",
        "                  id = current_question['id']\n",
        "\n",
        "              for answer_text in current_question['answers']:\n",
        "                    answer = answer_text['text']\n",
        "                    answer_start = answer_text['answer_start']\n",
        "                    record = { \"id\": id,\n",
        "                                \"title\": title,\n",
        "                                \"context\": context,\n",
        "                                \"question\": question,\n",
        "                                \"answer_start\": answer_start,\n",
        "                                \"answer\": answer\n",
        "                                }\n",
        "\n",
        "              df_array.append(record)\n",
        "      \n",
        "      # Save file\n",
        "      pd.to_pickle(pd.DataFrame(df_array), self.save_pkl_path)\n",
        "      self.squad_df = pd.DataFrame(df_array)[:num_examples]\n",
        "\n",
        "  def preprocess(self):\n",
        "    df = self.squad_df.copy()\n",
        "\n",
        "    # Pre-processing context\n",
        "    context = list(df.context)\n",
        "    preproc_context = []\n",
        "\n",
        "    for c in context:\n",
        "      c = self.__preprocess_sentence(c, question=False)\n",
        "      preproc_context.append(c)\n",
        "    \n",
        "    df.context = preproc_context\n",
        "\n",
        "    # Pre-processing questions\n",
        "    question = list(df.question)\n",
        "    preproc_question = []\n",
        "\n",
        "    for q in question:\n",
        "      q = self.__preprocess_sentence(q, question=True)\n",
        "      preproc_question.append(q)\n",
        "    \n",
        "    df.question = preproc_question\n",
        "\n",
        "    # Remove features that are not useful\n",
        "    df = df.drop(['id'], axis=1)\n",
        "    self.preproc_squad_df = df\n",
        "\n",
        "  def __preprocess_sentence(self, sen, question):\n",
        "    # Creating a space between a word and the punctuation following it\n",
        "    # Reference:- https://stackoverflow.com/questions/3645931/python-padding-punctuation-with-white-spaces-keeping-punctuation\n",
        "    sen = re.sub(r\"([?.!,¿])\", r\" \\1 \", sen)\n",
        "    sen = re.sub(r'[\" \"]+', \" \", sen)\n",
        "\n",
        "    # Replacing everything with space except (a-z, A-Z, \".\", \"?\", \"!\", \",\")\n",
        "    sen = re.sub(r\"[^a-zA-Z0-9?.!,¿]+\", \" \", sen)\n",
        "\n",
        "    sen = sen.strip()\n",
        "\n",
        "    # Adding a start and an end token to the sentence so that the model know when to \n",
        "    # start and stop predicting.\n",
        "    # if not question: sen = '<SOS> ' + sen + ' <EOS>'\n",
        "    sen = '<SOS> ' + sen + ' <EOS>'\n",
        "    return sen\n",
        "\n",
        "  def __answer_start_end(self, df):\n",
        "    \"\"\"\n",
        "    Creates a list of starting indexes and ending indexes for the answers.\n",
        "\n",
        "    :param df: the target Dataframe\n",
        "\n",
        "    :return: a dataframe containing the start and the end indexes foreach answer (ending index is excluded).\n",
        "\n",
        "    \"\"\"\n",
        "    start_idx = df.answer_start\n",
        "    end_idx = [start + len(list(answer)) for start, answer in zip(list(start_idx), list(df.answer))]\n",
        "    return pd.DataFrame(list(zip(start_idx, end_idx)), columns=['start', 'end'])\n",
        "\n",
        "  def split_train_val(self, df, train_size=0.8):\n",
        "    \"\"\"\n",
        "    This method splits the dataframe in training and test sets, or eventually, in training, validation and test sets.\n",
        "\n",
        "    Args\n",
        "        :param df: the target Dataframe\n",
        "        :param random_seed: random seed used in the splits\n",
        "        :param train_size: represents the absolute number of train samples\n",
        "        :param val: boolean for choosing between a 3-way split or 2-way one.\n",
        "\n",
        "    Returns:\n",
        "        - Data and labels for training, validation and test sets if val is True \n",
        "        - Data and labels for training and test sets if val is False \n",
        "\n",
        "    \"\"\"\n",
        "    # Maybe we have also to return the index for the starting answer\n",
        "    X = df.drop(['answer_start', 'question', 'answer'], axis=1).copy()\n",
        "    idx = self.__answer_start_end(df)\n",
        "    X['start'] = idx['start']\n",
        "    X['end'] = idx['end']\n",
        "    y = df['question']\n",
        "\n",
        "    # In the first step we will split the data in training and remaining dataset\n",
        "    splitter = GroupShuffleSplit(train_size=train_size, n_splits=2, random_state=self.random_seed)\n",
        "    split = splitter.split(X, groups=X['title'])\n",
        "    train_idx, rem_idx = next(split)\n",
        "\n",
        "    X_train = X.iloc[train_idx]\n",
        "    y_train = y.iloc[train_idx]\n",
        "    X_rem = X.iloc[rem_idx]\n",
        "    y_rem = y.iloc[rem_idx]\n",
        "\n",
        "\n",
        "    # Val and test test accounts for 10% of the total data. Both 5%.\n",
        "    splitter = GroupShuffleSplit(train_size=train_size, n_splits=2, random_state=self.random_seed)\n",
        "    split = splitter.split(X_rem, groups=X_rem['title'])\n",
        "    val_idx, test_idx = next(split)\n",
        "\n",
        "    X_val = X_rem.iloc[val_idx]\n",
        "    y_val = y_rem.iloc[val_idx]\n",
        "\n",
        "    X_test = X_rem.iloc[test_idx]\n",
        "    y_test = y_rem.iloc[test_idx]\n",
        "\n",
        "    return X_train, y_train, X_val, y_val, X_test, y_test\n",
        "\n",
        "  def __tokenize_context(self, X, test):\n",
        "    context = X.context\n",
        "    if not test: self.tokenizer_context.fit_on_texts(context)\n",
        "    context_tf = self.tokenizer_context.texts_to_sequences(context)\n",
        "\n",
        "    if self.max_length_context != 0:\n",
        "      context_tf_pad = tf.keras.preprocessing.sequence.pad_sequences(context_tf, maxlen=self.max_length_context, padding='post')\n",
        "    else:\n",
        "      context_tf_pad = tf.keras.preprocessing.sequence.pad_sequences(context_tf, padding='post')\n",
        "\n",
        "    for i, _ in enumerate(context):\n",
        "      X['context'].iloc[i] = context_tf_pad[i]\n",
        "\n",
        "    # Add the padding\n",
        "    self.tokenizer_context.word_index['<pad>'] = 0\n",
        "    self.tokenizer_context.index_word[0] = '<pad>'\n",
        "\n",
        "    return X, self.tokenizer_context.word_index\n",
        "\n",
        "  def __tokenize_question(self, y, test):\n",
        "    question = y\n",
        "    if not test: self.tokenizer_question.fit_on_texts(question)\n",
        "    question_tf = self.tokenizer_question.texts_to_sequences(question)\n",
        "    \n",
        "    if self.max_length_question != 0:\n",
        "      question_tf_pad = tf.keras.preprocessing.sequence.pad_sequences(question_tf, maxlen=self.max_length_question, padding='post')\n",
        "    else:\n",
        "      question_tf_pad = tf.keras.preprocessing.sequence.pad_sequences(question_tf, padding='post')\n",
        "\n",
        "    for i, _ in enumerate(question):\n",
        "      y.iloc[i] = question_tf_pad[i]\n",
        "\n",
        "    # Add the padding\n",
        "    self.tokenizer_question.word_index['<pad>'] = 0\n",
        "    self.tokenizer_question.index_word[0] = '<pad>'\n",
        "\n",
        "    return y, self.tokenizer_question.word_index\n",
        "\n",
        "  def extract_answer(self):\n",
        "    df = self.squad_df.copy()\n",
        "    start_end = self.__answer_start_end(df)\n",
        "    context = list(df.context)\n",
        "    \n",
        "    selected_sentences = []\n",
        "    for i, par in enumerate(context):\n",
        "      sentences = sent_tokenize(par)\n",
        "      start = start_end.iloc[i].start\n",
        "      end = start_end.iloc[i].end      \n",
        "      right_sentence = \"\"\n",
        "      context_characters = 0\n",
        "\n",
        "      for j, sen in enumerate(sentences):\n",
        "        sen += ' '\n",
        "        context_characters += len(sen)\n",
        "        # If the answer is completely in the current sentence\n",
        "        if(start < context_characters and end <= context_characters):\n",
        "          right_sentence = sen\n",
        "          selected_sentences.append(right_sentence)\n",
        "          break\n",
        "        # the answer is in both the current and the next sentence\n",
        "        if(start < context_characters and end > context_characters):\n",
        "          right_sentence = sen + sentences[j+1]\n",
        "          selected_sentences.append(right_sentence)\n",
        "          break \n",
        "\n",
        "    self.squad_df.context = selected_sentences\n",
        "\n",
        "  def to_tensor(self, X, y, train=True):\n",
        "    X = X.context.copy()\n",
        "    y = y.copy()\n",
        "\n",
        "    # Reference:- https://www.tensorflow.org/api_docs/python/tf/data/Dataset\n",
        "    dataset = tf.data.Dataset.from_tensor_slices(\n",
        "        (tf.cast(list(X), tf.int64), \n",
        "         tf.cast(list(y), tf.int64)))\n",
        "    if train: \n",
        "      dataset = dataset.shuffle(self.buffer_size).batch(self.batch_size, drop_remainder=True)\n",
        "    else:\n",
        "      dataset = dataset.batch(self.batch_size, drop_remainder=True)\n",
        "\n",
        "    return dataset"
      ]
    },
    {
      "cell_type": "markdown",
      "metadata": {
        "id": "iTXVdOGcZSCT"
      },
      "source": [
        "By calling the `SQuAD` constructor we create a dataset handling object which will be useful for future operations."
      ]
    },
    {
      "cell_type": "code",
      "execution_count": 9,
      "metadata": {
        "id": "RfCYdZofJ866"
      },
      "outputs": [],
      "source": [
        "dataset_creator = SQuAD()"
      ]
    },
    {
      "cell_type": "markdown",
      "metadata": {
        "id": "MvU7n1LboA6g"
      },
      "source": [
        "## 1.1 Tensor Ready\n",
        "\n",
        "This is the data produced that we are most interested in. As we can see we will have:\n",
        "- a data structure `dataset` containing the training, validation and test set;\n",
        "- a tuple containing the word-to-token mappings for the training, validation and test set respectively."
      ]
    },
    {
      "cell_type": "code",
      "execution_count": 10,
      "metadata": {
        "colab": {
          "base_uri": "https://localhost:8080/"
        },
        "id": "Ax999y7aI75Y",
        "outputId": "0f0c47ad-a7a3-4493-e5bc-740557d58cbb"
      },
      "outputs": [
        {
          "output_type": "stream",
          "name": "stdout",
          "text": [
            "File already exists! Loading from .pkl...\n",
            "\n",
            "Sentences max lenght: 389\n",
            "Questions max lenght: 40\n",
            "CPU times: user 29.9 s, sys: 980 ms, total: 30.9 s\n",
            "Wall time: 38.4 s\n"
          ]
        }
      ],
      "source": [
        "# Preprocessed dataset without tokenizing\n",
        "%%time\n",
        "dataset, word_to_idx_context, word_to_idx_question = dataset_creator(**dataset_config, \n",
        "                                                                     training_json_path=path['training_json_path'], \n",
        "                                                                     save_pkl_path=path['save_pkl_path'], \n",
        "                                                                     tokenized=True)\n",
        "\n",
        "max_length_context = dataset.train.element_spec[0].shape[1]\n",
        "max_length_question = dataset.train.element_spec[1].shape[1]\n",
        "\n",
        "print(f'Sentences max lenght: {max_length_context}')\n",
        "print(f'Questions max lenght: {max_length_question}')"
      ]
    },
    {
      "cell_type": "markdown",
      "metadata": {
        "id": "W7hARM_R2Kod"
      },
      "source": [
        "Accessing such `NamedTuple` data structure (cfr `dataset`) is pretty simple, namely in a:\n",
        "1. tuple-way by accessing it like a list, e.g. `train = dataset[0]`,\n",
        "2. object-way by calling the instance parameters, e.g. `train = dataset.train`.\n",
        "\n",
        "The other two returned values are the word to index mappings for the context and question words respectively. In order to refer to a specific split simply call:\n",
        "1. for the training dataset,\n",
        "2. for the validation dataset,\n",
        "3. for the test dataset,"
      ]
    },
    {
      "cell_type": "code",
      "execution_count": 11,
      "metadata": {
        "id": "obaRYgawxyXp",
        "colab": {
          "base_uri": "https://localhost:8080/"
        },
        "outputId": "aa977616-eefd-435a-b48e-1fdd5609ee05"
      },
      "outputs": [
        {
          "output_type": "stream",
          "name": "stdout",
          "text": [
            "Training vocab size for the context: 36668\n",
            "Training vocab size for the question: 17290\n",
            "\n",
            "Validation vocab size for the context: 40284\n",
            "Validation vocab size for the question: 19021\n",
            "\n",
            "Test vocab size for the context: 40284\n",
            "Test vocab size for the question: 19021\n"
          ]
        }
      ],
      "source": [
        "print(f'Training vocab size for the context: {len(word_to_idx_context[0])}')\n",
        "print(f'Training vocab size for the question: {len(word_to_idx_question[0])}')\n",
        "print()\n",
        "print(f'Validation vocab size for the context: {len(word_to_idx_context[1])}')\n",
        "print(f'Validation vocab size for the question: {len(word_to_idx_question[1])}')\n",
        "print()\n",
        "print(f'Test vocab size for the context: {len(word_to_idx_context[2])}')\n",
        "print(f'Test vocab size for the question: {len(word_to_idx_question[2])}')"
      ]
    },
    {
      "cell_type": "code",
      "source": [
        "print(f'Vocab size --- [Context]: {len(word_to_idx_context[1])} [Question]: {len(word_to_idx_question[1])}')"
      ],
      "metadata": {
        "colab": {
          "base_uri": "https://localhost:8080/"
        },
        "id": "_EC5HkothI9t",
        "outputId": "ef152893-b942-4b9e-c39c-b28d78d8b824"
      },
      "execution_count": 12,
      "outputs": [
        {
          "output_type": "stream",
          "name": "stdout",
          "text": [
            "Vocab size --- [Context]: 40284 [Question]: 19021\n"
          ]
        }
      ]
    },
    {
      "cell_type": "markdown",
      "metadata": {
        "id": "kx2f7Nn_4en9"
      },
      "source": [
        "# 2. GloVe and Embedding matrix"
      ]
    },
    {
      "cell_type": "code",
      "execution_count": 13,
      "metadata": {
        "id": "TRJ1NpSMqaJL"
      },
      "outputs": [],
      "source": [
        "class GloVe:\n",
        "  def __init__(self, embedding_dimension):\n",
        "    self.embedding_dimension = embedding_dimension\n",
        "\n",
        "    try:\n",
        "      self.embedding_model = KeyedVectors.load(f'./data/glove_model_{self.embedding_dimension}')\n",
        "    except FileNotFoundError:\n",
        "      print('[Warning] Model not found in local folder, please wait...')\n",
        "      self.embedding_model = self.load_glove()\n",
        "      self.embedding_model.save(f'./data/glove_model_{self.embedding_dimension}')  \n",
        "      print('Download finished. Model loaded!')\n",
        "\n",
        "  def load_glove(self):\n",
        "    \"\"\"\n",
        "    Loads a pre-trained GloVe embedding model via gensim library.\n",
        "\n",
        "    We have a matrix that associate words to a vector of a user-defined dimension.\n",
        "    \"\"\"\n",
        "\n",
        "    download_path = \"glove-wiki-gigaword-{}\".format(self.embedding_dimension)\n",
        "\n",
        "    try:\n",
        "      emb_model = gloader.load(download_path)\n",
        "    except ValueError as e:\n",
        "      print(\"Generic error when loading GloVe\")\n",
        "      print(\"Check embedding dimension\")\n",
        "      raise e\n",
        "\n",
        "    emb_model = gloader.load(download_path)\n",
        "    return emb_model\n",
        "\n",
        "  def build_embedding_matrix(self, word_to_idx, vocab_size: int) -> np.ndarray:\n",
        "    \"\"\"\n",
        "    Builds the embedding matrix of a specific dataset given a pre-trained word embedding model\n",
        "\n",
        "    :param word_to_idx: vocabulary map (word -> index) (dict)\n",
        "    :param vocab_size: size of the vocabulary\n",
        "\n",
        "    :return\n",
        "        - embedding matrix that assigns a high dimensional vector to each word in the \n",
        "        dataset specific vocabulary (shape |V| x d)\n",
        "    \"\"\"\n",
        "    embedding_matrix = np.zeros((vocab_size, self.embedding_dimension), dtype=np.float32)\n",
        "    oov_count = 0\n",
        "    oov_words = []\n",
        "\n",
        "    # For each word which is not present in the vocabulary we assign a random vector, otherwise we take the GloVe embedding\n",
        "    for word, idx in tqdm(word_to_idx.items()):\n",
        "      try:\n",
        "        embedding_vector = self.embedding_model[word]\n",
        "      except (KeyError, TypeError):\n",
        "        oov_count += 1\n",
        "        oov_words.append(word)\n",
        "        embedding_vector = np.random.uniform(low=-0.5, \n",
        "                                             high=0.5, \n",
        "                                             size=self.embedding_dimension)\n",
        "\n",
        "      embedding_matrix[idx] = embedding_vector\n",
        "    \n",
        "    print(f'\\n[Debug] {oov_count} OOV words found!\\n')\n",
        "    return embedding_matrix, oov_words"
      ]
    },
    {
      "cell_type": "markdown",
      "metadata": {
        "id": "gk-z8A5y3cpI"
      },
      "source": [
        "The next step is to initialize the handler with the desidered `embedding_dimension`. Then to build the embedding matrix with the pre-trained GloVe embeddings simply call the `build_embedding_matrix` method."
      ]
    },
    {
      "cell_type": "code",
      "execution_count": 14,
      "metadata": {
        "id": "YUmvdCWGavSR",
        "colab": {
          "base_uri": "https://localhost:8080/"
        },
        "outputId": "b1765866-6680-4dba-b8b9-89ee525b77ec"
      },
      "outputs": [
        {
          "output_type": "stream",
          "name": "stderr",
          "text": [
            "100%|██████████| 40284/40284 [00:00<00:00, 239848.37it/s]\n"
          ]
        },
        {
          "output_type": "stream",
          "name": "stdout",
          "text": [
            "\n",
            "[Debug] 3607 OOV words found!\n",
            "\n"
          ]
        },
        {
          "output_type": "stream",
          "name": "stderr",
          "text": [
            "100%|██████████| 19021/19021 [00:00<00:00, 261743.22it/s]"
          ]
        },
        {
          "output_type": "stream",
          "name": "stdout",
          "text": [
            "\n",
            "[Debug] 1347 OOV words found!\n",
            "\n",
            "CPU times: user 1.06 s, sys: 422 ms, total: 1.48 s\n",
            "Wall time: 1.8 s\n"
          ]
        },
        {
          "output_type": "stream",
          "name": "stderr",
          "text": [
            "\n"
          ]
        }
      ],
      "source": [
        "%%time\n",
        "# Initalize the handler for GloVe\n",
        "glove_handler = GloVe(embedding_dimension=300)\n",
        "\n",
        "# We will create the matrix by using only the words present in the training and validation set\n",
        "embedding_matrix_context, oov_words_context = glove_handler.build_embedding_matrix(\n",
        "    word_to_idx_context[2], \n",
        "    len(word_to_idx_context[2]))\n",
        "\n",
        "embedding_matrix_question, oov_words_question = glove_handler.build_embedding_matrix(\n",
        "    word_to_idx_question[2], \n",
        "    len(word_to_idx_question[2]))"
      ]
    },
    {
      "cell_type": "markdown",
      "metadata": {
        "id": "qdLOk0pQu3Iu"
      },
      "source": [
        "Convert both of them into tensor, but it is fine to also treat them as `numpy` array, still it is better to use the `tensorflow` fundamentals."
      ]
    },
    {
      "cell_type": "code",
      "execution_count": 15,
      "metadata": {
        "id": "EX6PvKTBsdSW"
      },
      "outputs": [],
      "source": [
        "embedding_matrix_context = tf.convert_to_tensor(embedding_matrix_context)\n",
        "embedding_matrix_question = tf.convert_to_tensor(embedding_matrix_question)"
      ]
    },
    {
      "cell_type": "markdown",
      "metadata": {
        "id": "FF5Rtd4uqa_k"
      },
      "source": [
        "# 3. Encoder-Decoder Definition"
      ]
    },
    {
      "cell_type": "code",
      "execution_count": 16,
      "metadata": {
        "id": "GjdRysIvPoLc"
      },
      "outputs": [],
      "source": [
        "example_context_batch, example_question_batch = next(iter(dataset.train))"
      ]
    },
    {
      "cell_type": "markdown",
      "metadata": {
        "id": "wjVfZgIIf1RV"
      },
      "source": [
        "## 3.1 Encoder\n",
        "We will use a bidirectional LSTM to encode the sentence,\n",
        "$$\n",
        "\\begin{align*}\n",
        "\\overrightarrow{b_t} &= \\overrightarrow{\\text{LSTM}}(x_t, \\overrightarrow{b_{t-1}})\\\\\n",
        "\\overleftarrow{b_t} &= \\overleftarrow{\\text{LSTM}}(x_t, \\overleftarrow{b_{t+1}})\\\\\n",
        "\\end{align*}\n",
        "$$\n",
        "where $\\overrightarrow{b_t}$ is the hidden state at time step $t$ for the forward pass LSTM and $\\overleftarrow{b_t}$ for the backward pass."
      ]
    },
    {
      "cell_type": "code",
      "execution_count": 17,
      "metadata": {
        "id": "GK6Kd1XvqK22"
      },
      "outputs": [],
      "source": [
        "class Encoder(tf.keras.Model):\n",
        "  def __init__(self, model_config, embedding_matrix, **kwargs):\n",
        "    super(Encoder, self).__init__(**kwargs)\n",
        "    \n",
        "    self.encoder_input = Input(shape=(model_config['max_length_context'],), \n",
        "                             batch_size = model_config['batch_size'], \n",
        "                             dtype=tf.int32, \n",
        "                             name='Context')\n",
        "    self.embedding = Embedding(input_dim=embedding_matrix.shape[0],\n",
        "                               output_dim=embedding_matrix.shape[1],\n",
        "                               input_length=model_config['max_length_context'],\n",
        "                               embeddings_initializer=keras.initializers.Constant(embedding_matrix),\n",
        "                               trainable=False,\n",
        "                               mask_zero=True,\n",
        "                               name='Context_embedding') \n",
        "    \n",
        "    self.spatial_dropout = tf.keras.layers.SpatialDropout1D(model_config['dropout_rate'])\n",
        "\n",
        "    self.bi_lstm = Bidirectional(LSTM(model_config['enc_units']//2, \n",
        "                                      return_sequences=True, \n",
        "                                      return_state=True,\n",
        "                                      dropout=model_config['dropout_rate'],\n",
        "                                      kernel_regularizer=tf.keras.regularizers.L2(model_config['regularizer'])), \n",
        "                                  name='Context_encoding',\n",
        "                                  merge_mode='concat')\n",
        "\n",
        "    self.concatenate = tf.keras.layers.Concatenate(axis=1, name='Merge') \n",
        "\n",
        "  def call(self, inputs, state=None, training=False):\n",
        "    # 1. The input is a tokenized and padded sentence containing the answer from the context\n",
        "    # 2. The embedding layer looks up for the embedding for each token, the mask is automatically produced\n",
        "    vectors = self.embedding(inputs)\n",
        "\n",
        "    vectors = self.spatial_dropout(vectors)\n",
        "\n",
        "    # 3. The Bi-LSTM processes the embedding sequence forward and backward:\n",
        "    #     output shape: ('batch', 'max_length_context', 'units')\n",
        "    #     hidden state shape: fw ('batch', 'units//2'), bw ('batch', 'units//2')\n",
        "    #     cell state shape: fw ('batch', 'units//2'), bw ('batch', 'units//2')\n",
        "    output, forward_h, forward_c, backward_h, backward_c = self.bi_lstm(vectors, initial_state=state, training=training)\n",
        "\n",
        "    # 4. Concatenate the forward and the backward states\n",
        "    h = self.concatenate([forward_h, backward_h])\n",
        "    c = self.concatenate([forward_c, backward_c])\n",
        "    encoder_state = [h, c]\n",
        "\n",
        "    # 5. Return the new sequence processed by the encoder and its state\n",
        "    return [output, encoder_state]\n",
        "\n",
        "  # Reference :- https://stackoverflow.com/questions/61427583/how-do-i-plot-a-keras-tensorflow-subclassing-api-model\n",
        "  def build_graph(self):\n",
        "    return tf.keras.Model(inputs=self.encoder_input, outputs=self.call(self.encoder_input))\n",
        "  \n",
        "  def plot_model(self):\n",
        "    return tf.keras.utils.plot_model(\n",
        "        self.build_graph(),               \n",
        "        show_shapes=True, \n",
        "        show_layer_names=True,  \n",
        "        expand_nested=True                       \n",
        "    )"
      ]
    },
    {
      "cell_type": "markdown",
      "metadata": {
        "id": "fbjSxPGcFud_"
      },
      "source": [
        "### 3.1.1 Test the encoder stack\n",
        "\n"
      ]
    },
    {
      "cell_type": "code",
      "source": [
        "model_config = {\n",
        "    'batch_size': 64,\n",
        "    'enc_units': 256,\n",
        "    'dec_units': 256,\n",
        "    'max_length_context': dataset.train.element_spec[0].shape[1],\n",
        "    'max_length_question': dataset.train.element_spec[1].shape[1],\n",
        "    'dropout_rate': .3,\n",
        "    'regularizer': 1e-2,\n",
        "}"
      ],
      "metadata": {
        "id": "4T927b_88tjA"
      },
      "execution_count": 40,
      "outputs": []
    },
    {
      "cell_type": "markdown",
      "source": [
        "A simple example could be done by taking a single batch from the dataset."
      ],
      "metadata": {
        "id": "J2yhcqnrbxTp"
      }
    },
    {
      "cell_type": "code",
      "execution_count": 41,
      "metadata": {
        "id": "_ffteDMQyzmD",
        "colab": {
          "base_uri": "https://localhost:8080/"
        },
        "outputId": "fbfccc61-0dd8-4894-c661-35f0254dfb7a"
      },
      "outputs": [
        {
          "output_type": "stream",
          "name": "stdout",
          "text": [
            "Encoder output shape: (batch_size, max_length_context, units): (256, 389, 256)\n",
            "Hidden state shape: (batch_size, units): (256, 256)\n",
            "Cell state shape: (batch_size, units): (256, 256)\n"
          ]
        }
      ],
      "source": [
        "# We need to encode the context, so we will pass the embedding matrix for the context\n",
        "encoder = Encoder(model_config=model_config, embedding_matrix=embedding_matrix_context)\n",
        "encoder_outputs, encoder_state = encoder(example_context_batch)\n",
        "\n",
        "hidden_state, cell_state = encoder_state\n",
        "\n",
        "print(f'Encoder output shape: (batch_size, max_length_context, units): {encoder_outputs.shape}')\n",
        "print(f'Hidden state shape: (batch_size, units): {hidden_state.shape}')\n",
        "print(f'Cell state shape: (batch_size, units): {cell_state.shape}')"
      ]
    },
    {
      "cell_type": "code",
      "source": [
        "encoder.build_graph()\n",
        "encoder.summary()"
      ],
      "metadata": {
        "colab": {
          "base_uri": "https://localhost:8080/"
        },
        "id": "eZ2NgqMLW3RO",
        "outputId": "08ee6c45-345b-43dd-8c05-ec265e0233d9"
      },
      "execution_count": 42,
      "outputs": [
        {
          "output_type": "stream",
          "name": "stdout",
          "text": [
            "Model: \"encoder_1\"\n",
            "_________________________________________________________________\n",
            " Layer (type)                Output Shape              Param #   \n",
            "=================================================================\n",
            " Context_embedding (Embeddin  (64, 389, 300)           12085200  \n",
            " g)                                                              \n",
            "                                                                 \n",
            " spatial_dropout1d_1 (Spatia  (64, 389, 300)           0         \n",
            " lDropout1D)                                                     \n",
            "                                                                 \n",
            " Context_encoding (Bidirecti  [(64, 389, 256),         439296    \n",
            " onal)                        (64, 128),                         \n",
            "                              (64, 128),                         \n",
            "                              (64, 128),                         \n",
            "                              (64, 128)]                         \n",
            "                                                                 \n",
            " Merge (Concatenate)         (64, 256)                 0         \n",
            "                                                                 \n",
            "=================================================================\n",
            "Total params: 12,524,496\n",
            "Trainable params: 439,296\n",
            "Non-trainable params: 12,085,200\n",
            "_________________________________________________________________\n"
          ]
        }
      ]
    },
    {
      "cell_type": "code",
      "source": [
        "encoder.plot_model()"
      ],
      "metadata": {
        "colab": {
          "base_uri": "https://localhost:8080/",
          "height": 0
        },
        "id": "vpn2GGuJX4cd",
        "outputId": "b478e775-ed76-4d0c-9070-93806b10e907"
      },
      "execution_count": 43,
      "outputs": [
        {
          "output_type": "execute_result",
          "data": {
            "text/plain": [
              "<IPython.core.display.Image object>"
            ],
            "image/png": "[encoded data removed]"
          },
          "metadata": {},
          "execution_count": 43
        }
      ]
    },
    {
      "cell_type": "markdown",
      "source": [
        "The encoder returns its internal state so that its state can be used to initialize the decoder.\n",
        "\n",
        "It's also common for a LSTM to return its state so that it can process a sequence over multiple calls."
      ],
      "metadata": {
        "id": "JjVmUmzJb1xf"
      }
    },
    {
      "cell_type": "markdown",
      "metadata": {
        "id": "dtM9nOQrf3jq"
      },
      "source": [
        "## 3.2 Decoder"
      ]
    },
    {
      "cell_type": "code",
      "source": [
        "class Decoder(tf.keras.Model):\n",
        "  def __init__(self, model_config, embedding_matrix, **kwargs):\n",
        "    super(Decoder, self).__init__(**kwargs)\n",
        "    \n",
        "    # Attributes\n",
        "    self.batch_size = model_config['batch_size']\n",
        "\n",
        "    self.new_token_input = Input(shape=(1), \n",
        "                           batch_size=self.batch_size, \n",
        "                           name='Token_t')\n",
        "    self.enc_output_input = Input(shape=(model_config['max_length_context'], model_config['enc_units']), \n",
        "                            batch_size=self.batch_size, \n",
        "                            name='Enc_output')\n",
        "                        \n",
        "    self.embedding = Embedding(input_dim=embedding_matrix.shape[0],\n",
        "                               output_dim=embedding_matrix.shape[1],\n",
        "                               embeddings_initializer=keras.initializers.Constant(embedding_matrix),\n",
        "                               trainable=False,  \n",
        "                               mask_zero=True,\n",
        "                               name='Question_embedding')\n",
        "        \n",
        "    self.lstm_layer_1 = LSTM(model_config['dec_units'], \n",
        "                           return_sequences=True,\n",
        "                           return_state=np.True_,\n",
        "                           dropout=model_config['dropout_rate'],\n",
        "                           kernel_regularizer=tf.keras.regularizers.L2(model_config['regularizer']),\n",
        "                           name='Decoding_question_1')\n",
        "    \n",
        "    self.lstm_layer_2 = LSTM(model_config['dec_units'], \n",
        "                           return_sequences=True,\n",
        "                           return_state=True,\n",
        "                           dropout=model_config['dropout_rate'],\n",
        "                           kernel_regularizer=tf.keras.regularizers.L2(model_config['regularizer']),\n",
        "                           name='Decoding_question_2')\n",
        "    \n",
        "    # self.attention = BahdanauAttention(decoder_config['dec_units'])\n",
        "    # Additive attention layer, a.k.a. Bahdanau-style attention.\n",
        "    self.attention = tf.keras.layers.AdditiveAttention(name='Attention_head')\n",
        "\n",
        "    self.concatenate = tf.keras.layers.Concatenate(axis=-1, name='Merge')\n",
        "\n",
        "    self.fc1 = Dense(model_config['dec_units']*2, activation=tf.keras.activations.tanh, use_bias=False, name='Dense_Wt')\n",
        "\n",
        "    self.dropout = tf.keras.layers.Dropout(model_config['dropout_rate'])\n",
        "\n",
        "    # Compute the logits\n",
        "    self.decoder_logits = Dense(embedding_matrix.shape[0], use_bias=False, name='Logits_Ws')\n",
        "\n",
        "  def call(self, inputs, state=None, training=False):\n",
        "    new_token = inputs[0]\n",
        "    enc_output = inputs[1]\n",
        "\n",
        "    # 1. The embedding layer looks up for the embedding for each token, masks is automatically computed\n",
        "    # vectors shape: (batch_size, 1, embedding_dimension)\n",
        "    vectors = self.embedding(new_token)\n",
        "    if tf.shape(vectors).shape == 2: vectors = tf.expand_dims(vectors, axis=1)\n",
        "\n",
        "    # 2. Process one step with the LSTM\n",
        "    # LSTM expects inputs of shape: (batch_size, timestep, feature)\n",
        "    output, h, c = self.lstm_layer_1(vectors, initial_state=state, training=training)\n",
        "\n",
        "    output, h, c = self.lstm_layer_2(output, initial_state=(h, c), training=training)\n",
        "\n",
        "    # 4. Use the LSTM cell output as the query for the attention over the encoder output, that is the value.\n",
        "    # The mask is automatically passed as argument by the keras backend.\n",
        "    context_vector, attention_weights = self.attention([output, enc_output],\n",
        "                                                       training=training,\n",
        "                                                       return_attention_scores=True)\n",
        "\n",
        "    # 5. Join the context_vector and cell output [ct; ht] shape: (batch t, value_units + query_units)\n",
        "    output_and_context_vector = self.concatenate([context_vector, output])\n",
        "\n",
        "    # at = tanh(Wt@[ht, ct])\n",
        "    attention_vector = self.fc1(output_and_context_vector)\n",
        "\n",
        "    attention_vector = self.dropout(attention_vector)\n",
        "\n",
        "    # logits = softmax(Ws@at), it produces unscaled logits\n",
        "    logits = self.decoder_logits(attention_vector)\n",
        "\n",
        "    return [logits, attention_weights, (h, c)]\n",
        "\n",
        "      # Reference :- https://stackoverflow.com/questions/61427583/how-do-i-plot-a-keras-tensorflow-subclassing-api-model\n",
        "  def build_graph(self):\n",
        "    return tf.keras.Model(inputs=[self.new_token_input, self.enc_output_input], outputs=self.call([self.new_token_input, self.enc_output_input]))\n",
        "  \n",
        "  def plot_model(self):\n",
        "    return tf.keras.utils.plot_model(\n",
        "        self.build_graph(),               \n",
        "        show_shapes=True, \n",
        "        show_layer_names=True,  \n",
        "        expand_nested=True                       \n",
        "    )"
      ],
      "metadata": {
        "id": "zLt-d5-x_WIC"
      },
      "execution_count": 44,
      "outputs": []
    },
    {
      "cell_type": "markdown",
      "metadata": {
        "id": "IF5J42g1l-be"
      },
      "source": [
        "### 3.2.1 Test the decoder stack\n",
        "\n",
        "The decoder will take as input:\n",
        "1. `new_tokens`: the last token generated of shape `(batch_size, 1)`, namely the token obrained in the previous time step of the decoder (we will initialize the decoder with the `\"<sos>\"` token);\n",
        "2. `enc_output`: this is the representation produced by the `Encoder` of shape `(batch_size, max_length_context, enc_units)`;\n",
        "3. `mask`: this is the mask, that is a boolean tensor, indicating which tokens will be considered in the decoding of shape `(batch_size, max_length_context)`; \n",
        "4. `decoder_state`: the previous state of the decoder, namely the internal state of the decoder's LSTM (the paper suggests to input the hidden and cell state produced by the Bi-LSTM). The shape is `[(batch_size, enc_units), (batch_size, enc_units)]`.\n",
        "\n"
      ]
    },
    {
      "cell_type": "code",
      "execution_count": 45,
      "metadata": {
        "id": "kS0UBnMzTbie"
      },
      "outputs": [],
      "source": [
        "decoder = Decoder(model_config=model_config, embedding_matrix=embedding_matrix_question)"
      ]
    },
    {
      "cell_type": "code",
      "execution_count": 46,
      "metadata": {
        "id": "KeMvqDnrTkf0"
      },
      "outputs": [],
      "source": [
        "# Convert the target sequence, and collect the \"[START]\" tokens\n",
        "start_tag_index = word_to_idx_question[2]['<sos>']\n",
        "first_token = tf.constant([[start_tag_index]] * dataset_config['batch_size'])"
      ]
    },
    {
      "cell_type": "code",
      "execution_count": 47,
      "metadata": {
        "id": "BF6PWsNYfmUf",
        "colab": {
          "base_uri": "https://localhost:8080/"
        },
        "outputId": "9b3a7b2c-29d1-4159-8d70-dc499b34a401"
      },
      "outputs": [
        {
          "output_type": "stream",
          "name": "stdout",
          "text": [
            "Logits shape: (batch_size, t, output_vocab_size) (256, 1, 19021)\n",
            "Attention weights shape: (batch_size, t, max_length_context) (256, 1, 389)\n",
            "Hidden state shape: (batch_size, dec_units) (256, 256)\n",
            "Cell state shape: (batch_size, dec_units) (256, 256)\n"
          ]
        }
      ],
      "source": [
        "decoder_logits, attention_weights, decoder_state = decoder(inputs=[first_token, encoder_outputs], state=encoder_state)\n",
        "\n",
        "hidden_dec_state, cell_dec_state = decoder_state\n",
        "\n",
        "print(f'Logits shape: (batch_size, t, output_vocab_size) {decoder_logits.shape}')\n",
        "print(f'Attention weights shape: (batch_size, t, max_length_context) {attention_weights.shape}')\n",
        "print(f'Hidden state shape: (batch_size, dec_units) {hidden_dec_state.shape}')\n",
        "print(f'Cell state shape: (batch_size, dec_units) {cell_dec_state.shape}')"
      ]
    },
    {
      "cell_type": "code",
      "source": [
        "decoder.build_graph()\n",
        "decoder.summary()"
      ],
      "metadata": {
        "colab": {
          "base_uri": "https://localhost:8080/"
        },
        "id": "JvSanVszYhL4",
        "outputId": "f0d90541-152d-4928-a648-2af4747f769a"
      },
      "execution_count": 48,
      "outputs": [
        {
          "output_type": "stream",
          "name": "stdout",
          "text": [
            "Model: \"decoder_1\"\n",
            "_________________________________________________________________\n",
            " Layer (type)                Output Shape              Param #   \n",
            "=================================================================\n",
            " Question_embedding (Embeddi  (64, 1, 300)             5706300   \n",
            " ng)                                                             \n",
            "                                                                 \n",
            " Decoding_question_1 (LSTM)  [(64, 1, 256),            570368    \n",
            "                              (64, 256),                         \n",
            "                              (64, 256)]                         \n",
            "                                                                 \n",
            " Decoding_question_2 (LSTM)  [(64, 1, 256),            525312    \n",
            "                              (64, 256),                         \n",
            "                              (64, 256)]                         \n",
            "                                                                 \n",
            " Attention_head (AdditiveAtt  ((64, 1, 256),           256       \n",
            " ention)                      (64, 1, 389))                      \n",
            "                                                                 \n",
            " Merge (Concatenate)         (64, 1, 512)              0         \n",
            "                                                                 \n",
            " Dense_Wt (Dense)            (64, 1, 512)              262144    \n",
            "                                                                 \n",
            " dropout_1 (Dropout)         (64, 1, 512)              0         \n",
            "                                                                 \n",
            " Logits_Ws (Dense)           (64, 1, 19021)            9738752   \n",
            "                                                                 \n",
            "=================================================================\n",
            "Total params: 16,803,132\n",
            "Trainable params: 11,096,832\n",
            "Non-trainable params: 5,706,300\n",
            "_________________________________________________________________\n"
          ]
        }
      ]
    },
    {
      "cell_type": "code",
      "source": [
        "decoder.plot_model()"
      ],
      "metadata": {
        "colab": {
          "base_uri": "https://localhost:8080/",
          "height": 0
        },
        "id": "RLimoPxQYlVb",
        "outputId": "45a04413-f0cc-4915-9788-c99b9dc8e5d6"
      },
      "execution_count": 49,
      "outputs": [
        {
          "output_type": "execute_result",
          "data": {
            "text/plain": [
              "<IPython.core.display.Image object>"
            ],
            "image/png": "[encoded data removed]"
          },
          "metadata": {},
          "execution_count": 49
        }
      ]
    },
    {
      "cell_type": "markdown",
      "metadata": {
        "id": "BBIQDE0Sl6k8"
      },
      "source": [
        "Moving on: this means that the decoder will produce a vector of unnormalized log probabilities (**logits**) associated to each vocabulary word. That is, a vector of logits $l_b \\in \\mathbb{R}^{\\mathcal{V}}$ for each element $b$ in the batch, namely indicating the next probable token for a given sentence. \n",
        "\n",
        "Now we sample a token according to the logits computed by the decoder."
      ]
    },
    {
      "cell_type": "code",
      "execution_count": 50,
      "metadata": {
        "id": "kGGwivobvx_W",
        "colab": {
          "base_uri": "https://localhost:8080/"
        },
        "outputId": "b6ecf336-00e1-400f-f823-12429f059867"
      },
      "outputs": [
        {
          "output_type": "execute_result",
          "data": {
            "text/plain": [
              "['publisher', 'absorbed', 'capilization', 'alloys', 'bumiller']"
            ]
          },
          "metadata": {},
          "execution_count": 50
        }
      ],
      "source": [
        "sampled_tokens = tf.random.categorical(\n",
        "    logits=decoder_logits[:, 0, :],\n",
        "    num_samples=1, \n",
        "    seed=dataset_config['random_seed'])\n",
        "vocab = np.array(list(word_to_idx_question[2].keys()))\n",
        "\n",
        "first_word = list(vocab[tf.squeeze(sampled_tokens, axis=-1).numpy()])\n",
        "first_word[:5]"
      ]
    },
    {
      "cell_type": "code",
      "execution_count": 51,
      "metadata": {
        "id": "Y2ixRaJZn271",
        "colab": {
          "base_uri": "https://localhost:8080/"
        },
        "outputId": "0d442dab-e0c4-4b9f-8483-c7b2803bfed4"
      },
      "outputs": [
        {
          "output_type": "execute_result",
          "data": {
            "text/plain": [
              "['waymarkers', 'anxiety', 'jolt', 'statues', 'taiwan']"
            ]
          },
          "metadata": {},
          "execution_count": 51
        }
      ],
      "source": [
        "decoder_logits, _, _ = decoder([sampled_tokens, encoder_outputs], state=decoder_state)\n",
        "\n",
        "sampled_tokens = tf.random.categorical(\n",
        "    logits=decoder_logits[:, 0, :], \n",
        "    num_samples=1, \n",
        "    seed=dataset_config['random_seed'])\n",
        "sampled_tokens = tf.squeeze(sampled_tokens, axis=-1).numpy()\n",
        "\n",
        "first_word = list(vocab[sampled_tokens])\n",
        "first_word[:5]"
      ]
    },
    {
      "cell_type": "markdown",
      "source": [
        "Let's visualize the weights."
      ],
      "metadata": {
        "id": "U8xwVgulXUab"
      }
    },
    {
      "cell_type": "code",
      "source": [
        "plt.subplot(1, 2, 1)\n",
        "plt.pcolormesh(attention_weights[:, 0, :])\n",
        "plt.title('Attention weights')\n",
        "\n",
        "plt.subplot(1, 2, 2)\n",
        "plt.pcolormesh(example_context_batch != 0)\n",
        "plt.title('Mask')\n",
        "plt.show()"
      ],
      "metadata": {
        "id": "JtJrZ7UeWac-",
        "colab": {
          "base_uri": "https://localhost:8080/",
          "height": 0
        },
        "outputId": "acd729f3-dd82-4dc3-e9ee-336262584ea3"
      },
      "execution_count": 30,
      "outputs": [
        {
          "output_type": "display_data",
          "data": {
            "text/plain": [
              "<Figure size 432x288 with 2 Axes>"
            ],
            "image/png": "[encoded data removed]"
          },
          "metadata": {
            "needs_background": "light"
          }
        }
      ]
    },
    {
      "cell_type": "markdown",
      "source": [
        "Let's visualize the weights for only one sequence."
      ],
      "metadata": {
        "id": "wjc7zQkDY19Y"
      }
    },
    {
      "cell_type": "code",
      "source": [
        "attention_slice = attention_weights[0, 0].numpy()\n",
        "attention_slice = attention_slice[attention_slice != 0]\n",
        "\n",
        "plt.suptitle('Attention weights for one sequence')\n",
        "\n",
        "plt.figure(figsize=(12, 6))\n",
        "a1 = plt.subplot(1, 2, 1)\n",
        "plt.bar(range(len(attention_slice)), attention_slice)\n",
        "# freeze the xlim\n",
        "plt.xlim(plt.xlim())\n",
        "plt.xlabel('Attention weights')\n",
        "\n",
        "a2 = plt.subplot(1, 2, 2)\n",
        "plt.bar(range(len(attention_slice)), attention_slice)\n",
        "plt.xlabel('Attention weights, zoomed')\n",
        "\n",
        "# zoom in\n",
        "top = max(a1.get_ylim())\n",
        "zoom = 0.85*top\n",
        "a2.set_ylim([0.90*top, top])\n",
        "a1.plot(a1.get_xlim(), [zoom, zoom], color='k')\n",
        "\n",
        "plt.show()"
      ],
      "metadata": {
        "id": "XwTgLXw0YjQ1",
        "colab": {
          "base_uri": "https://localhost:8080/",
          "height": 0
        },
        "outputId": "0461c796-d48f-4794-d441-33654d03024a"
      },
      "execution_count": 31,
      "outputs": [
        {
          "output_type": "display_data",
          "data": {
            "text/plain": [
              "<Figure size 432x288 with 0 Axes>"
            ]
          },
          "metadata": {}
        },
        {
          "output_type": "display_data",
          "data": {
            "text/plain": [
              "<Figure size 864x432 with 2 Axes>"
            ],
            "image/png": "[encoded data removed]"
          },
          "metadata": {
            "needs_background": "light"
          }
        }
      ]
    },
    {
      "cell_type": "markdown",
      "metadata": {
        "id": "qIoySQKuIGlc"
      },
      "source": [
        "# 4. Question Generation Model"
      ]
    },
    {
      "cell_type": "markdown",
      "metadata": {
        "id": "0imUvBAg14Ep"
      },
      "source": [
        "## 4.1 Tensorboard initialization"
      ]
    },
    {
      "cell_type": "markdown",
      "source": [
        "Remember to clear any logs from previous runs."
      ],
      "metadata": {
        "id": "PCyECPRVWmQD"
      }
    },
    {
      "cell_type": "code",
      "source": [
        "!rm -rf ./logs/"
      ],
      "metadata": {
        "id": "WOeZd4tdVvDR"
      },
      "execution_count": 52,
      "outputs": []
    },
    {
      "cell_type": "markdown",
      "source": [
        "Set up summary writers to write the summaries to disk in a different logs directory."
      ],
      "metadata": {
        "id": "qr26qMjV1gcR"
      }
    },
    {
      "cell_type": "code",
      "source": [
        "log_dir = './logs'\n",
        "\n",
        "current_time = datetime.datetime.now().strftime(\"%Y%m%d-%H%M%S\")\n",
        "train_log_dir = log_dir + '/gradient_tape/' + current_time + '/train'\n",
        "test_log_dir = log_dir + '/gradient_tape/' + current_time + '/test'\n",
        "train_summary_writer = tf.summary.create_file_writer(train_log_dir)\n",
        "test_summary_writer = tf.summary.create_file_writer(test_log_dir)"
      ],
      "metadata": {
        "id": "dcxRteAC1fcv"
      },
      "execution_count": 53,
      "outputs": []
    },
    {
      "cell_type": "markdown",
      "metadata": {
        "id": "qyRA2RxZNsx4"
      },
      "source": [
        "## 4.2 Loss\n",
        "\n",
        "The **QG** task is defined as finding $\\hat{y}$ such that:\n",
        "$$\n",
        "\\hat{y} = \\arg{\\max_y P(y|x)}  \n",
        "$$\n",
        "where $P(y|x)$ is the conditional log-likelihood of the predicted question sentence $y$ given the input $x$. Du et al. shown that the conditional probability could be factorized in:\n",
        "$$\n",
        "P(y|x) = \\prod_{t=1}^{|y|} P(y_t|x, y_{<t})\n",
        "$$\n",
        "where the probability of each $y_t$ is predicted based on all the words that have been generated upon time $t$, namely $y_{<t}$.\n",
        "\n",
        "This means that given a training corpus of sentence-question pairs $\\mathcal{S} = \\{(x^{(i)}, y^{(i)})\\}_{i=1}^N$, the objective is to minimize the negative log-likelihood:\n",
        "$$\n",
        "\\begin{align*}\n",
        "\\mathcal{L} &= - \\sum_{i=1}^N \\log P(y^{(i)}|x^{(i)}; \\theta)\\\\\n",
        "            &=  - \\sum_{i=1}^N \\sum_{j=1}^{|y^{(i)}|} \\log P (y_j^{(i)}|x^{(i)}, y_{<j}^{(i)}; \\theta)\n",
        "\\end{align*}\n",
        "$$\n",
        "We parameterize the probability of decoding each word $y_j$ by using an RNN:\n",
        "$$\n",
        "P(y_j|y_{<j}, s) = \\text{softmax}(g(h_j))\n",
        "$$\n",
        "where $g(.)$ is a transition function that outputs a vocabulary-sized vector.\n",
        "\n",
        "For more information see [here](https://stackoverflow.com/questions/47057361/how-do-i-mask-a-loss-function-in-keras-with-the-tensorflow-backend)."
      ]
    },
    {
      "cell_type": "code",
      "execution_count": 54,
      "metadata": {
        "id": "IP_UunM3MUtF"
      },
      "outputs": [],
      "source": [
        "class MaskedLoss(tf.keras.losses.Loss):\n",
        "  def __init__(self):\n",
        "    self.name = 'masked_loss'\n",
        "    self.loss = tf.keras.losses.SparseCategoricalCrossentropy(\n",
        "        from_logits=True, reduction='none')\n",
        "\n",
        "  def __call__(self, y_true, y_pred):\n",
        "    # Calculate the loss for each item in the batch.\n",
        "    loss = self.loss(y_true, y_pred) \n",
        "\n",
        "    # Mask off the losses on padding.\n",
        "    mask = tf.cast(y_true != 0, tf.float32)\n",
        "    loss *= mask\n",
        "\n",
        "    # Sum the loss over the batch since reduction is set to NONE\n",
        "    loss = tf.reduce_sum(loss)\n",
        "    return loss"
      ]
    },
    {
      "cell_type": "markdown",
      "metadata": {
        "id": "8WOVZj966EPP"
      },
      "source": [
        "## 4.3 Training metrics\n",
        "\n",
        "The metrics used during training will be:\n",
        "1. **perplexity**, that is defined as $e^{H(p,q)}$ where $H(p,q)$ is the cross-entropy between $p$, that is the ground truth (labels), and $q$, that are unscaled probabilities distributions (logits), \n",
        "2. **masked accuracy**, namely an accuracy computed only on tokens which are not `<pad>`.\n",
        "\n",
        "They will be implemented by exploiting the `Metric` object in `tensorflow`. See [here](https://www.tensorflow.org/api_docs/python/tf/keras/metrics/Metric) for more."
      ]
    },
    {
      "cell_type": "code",
      "execution_count": 55,
      "metadata": {
        "id": "xbK72c5r6LWP"
      },
      "outputs": [],
      "source": [
        "class Perplexity(tf.keras.metrics.Metric):\n",
        "  def __init__(self, name='perplexity', **kwargs):\n",
        "    super(Perplexity, self).__init__(name=name, **kwargs)\n",
        "    self.scores = self.add_weight(name='perplexity_scores', initializer='zeros')\n",
        "\n",
        "  def update_state(self, loss):\n",
        "    \"\"\"\n",
        "    Reference :- https://www.surgehq.ai/blog/how-good-is-your-chatbot-an-introduction-to-perplexity-in-nlp\n",
        "    \"\"\"\n",
        "    self.scores.assign(tf.exp(loss))\n",
        "\n",
        "  def result(self): return self.scores\n",
        "  def reset_state(self): self.scores.assign(0)\n",
        "\n",
        "# Also the accuracy should mask the padding\n",
        "class MaskedAccuracy(tf.keras.metrics.Metric):\n",
        "  def __init__(self, name='masked_accuracy',**kwargs):\n",
        "    super(MaskedAccuracy, self).__init__(name=name, **kwargs)\n",
        "    self.scores = self.add_weight(name='accuracy_scores', initializer='zeros')\n",
        "\n",
        "  def update_state(self, y_true, y_pred, sample_weight=None):\n",
        "    # We mask since we are not interested in the final accuracy score with the padding\n",
        "    mask = tf.cast(tf.math.greater(y_true, 0), dtype=tf.float32)\n",
        "\n",
        "    correct = tf.cast(tf.math.equal(y_true, y_pred), dtype=tf.float32)\n",
        "    correct = tf.math.reduce_sum(mask * correct)\n",
        "    total_legit = tf.math.reduce_sum(mask)\n",
        "\n",
        "    self.scores.assign(correct / total_legit)\n",
        "\n",
        "  def result(self): return self.scores\n",
        "  def reset_state(self): self.scores.assign(0)"
      ]
    },
    {
      "cell_type": "markdown",
      "source": [
        "## 4.4 Callbacks"
      ],
      "metadata": {
        "id": "LsdTOIHxEphh"
      }
    },
    {
      "cell_type": "code",
      "source": [
        "class GetEpochNumber(tf.keras.callbacks.Callback):\n",
        "  def __init__(self, **kwargs) -> None:\n",
        "    super(GetEpochNumber, self).__init__(**kwargs)\n",
        "\n",
        "  def on_epoch_end(self, epoch, logs=None):\n",
        "    self.model.epoch_number.assign_add(delta=1)\n",
        "\n",
        "class BatchLogs(tf.keras.callbacks.Callback):\n",
        "  def __init__(self, key) -> None:\n",
        "    self.key = key\n",
        "    self.logs = []\n",
        "\n",
        "  def on_train_batch_ends(self, n, logs):\n",
        "    self.logs.append(logs[self.key])\n",
        "\n",
        "class CustomLearningRateScheduler(keras.callbacks.Callback):\n",
        "  \"\"\"Learning rate scheduler which sets the learning rate according to schedule.\n",
        "\n",
        "  Arguments:\n",
        "      schedule: a function that takes an epoch index (integer, indexed from 0) \n",
        "        and current learning rate as inputs and returns a new learning rate \n",
        "        as output (float).\n",
        "  \"\"\"\n",
        "  def __init__(self):\n",
        "    super(CustomLearningRateScheduler, self).__init__()\n",
        "    self.schedule = self.lr_schedule\n",
        "\n",
        "    self.LR_SCHEDULE = [\n",
        "      # (epoch to start, learning rate) tuples\n",
        "      (15, 1e-1),\n",
        "      (23, 5e-2),\n",
        "      # (12, 5e-5),\n",
        "      # (14, 1e-5),\n",
        "        ]\n",
        "\n",
        "  def on_epoch_begin(self, epoch, logs=None):\n",
        "    if not hasattr(self.model.optimizer, \"lr\"):\n",
        "        raise ValueError('Optimizer must have a \"lr\" attribute.')\n",
        "    # Get the current learning rate from model's optimizer.\n",
        "    lr = float(tf.keras.backend.get_value(self.model.optimizer.learning_rate))\n",
        "    \n",
        "    # Call schedule function to get the scheduled learning rate.\n",
        "    scheduled_lr = self.schedule(epoch, lr)\n",
        "    \n",
        "    # Set the value back to the optimizer before this epoch starts\n",
        "    tf.keras.backend.set_value(self.model.optimizer.lr, scheduled_lr)\n",
        "    print(f\"\\nEpoch {epoch+1}: Learning rate is {scheduled_lr}.\" )\n",
        "\n",
        "  def lr_schedule(self, epoch, lr):\n",
        "    \"\"\"\n",
        "    Helper function to retrieve the scheduled learning rate based on epoch.\n",
        "    \"\"\"\n",
        "    if epoch < self.LR_SCHEDULE[0][0] or epoch > self.LR_SCHEDULE[-1][0]:\n",
        "        return lr\n",
        "    for i in range(len(self.LR_SCHEDULE)):\n",
        "        if epoch == self.LR_SCHEDULE[i][0]:\n",
        "            return self.LR_SCHEDULE[i][1]\n",
        "    return lr\n",
        "\n",
        "# Initialize the callbacks\n",
        "batch_loss = BatchLogs('batch_loss')\n",
        "perplexity = BatchLogs('perplexity')\n",
        "accuracy = BatchLogs('accuracy')\n",
        "lr_scheduler = CustomLearningRateScheduler()\n",
        "epoch_counter = GetEpochNumber()\n",
        "tensorboard_callback = tf.keras.callbacks.TensorBoard(log_dir=log_dir, histogram_freq=1)\n",
        "early_stopping = tf.keras.callbacks.EarlyStopping(monitor='val_perplexity', \n",
        "                                                  patience=8, \n",
        "                                                  mode='max', \n",
        "                                                  restore_best_weights=True) "
      ],
      "metadata": {
        "id": "cEuSPhHf0aZs"
      },
      "execution_count": 56,
      "outputs": []
    },
    {
      "cell_type": "markdown",
      "metadata": {
        "id": "iwLiPsCyNuor"
      },
      "source": [
        "## 4.5 Model definition\n",
        "\n",
        "The training step should:\n",
        "1. Run the encoder on the `input_tokens` to get the `encoder_outputs`, `hidden_state` and `cell_state`. \n",
        "\n",
        "... complete"
      ]
    },
    {
      "cell_type": "code",
      "source": [
        "class CustomMasking(Layer):\n",
        "    def __init__(self, mask_value=0, **kwargs):\n",
        "        super(CustomMasking, self).__init__(**kwargs)\n",
        "        self.supports_masking = True\n",
        "        self.mask_value = mask_value\n",
        "        self._compute_output_and_mask_jointly = True\n",
        "\n",
        "    def compute_mask(self, inputs, mask=None):\n",
        "        return tf.math.reduce_any(tf.math.not_equal(inputs, self.mask_value), \n",
        "                                  axis=list(range(2, len(inputs.shape))))\n",
        "\n",
        "    def call(self, inputs):\n",
        "        axes = list(range(2, len(inputs.shape)))\n",
        "        boolean_mask = tf.math.reduce_any(tf.math.not_equal(inputs, self.mask_value),\n",
        "                             axis=axes, keepdims=True)\n",
        "        outputs = inputs * tf.cast(boolean_mask, inputs.dtype)\n",
        "        # Compute the mask and outputs simultaneously.\n",
        "        outputs._keras_mask = tf.squeeze(boolean_mask, axis=axes)  # pylint: disable=protected-access\n",
        "        return outputs\n",
        "\n",
        "    def compute_output_shape(self, input_shape):\n",
        "        return input_shape\n",
        "\n",
        "    def get_config(self):\n",
        "        config = {'mask_value': self.mask_value}\n",
        "        base_config = super(tf.keras.layers.Masking, self).get_config()\n",
        "        return dict(list(base_config.items()) + list(config.items()))"
      ],
      "metadata": {
        "id": "hx8wGohrshe9"
      },
      "execution_count": 57,
      "outputs": []
    },
    {
      "cell_type": "code",
      "execution_count": 58,
      "metadata": {
        "cellView": "code",
        "id": "8xSn_StMq9cx"
      },
      "outputs": [],
      "source": [
        "class QGModel(tf.keras.Model):\n",
        "  def __init__(self, model_config, embedding_matrix_context, embedding_matrix_question, **kwargs):\n",
        "    \"\"\"\n",
        "    Prepare the model for the training. It builds the both the encoder and the decoder by\n",
        "    exploiting the tf.keras.Model Sub-Classing API.\n",
        "    Also it defines a wrapper to use the tf.function compilation for the tensorflow computational\n",
        "    graph.\n",
        "    \"\"\"\n",
        "    super(QGModel, self).__init__(**kwargs)\n",
        "    self.context_input = Input(shape=(model_config['max_length_context']), batch_size=model_config['batch_size'])\n",
        "    self.question_input = Input(shape=(model_config['max_length_question']), batch_size=model_config['batch_size'])\n",
        "    self.masking = CustomMasking(mask_value=0)\n",
        "    self.encoder = Encoder(model_config=model_config, embedding_matrix=embedding_matrix_context)\n",
        "    self.decoder = Decoder(model_config=model_config, embedding_matrix=embedding_matrix_question)\n",
        "\n",
        "    # Attributes\n",
        "    self.max_length_question = model_config['max_length_question']\n",
        "    self.batch_size = model_config['batch_size']\n",
        "    # self.epoch_number = tf.Variable(initial_value=1, validate_shape=False, trainable=False, dtype=tf.int64)\n",
        "\n",
        "    # Performance metrics\n",
        "    self.train_accuracy = tf.keras.metrics.Accuracy()\n",
        "    self.train_accuracy_sentence = MaskedAccuracy()\n",
        "    self.test_accuracy = tf.keras.metrics.Accuracy()\n",
        "    self.test_accuracy_sentence = MaskedAccuracy()\n",
        "    self.train_perplexity = Perplexity()\n",
        "    self.test_perplexity = Perplexity()\n",
        "\n",
        "    # Loss tracker, resets at the beginning of each epoch\n",
        "    self.train_loss_tracker = tf.keras.metrics.Mean(name='loss')\n",
        "    self.test_loss_tracker = tf.keras.metrics.Mean(name='loss')\n",
        "\n",
        "  @property\n",
        "  def metrics(self):\n",
        "    # We list our `Metric` objects here so that `reset_states()` can be called \n",
        "    # automatically at the start of each epoch or at the start of `evaluate()`.\n",
        "    # If you don't implement this property, you have to call # `reset_states()` \n",
        "    # yourself at the time of your choosing.\n",
        "    return [self.train_loss_tracker, self.train_accuracy, self.train_perplexity, self.train_accuracy_sentence,\n",
        "            self.test_loss_tracker, self.test_accuracy, self.test_perplexity, self.test_accuracy_sentence]\n",
        "\n",
        "  def call(self, inputs, training=False):\n",
        "    \"\"\"\n",
        "    It performs a forward pass. Calls the model on new inputs and returns the outputs as tensors.\n",
        "    \"\"\"\n",
        "    context, question = inputs\n",
        "\n",
        "    context = self.masking(context)\n",
        "    question = self.masking(question)\n",
        "\n",
        "    # We collect the question predicted by the decoder, the first character is the starting token\n",
        "    y_pred = tf.fill([self.batch_size, 1], question[0][0])\n",
        "    \n",
        "    # Keep a loss tracking value\n",
        "    if training:\n",
        "      self.train_loss_tracker.reset_state()\n",
        "    else:\n",
        "      self.test_loss_tracker.reset_state()\n",
        "    \n",
        "    # Set the loss \n",
        "    loss = tf.constant(0.0)\n",
        "    \n",
        "    # Encode the input, that is the context\n",
        "    encoder_outputs, encoder_state = self.encoder(context, training=training)\n",
        "\n",
        "    # The decoder should be initialized with the encoder last state \n",
        "    decoder_state = encoder_state\n",
        "\n",
        "    t = 0\n",
        "    # We have to run the decoder for all the length of the question \n",
        "    while t < (self.max_length_question - 1):\n",
        "      # We have to pass two tokens:\n",
        "      #   1. the token at time step t, namely the token in which we need to start run the decoder \n",
        "      #   2. the token at time step t+1, that is the next token in the sequence that needs to be compared with\n",
        "      # Note that: at the start of the question the new_token will be start-of-seq tag\n",
        "      new_token = tf.gather(question, t, axis=1)\n",
        "      target_token = tf.gather(question, t+1, axis=1)\n",
        "\n",
        "      # Here we call the decoder in order to produce the token at time step t+1, it returns,\n",
        "      #   1. the partial loss for the predicted token,\n",
        "      #   2. the new decoder state,\n",
        "      #   3. the predicted token at time step t+1\n",
        "      step_loss, decoder_state, token_pred = self.step_decoder(\n",
        "          (new_token, target_token),\n",
        "          encoder_outputs,\n",
        "          decoder_state, \n",
        "          training=training)\n",
        "\n",
        "      # Concatenate the predicted token to the already obtained question\n",
        "      y_pred = tf.concat([y_pred, token_pred], axis=1)\n",
        "\n",
        "      # Each partial loss contributes to the total loss\n",
        "      loss = loss + step_loss\n",
        "      t = t + 1\n",
        "\n",
        "    # Since we have computed a cumulated partial scores of the losses produced \n",
        "    # at each decoder step we then average for the number of elements that are \n",
        "    # not padding\n",
        "    loss = loss / tf.math.reduce_sum(tf.cast(question != 0, dtype=loss.dtype))\n",
        "\n",
        "    return y_pred, loss\n",
        "  \n",
        "  def step_decoder(self, tokens, encoder_outputs, decoder_state, training):\n",
        "    \"\"\"\n",
        "    Run a single iteration of the decoder and computers the incremental loss between the\n",
        "    produced token and the token in the target input.\n",
        "    \"\"\"\n",
        "    new_token = tokens[0]\n",
        "    \n",
        "    # Run the decoder one time, this will return the logits for the token at timestep t+1 for the entire batch\n",
        "    decoder_logits, _, decoder_state = self.decoder([new_token, encoder_outputs], state = decoder_state, training=training)\n",
        "  \n",
        "    y_true = tf.expand_dims(tokens[1], axis=1)\n",
        "    y_pred = decoder_logits\n",
        "\n",
        "    # Compare the produced logits with the true token\n",
        "    step_loss = self.loss(y_true=y_true, y_pred=y_pred)\n",
        "\n",
        "    # Greedily extract the word that has the maximum value in the produced logits\n",
        "    y_pred = tf.cast(tf.math.argmax(y_pred, axis=-1), dtype=tf.int64)\n",
        "\n",
        "    if training:\n",
        "      self.train_accuracy.update_state(y_true=y_true, y_pred=y_pred, sample_weight=tf.cast((y_true != 0), tf.int32))\n",
        "    else:\n",
        "      self.test_accuracy.update_state(y_true=y_true, y_pred=y_pred, sample_weight=tf.cast((y_true != 0), tf.int32))\n",
        "\n",
        "    return step_loss, decoder_state, y_pred\n",
        "  \n",
        "  @tf.function\n",
        "  def train_step(self, inputs):\n",
        "    \"\"\"\n",
        "    Optimization step for a batch.\n",
        "    \"\"\"\n",
        "    context, question = inputs\n",
        "    with tf.GradientTape() as tape:\n",
        "      # Computes the forward pass: it returns the predicted question and the loss value averaged over the batch\n",
        "      y_pred, loss = self(inputs, training=True)\n",
        "\n",
        "    self.train_loss_tracker.update_state(loss)\n",
        "\n",
        "    # Compute gradients\n",
        "    tr_variables = self.trainable_variables\n",
        "    grads = tape.gradient(loss, tr_variables)\n",
        "\n",
        "    # Apply some clipping (by norm) as done in the paper and update the weights\n",
        "    ads = [tf.clip_by_norm(g, 5.0) for g in grads]\n",
        "    self.optimizer.apply_gradients(zip(grads, tr_variables))\n",
        "\n",
        "    # Compute metrics\n",
        "    self.train_perplexity.update_state(loss)\n",
        "    self.train_accuracy_sentence.update_state(y_true=question, y_pred=y_pred)\n",
        "\n",
        "    # Log to tensorboard\n",
        "    # with train_summary_writer.as_default():\n",
        "    #   tf.summary.scalar('train_loss', self.train_loss_tracker.result(), step=self.epoch_number)\n",
        "    #   tf.summary.scalar('train_perplexity', self.train_perplexity_metric.result(), step=self.epoch_number)\n",
        "    #   tf.summary.scalar('train_accuracy', self.train_accuracy_metric.result(), step=self.epoch_number)\n",
        "\n",
        "    return {m.name: m.result() for m in self.metrics[:4]}\n",
        "\n",
        "  @tf.function\n",
        "  def test_step(self, inputs):\n",
        "    \"\"\"\n",
        "    The logic for one evaluation step. This function should contain the mathematical logic \n",
        "    for one step of evaluation. This typically includes the forward pass, \n",
        "    loss calculation, and metrics updates.\n",
        "\n",
        "    Called when at each epoch's end to validate on the validation data given.\n",
        "    \"\"\"\n",
        "    context, question = inputs\n",
        "\n",
        "    context = self.masking(context)\n",
        "    question = self.masking(question)\n",
        "\n",
        "    # Computes a forward pass with training set to False\n",
        "    y_pred, loss = self(inputs, training=False)\n",
        "    self.test_loss_tracker.update_state(loss)\n",
        "\n",
        "    # Compute metrics\n",
        "    self.test_perplexity.update_state(loss)\n",
        "    self.test_accuracy_sentence.update_state(y_true=question, y_pred=y_pred)\n",
        "\n",
        "    return {m.name: m.result() for m in self.metrics[4:]}\n",
        "\n",
        "  # # # Reference :- https://stackoverflow.com/questions/61427583/how-do-i-plot-a-keras-tensorflow-subclassing-api-model\n",
        "  def build_graph(self):\n",
        "    return tf.keras.Model(inputs=[self.context_input, self.question_input], outputs=self.call([self.context_input, self.question_input]))\n",
        "  \n",
        "  def plot_model(self):\n",
        "    return tf.keras.utils.plot_model(\n",
        "        self.build_graph(),               \n",
        "        show_shapes=True, \n",
        "        show_layer_names=True,  \n",
        "        expand_nested=True                       \n",
        "    )\n",
        "\n",
        "\n",
        "# Utility function in order to build the compiled model\n",
        "def build_model(model_config,\n",
        "                embedding_matrix_context, \n",
        "                embedding_matrix_question, \n",
        "                compile_info):\n",
        "  model = QGModel(model_config,\n",
        "                  embedding_matrix_context=embedding_matrix_context,\n",
        "                  embedding_matrix_question=embedding_matrix_question)\n",
        "  \n",
        "  model.compile(**compile_info)\n",
        "  return model"
      ]
    },
    {
      "cell_type": "markdown",
      "metadata": {
        "id": "fF8BfykX5faH"
      },
      "source": [
        "# 5. Train the model"
      ]
    },
    {
      "cell_type": "code",
      "source": [
        "def train_model(model,\n",
        "                dataset: NamedTuple,\n",
        "                training_info):\n",
        "    \"\"\"\n",
        "    Training routine for the Keras model.\n",
        "    At the end of the training, retrieved History data is shown.\n",
        "\n",
        "    :param model: Keras built model\n",
        "    :param dataset: the split dataset\n",
        "    :param training_info: dictionary storing model fit() argument information\n",
        "\n",
        "    :return\n",
        "        model: trained Keras model\n",
        "    \"\"\"\n",
        "    print(\"Start training \\nParameters: {}\".format(training_info))\n",
        "    history = model.fit(dataset.train,\n",
        "                        validation_data=dataset.val,\n",
        "                        **training_info)\n",
        "    print(\"Training completed\")\n",
        "    return history, model"
      ],
      "metadata": {
        "id": "pVVLn9bMs2P3"
      },
      "execution_count": 59,
      "outputs": []
    },
    {
      "cell_type": "code",
      "source": [
        "training_info = {\n",
        "    'verbose': 1,\n",
        "    'epochs': 5,\n",
        "    'batch_size': dataset_config['batch_size'],\n",
        "    'callbacks': [\n",
        "                  batch_loss,\n",
        "                  perplexity,\n",
        "                  accuracy,\n",
        "                  # lr_scheduler,\n",
        "                  # tensorboard_callback,\n",
        "                  # epoch_counter,\n",
        "                  # early_stopping\n",
        "                  ],\n",
        "}\n",
        "\n",
        "model_config = {\n",
        "    'batch_size': dataset_config['batch_size'],\n",
        "    'enc_units': 256,\n",
        "    'dec_units': 256,\n",
        "    'max_length_context': dataset.train.element_spec[0].shape[1],\n",
        "    'max_length_question': dataset.train.element_spec[1].shape[1],\n",
        "    'dropout_rate': 0.3,\n",
        "    'regularizer': 1e-4,\n",
        "}\n",
        "\n",
        "compile_info = {\n",
        "    'loss': MaskedLoss(),\n",
        "    'optimizer': keras.optimizers.Adam(learning_rate=1e-3), \n",
        "}\n",
        "\n",
        "qg_model = build_model(model_config, embedding_matrix_context, embedding_matrix_question, compile_info)"
      ],
      "metadata": {
        "id": "kVEf6VZIYbgw"
      },
      "execution_count": 61,
      "outputs": []
    },
    {
      "cell_type": "code",
      "execution_count": 62,
      "metadata": {
        "colab": {
          "base_uri": "https://localhost:8080/"
        },
        "id": "ys97OwVn61UT",
        "outputId": "d34bbe40-b4a3-4161-ff9a-d97154748feb"
      },
      "outputs": [
        {
          "output_type": "stream",
          "name": "stdout",
          "text": [
            "Start training \n",
            "Parameters: {'verbose': 1, 'epochs': 5, 'batch_size': 256, 'callbacks': [<__main__.BatchLogs object at 0x7f507b2f7350>, <__main__.BatchLogs object at 0x7f507b2f7a90>, <__main__.BatchLogs object at 0x7f507aefd350>]}\n",
            "Epoch 1/5\n",
            "59/59 [==============================] - 209s 1s/step - loss: 5.8595 - accuracy: 0.1138 - perplexity: 350.5324 - masked_accuracy: 0.2046 - val_loss: 5.7414 - val_accuracy: 0.1559 - val_perplexity: 311.4963 - val_masked_accuracy: 0.2217\n",
            "Epoch 2/5\n",
            "59/59 [==============================] - 53s 897ms/step - loss: 5.5146 - accuracy: 0.2102 - perplexity: 248.2870 - masked_accuracy: 0.2819 - val_loss: 5.5033 - val_accuracy: 0.2339 - val_perplexity: 245.4908 - val_masked_accuracy: 0.2915\n",
            "Epoch 3/5\n",
            "59/59 [==============================] - 53s 901ms/step - loss: 5.3507 - accuracy: 0.2372 - perplexity: 210.7603 - masked_accuracy: 0.2920 - val_loss: 5.4283 - val_accuracy: 0.2425 - val_perplexity: 227.7543 - val_masked_accuracy: 0.2988\n",
            "Epoch 4/5\n",
            "59/59 [==============================] - 54s 920ms/step - loss: 5.1723 - accuracy: 0.2480 - perplexity: 176.3191 - masked_accuracy: 0.3014 - val_loss: 5.3796 - val_accuracy: 0.2484 - val_perplexity: 216.9252 - val_masked_accuracy: 0.3067\n",
            "Epoch 5/5\n",
            "59/59 [==============================] - 54s 912ms/step - loss: 4.9785 - accuracy: 0.2631 - perplexity: 145.2608 - masked_accuracy: 0.3214 - val_loss: 5.4023 - val_accuracy: 0.2635 - val_perplexity: 221.9106 - val_masked_accuracy: 0.3264\n",
            "Training completed\n"
          ]
        }
      ],
      "source": [
        "history, qg_model = train_model(model=qg_model, \n",
        "                                dataset=dataset,\n",
        "                                training_info=training_info)"
      ]
    },
    {
      "cell_type": "code",
      "source": [
        "def plot_history(hist):\n",
        "    fig, axs = plt.subplots(1, 3, figsize=(20,5))\n",
        "\n",
        "    fig.suptitle('Training trends')\n",
        "    axs[0].plot(hist.history['accuracy'])\n",
        "    axs[0].plot(hist.history['val_accuracy'])\n",
        "    axs[0].plot(hist.history['masked_accuracy'])\n",
        "    axs[0].plot(hist.history['val_masked_accuracy'])\n",
        "    axs[0].set_title(\"model accuracy\")\n",
        "    axs[0].set_ylabel('accuracy')\n",
        "    axs[0].set_xlabel('epoch')\n",
        "    axs[0].legend(['train_acc', 'val_acc', 'train_mask_acc', 'val_mask_acc'], loc='best')\n",
        "    \n",
        "    axs[1].plot(hist.history['loss'])\n",
        "    axs[1].plot(hist.history['val_loss'])\n",
        "    axs[1].set_title(\"model batch loss\")\n",
        "    axs[1].set_ylabel('loss')\n",
        "    axs[1].set_xlabel('epoch')\n",
        "    axs[1].legend(['train_loss', 'val_loss'], loc='best')\n",
        "\n",
        "    axs[2].plot(hist.history['perplexity'])\n",
        "    axs[2].plot(hist.history['val_perplexity'])\n",
        "    axs[2].set_title(\"model perplexity\")\n",
        "    axs[2].set_ylabel('perplexity')\n",
        "    axs[2].set_xlabel('epoch')\n",
        "    axs[2].legend(['train_perplexity', 'val_perplexity'], loc='best')\n",
        "\n",
        "    plt.show()\n",
        "\n",
        "  \n",
        "plot_history(history)"
      ],
      "metadata": {
        "id": "pDReuLzRh_LI",
        "colab": {
          "base_uri": "https://localhost:8080/",
          "height": 370
        },
        "outputId": "5fd12192-01bf-4b63-8623-fc561cf18987"
      },
      "execution_count": 68,
      "outputs": [
        {
          "output_type": "display_data",
          "data": {
            "text/plain": [
              "<Figure size 1440x360 with 3 Axes>"
            ],
            "image/png": "[encoded data removed]"
          },
          "metadata": {
            "needs_background": "light"
          }
        }
      ]
    },
    {
      "cell_type": "code",
      "source": [
        "#%tensorboard --logdir ./logs/gradient_tape"
      ],
      "metadata": {
        "id": "Yfxv7OYsVZij"
      },
      "execution_count": null,
      "outputs": []
    },
    {
      "cell_type": "markdown",
      "metadata": {
        "id": "ZC-NjKElfqNf"
      },
      "source": [
        "#6. Inference and Evaluation for QG\n"
      ]
    },
    {
      "cell_type": "markdown",
      "source": [
        "## 6.1 Evaluation metrics\n",
        "\n",
        "To evaluate our model we will use the **BLEU-$n$** and **METEOR** metrics imported from [Hugginface](https://huggingface.co/datasets)([github/datasets](https://github.com/huggingface/datasets/tree/master/metrics)). For more information the single metrics please refer to the official [repository](https://github.com/huggingface/datasets/tree/master/metrics).\n",
        "\n"
      ],
      "metadata": {
        "id": "wc9WXQ9Dqt2u"
      }
    },
    {
      "cell_type": "code",
      "source": [
        "from datasets import load_metric"
      ],
      "metadata": {
        "id": "BOyYgHvSQa85"
      },
      "execution_count": 67,
      "outputs": []
    },
    {
      "cell_type": "code",
      "source": [
        "class BLEU(keras.metrics.Metric):\n",
        "  def __init__(self, name=f\"bleu_metric\", **kwargs):\n",
        "    \"\"\"\n",
        "    Initialize the metric object for computing BLEU-n.\n",
        "    \"\"\"\n",
        "    super(BLEU, self).__init__(name=name, **kwargs)\n",
        "    # Reference :- https://github.com/huggingface/datasets/tree/master/metrics/bleu\n",
        "    self.bleu = load_metric(\"bleu\")\n",
        "    self.scores_1 = self.add_weight(name=f\"bleu1_scores\", initializer=\"zeros\")\n",
        "    self.scores_2 = self.add_weight(name=f\"bleu2_scores\", initializer=\"zeros\")\n",
        "    self.scores_3 = self.add_weight(name=f\"bleu3_scores\", initializer=\"zeros\")\n",
        "    self.scores_4 = self.add_weight(name=f\"bleu4_scores\", initializer=\"zeros\")\n",
        "\n",
        "  def update_state(self, y_true, y_pred, sample_weight=None):\n",
        "    results = self.bleu.compute(predictions=y_pred, references=y_true, max_order=1)\n",
        "    self.scores_1.assign(tf.constant(results['bleu']))\n",
        "\n",
        "    results = self.bleu.compute(predictions=y_pred, references=y_true, max_order=2)\n",
        "    self.scores_2.assign(tf.constant(results['bleu']))\n",
        "\n",
        "    results = self.bleu.compute(predictions=y_pred, references=y_true, max_order=3)\n",
        "    self.scores_3.assign(tf.constant(results['bleu']))\n",
        "\n",
        "    results = self.bleu.compute(predictions=y_pred, references=y_true, max_order=4)\n",
        "    self.scores_4.assign(tf.constant(results['bleu']))\n",
        "\n",
        "  def result(self):\n",
        "    return (self.scores_1, self.scores_2, self.scores_3, self.scores_4)\n",
        "\n",
        "  def reset_state(self):\n",
        "    # The state of the metric will be reset at the start of each epoch.\n",
        "    self.scores_1.assign(0.0)\n",
        "    self.scores_2.assign(0.0)\n",
        "    self.scores_3.assign(0.0)\n",
        "    self.scores_4.assign(0.0)\n",
        "\n",
        "# metric = BLEU1()\n",
        "# y_pred = [\n",
        "#      [\"hello\", \"there\", \"general\", \"kenobi\"],\n",
        "#      [\"how\", \"are\" \"you\"]]\n",
        "# y_true = [\n",
        "#      [[\"hello\", \"there\", \"general\", \"kenobi\"]],\n",
        "#      [[\"how\", \"are\", \"you\"]]\n",
        "#  ]\n",
        "# metric.update_state(y_true, y_pred)\n",
        "\n",
        "class METEOR(keras.metrics.Metric):\n",
        "  def __init__(self, name=f\"meteor_metric\", **kwargs):\n",
        "    \"\"\"\n",
        "    Initialize the metric object for computing METEOR.\n",
        "    \"\"\"\n",
        "    super(METEOR, self).__init__(name=name, **kwargs)\n",
        "    # Reference :- https://github.com/huggingface/datasets/tree/master/metrics/meteor\n",
        "    self.meteor = load_metric(\"meteor\")\n",
        "    self.scores = self.add_weight(name=f\"meteor_scores\", initializer=\"zeros\", dtype=tf.float64)\n",
        "\n",
        "  def update_state(self, y_true, y_pred, sample_weight=None):\n",
        "    results = self.meteor.compute(predictions=y_pred, references=y_true)\n",
        "    self.scores.assign(tf.constant(results['meteor'], dtype=tf.float64))\n",
        "\n",
        "  def result(self):\n",
        "    return self.scores\n",
        "\n",
        "  def reset_state(self):\n",
        "    # The state of the metric will be reset at the start of each epoch.\n",
        "    self.scores.assign(0.0)"
      ],
      "metadata": {
        "id": "jHaP7HgBUzhE"
      },
      "execution_count": 68,
      "outputs": []
    },
    {
      "cell_type": "markdown",
      "metadata": {
        "id": "ezgR7c68_0nv"
      },
      "source": [
        "## 6.2 Inference for QG\n",
        "In this section we will provide the class and the methods for the inference part. More specifically, both auxiliary and inferencing methods:\n",
        "1. `token_to_string()`:\n",
        "2. `string_to_token()`:\n",
        "3. `create_mask()`:\n",
        "4. `temperature_sampling()`:\n",
        "5. `generate_question()`:"
      ]
    },
    {
      "cell_type": "code",
      "execution_count": 73,
      "metadata": {
        "id": "gn2NTxAq_2sy"
      },
      "outputs": [],
      "source": [
        "class QuestionGenerator(tf.Module):\n",
        "  def __init__(self, model, tokenizer, use_tf_function):\n",
        "    self.model = model\n",
        "    self.encoder = model.encoder\n",
        "    self.decoder = model.decoder\n",
        "\n",
        "    # The tokenizer will be used for the \n",
        "    self.tokenizer = tokenizer\n",
        "   \n",
        "    self.result_tokens = None\n",
        "    self.result_text = None\n",
        "    self.token_mask = self.create_mask()\n",
        "\n",
        "    self.start_idx = tokenizer.word_index['<sos>']\n",
        "    self.end_idx = tokenizer.word_index['<eos>']\n",
        "    self.use_tf_function = False\n",
        "\n",
        "    # Metrics\n",
        "    # These ones are computed and refreshed for each batch\n",
        "    self.bleu_metric_batch = BLEU()\n",
        "    self.meteor_metric_batch = METEOR()\n",
        "    \n",
        "    # These ones are the mean value among all the batches\n",
        "    self.bleu_metric = tf.keras.metrics.Mean(name='bleu_mean')\n",
        "    self.meteor_metric = tf.keras.metrics.Mean(name='meteor_mean')\n",
        "\n",
        "  def token_to_string(self, result_tokens: tf.Tensor):  \n",
        "    \"\"\"\n",
        "    This method converts token IDs to text by using a given mapping.\n",
        "    \"\"\"\n",
        "    list_tokens = result_tokens.numpy().tolist()\n",
        "    list_text = self.tokenizer.sequences_to_texts(list_tokens)\n",
        "    \n",
        "    # list_text = tf.convert_to_tensor([list_text])\n",
        "    # result_text = tf.strings.reduce_join(list_text, axis=0, separator=' ')\n",
        "    # result_text = tf.strings.strip(result_text)\n",
        "    result_text = [s.split() for s in list_text]\n",
        "\n",
        "    self.result_tokens = result_tokens\n",
        "    self.result_text = result_text\n",
        "    return result_text\n",
        "\n",
        "  def string_to_token(self, result_str: tf.Tensor):\n",
        "    \"\"\"\n",
        "    This method converts texts to token IDs by using a given mapping.\n",
        "    \"\"\"  \n",
        "    list_str = [s.decode(\"utf-8\") for s in result_str.numpy().tolist()]\n",
        "    list_tokens = self.tokenizer.texts_to_sequences(list_str)\n",
        "    list_tokens = tf.convert_to_tensor(list_tokens, dtype=tf.int64)\n",
        "    result_tokens = tf.squeeze(tf.split(list_tokens, num_or_size_splits=list_tokens.shape[0], axis=0), axis=1)\n",
        "\n",
        "    return result_tokens\n",
        "  \n",
        "  def create_mask(self):\n",
        "    \"\"\"\n",
        "    This method creates a mask for the padding, the unknwon words and the start/ending tokens.\n",
        "    \"\"\"\n",
        "    masked_words = ['<pad>', '<unk>', '<sos>', '<eos>']\n",
        "    token_mask_ids = [self.tokenizer.word_index[mask] for mask in masked_words]\n",
        "\n",
        "    token_mask = np.zeros(shape=(len(self.tokenizer.word_index)+1,), dtype=bool)\n",
        "    token_mask[np.array(token_mask_ids)] = True\n",
        "    return token_mask\n",
        "\n",
        "  def evaluate(self, inputs, max_length, temperature):\n",
        "    for (context, question_true) in tqdm(inputs):\n",
        "      question_true = self.token_to_string(question_true)\n",
        "      prediction = self.predict_step(inputs=context, max_length=max_length, return_attention=False, temperature=temperature)\n",
        "      question_pred = prediction['text']\n",
        "\n",
        "      self.meteor_metric_batch.update_state(y_true=[question_true], y_pred=[question_pred])\n",
        "\n",
        "      print('Comparing')\n",
        "      print('Question true', question_true)\n",
        "      print('Question predicted', question_pred)\n",
        "      print('Score obtained', self.meteor_metric_batch.result())\n",
        "\n",
        "      # Produce the mean over the batches\n",
        "      self.meteor_metric.update_state(self.meteor_metric_batch.result())\n",
        "\n",
        "    return {'meteor': self.meteor_metric.result().numpy()}\n",
        "\n",
        "  def predict(self, inputs, max_length, return_attention=False, temperature=0.):\n",
        "    \"\"\"\n",
        "    Generates output predictions for the input samples.\n",
        "    In addition it could also return the associated attention weights.\n",
        "\n",
        "    It returns a list of dictionaries.\n",
        "    \"\"\"\n",
        "    results = []\n",
        "    for (context, _) in inputs:\n",
        "      results.append(self.predict_step(inputs=context, \n",
        "                                        max_length=max_length, \n",
        "                                        return_attention=return_attention, \n",
        "                                        temperature=temperature))\n",
        "\n",
        "    return results\n",
        "\n",
        "  def predict_step(self, inputs, max_length, return_attention, temperature):\n",
        "    # Similarly for what it has been done in the train step\n",
        "\n",
        "    encoder_output, encoder_state = self.encoder(inputs)\n",
        "    decoder_state = encoder_state\n",
        "\n",
        "    # Generate the first token of each sentence, that is the <sos> token\n",
        "    new_token = tf.fill([self.model.batch_size, 1], self.start_idx)\n",
        "\n",
        "    result_tokens = []\n",
        "    attention = []\n",
        "    done = tf.zeros(shape=(self.model.batch_size, 1), dtype=tf.bool)\n",
        "    \n",
        "    for _ in range(max_length):\n",
        "      # Decode the token at the next timestep\n",
        "      decoder_logic, attention_weights, decoder_state = self.decoder([new_token, encoder_output], state=decoder_state)\n",
        "      \n",
        "      attention.append(attention_weights)\n",
        "\n",
        "      # Sample the new token accordingly to the distribution produced by the decoder\n",
        "      new_token = self.temperature_sampling(decoder_logits, temperature)\n",
        "\n",
        "      # if a sequence has reached <eos> set it as done\n",
        "      done = done | (new_token == self.end_idx)\n",
        "      # Once a sequence is done it only produces 0-padding.\n",
        "      new_token = tf.where(done, tf.constant(0, dtype=tf.int64), new_token)\n",
        "\n",
        "      result_tokens.append(new_token)\n",
        "\n",
        "      if tf.reduce_all(done):\n",
        "        break\n",
        "\n",
        "    # MISSING\n",
        "    result_tokens = tf.concat(result_tokens, axis=-1)\n",
        "    # result_text = self.token_to_string(result_tokens)\n",
        "    result_text = result_tokens\n",
        "\n",
        "    attention_stack = tf.concat(attention, axis=-1)\n",
        "\n",
        "    # HANDLING UNK WORDS\n",
        "\n",
        "    if return_attention:\n",
        "      attention_stack = tf.concat(attention, axis=1)\n",
        "      return {'text': result_text, 'attention': attention_stack}\n",
        "    else:\n",
        "      return {'text': result_text}\n",
        "\n",
        "  def temperature_sampling(self, logits, temperature):\n",
        "    \"\"\"\n",
        "    For the temperature choice see here:\n",
        "      Reference :- https://nlp.stanford.edu/blog/maximum-likelihood-decoding-with-rnns-the-good-the-bad-and-the-ugly/\n",
        "    \"\"\"\n",
        "    # First of all we use broadcast the generated mask to the expected logits' shape\n",
        "    # token_mask shape: (batch_size, timestep, vocab_size)\n",
        "    token_mask = self.token_mask[tf.newaxis, tf.newaxis, :]\n",
        "\n",
        "    # The logits for all the tokens that have to not be used are set to -1.0\n",
        "    #logits = tf.where(token_mask, -1.0, logits)\n",
        "\n",
        "    # Freezing function\n",
        "    # Higher temperature -> greater variety\n",
        "    # Lower temperature -> grammatically correct\n",
        "    if temperature == 0.0:\n",
        "      # the freezing function is the argmax, behaving like a greedy search\n",
        "      new_token = tf.argmax(logits, axis=-1)\n",
        "    else:\n",
        "      # the freezing function now scales the logits.\n",
        "      # for temperature == 1.0 is the identity function\n",
        "      logits = tf.squeeze(logits, axis=1)\n",
        "      new_token = tf.random.categorical(logits / temperature, num_samples=1)\n",
        "    return new_token"
      ]
    },
    {
      "cell_type": "code",
      "execution_count": 74,
      "metadata": {
        "id": "1Q2pWJ5YDfqi",
        "colab": {
          "base_uri": "https://localhost:8080/",
          "height": 231,
          "referenced_widgets": [
            "7b9cc52ab8bf4074b5c6493988ab32bb",
            "dc29507c9c18442dbe1107a1709904b5",
            "3e71e17b666f486baefb97a7514f8734",
            "2789b09639114c1899f11ad83004e0aa",
            "b7c4dd9075bf44cf9b06ab55b6c8937e",
            "20285f4c1e5847f1a46f44967c3f7f46",
            "d94de4a012c4430cbe65a31452838032",
            "fd5534961e184d3d9fad1df4833e3ec0",
            "799d7cfb109440239fae5bd4f980421a",
            "f3191eb5031e4c27a9c4015b8259f052",
            "a0deb2e81f5f4d60b1eb5c6c00bfa251",
            "2b5d0fe0599946d9903f8cf05163a4b0",
            "b2195661e1f9468390ce05ef6e7cc140",
            "2352d721a4934ebab721002c61322b65",
            "6857d6385b9e4083a5dad9681e72c223",
            "ef8ce131fb9a45c89fc7b56c1af48051",
            "b8f085081eac4631b499012123f81be4",
            "9c89f683a038453ab2b9bd49a12fd757",
            "9c719e7d5e91434e8ae36a3d3241580e",
            "160767bad01b45bababec2e956ad66fa",
            "113b8bca01014ad680fb98a2dce41874",
            "42d7b4b775ac4f1b86909014d408df78",
            "13c0403e96b641f9adcac1c5cea28d68",
            "391baa8012954970a919e9157427af3a",
            "3f6de2a49685455a9724d696824af45d",
            "7b137a757da7470299081bee13d35d89",
            "555ee9201d9f46b2bb7a8216008c8022",
            "da19295172374e1f89ca91aeb3c180de",
            "a73fddb53f0143c2b2390728b0df7832",
            "a203dde6b9f941508fe33d738a413274",
            "438c865882c24ca6985f92e632e1beb0",
            "168ee25a25454fa39ad28c6e5cbd9ce0",
            "7793b012e9f444fd832bd0e7a30ac6ca"
          ]
        },
        "outputId": "20f1012b-37fa-459b-9d25-be346b3b0ce9"
      },
      "outputs": [
        {
          "output_type": "display_data",
          "data": {
            "text/plain": [
              "Downloading builder script:   0%|          | 0.00/2.48k [00:00<?, ?B/s]"
            ],
            "application/vnd.jupyter.widget-view+json": {
              "version_major": 2,
              "version_minor": 0,
              "model_id": "7b9cc52ab8bf4074b5c6493988ab32bb"
            }
          },
          "metadata": {}
        },
        {
          "output_type": "display_data",
          "data": {
            "text/plain": [
              "Downloading extra modules:   0%|          | 0.00/1.55k [00:00<?, ?B/s]"
            ],
            "application/vnd.jupyter.widget-view+json": {
              "version_major": 2,
              "version_minor": 0,
              "model_id": "2b5d0fe0599946d9903f8cf05163a4b0"
            }
          },
          "metadata": {}
        },
        {
          "output_type": "display_data",
          "data": {
            "text/plain": [
              "Downloading builder script:   0%|          | 0.00/2.20k [00:00<?, ?B/s]"
            ],
            "application/vnd.jupyter.widget-view+json": {
              "version_major": 2,
              "version_minor": 0,
              "model_id": "13c0403e96b641f9adcac1c5cea28d68"
            }
          },
          "metadata": {}
        },
        {
          "output_type": "stream",
          "name": "stderr",
          "text": [
            "[nltk_data] Downloading package wordnet to /root/nltk_data...\n",
            "[nltk_data]   Unzipping corpora/wordnet.zip.\n",
            "[nltk_data] Downloading package punkt to /root/nltk_data...\n",
            "[nltk_data]   Package punkt is already up-to-date!\n",
            "[nltk_data] Downloading package omw-1.4 to /root/nltk_data...\n",
            "[nltk_data]   Unzipping corpora/omw-1.4.zip.\n"
          ]
        }
      ],
      "source": [
        "qg_evaluator = QuestionGenerator(model=qg_model,\n",
        "                         tokenizer=dataset_creator.tokenizer_question, \n",
        "                         use_tf_function=True)"
      ]
    },
    {
      "cell_type": "code",
      "source": [
        "#%%time\n",
        "#pred = qg_evaluator.evaluate(dataset.test, 50, 0.5)"
      ],
      "metadata": {
        "id": "DkDmgT1JPs0I"
      },
      "execution_count": null,
      "outputs": []
    },
    {
      "cell_type": "code",
      "source": [
        "y_pred = qg_evaluator.predict(dataset.test, 10)"
      ],
      "metadata": {
        "id": "-qzDOAJywg4z"
      },
      "execution_count": 75,
      "outputs": []
    },
    {
      "cell_type": "code",
      "source": [
        "next(iter(dataset.test))[1][0]"
      ],
      "metadata": {
        "colab": {
          "base_uri": "https://localhost:8080/"
        },
        "id": "6l1tFPlWRhVn",
        "outputId": "6bc6f090-4b82-4b35-c552-4793dbee2ef3"
      },
      "execution_count": null,
      "outputs": [
        {
          "output_type": "execute_result",
          "data": {
            "text/plain": [
              "<tf.Tensor: shape=(40,), dtype=int64, numpy=\n",
              "array([   2,    6,   11,    5,  427,  521,  813,    8, 4443,    4,    3,\n",
              "          0,    0,    0,    0,    0,    0,    0,    0,    0,    0,    0,\n",
              "          0,    0,    0,    0,    0,    0,    0,    0,    0,    0,    0,\n",
              "          0,    0,    0,    0,    0,    0,    0])>"
            ]
          },
          "metadata": {},
          "execution_count": 47
        }
      ]
    },
    {
      "cell_type": "code",
      "source": [
        "y_pred[0]['text'][0]"
      ],
      "metadata": {
        "colab": {
          "base_uri": "https://localhost:8080/"
        },
        "id": "8mFSJuneLtX1",
        "outputId": "73067437-3a8f-45c8-d73e-ce71bf3d562a"
      },
      "execution_count": 76,
      "outputs": [
        {
          "output_type": "execute_result",
          "data": {
            "text/plain": [
              "<tf.Tensor: shape=(10,), dtype=int64, numpy=\n",
              "array([17499, 17499, 17499, 17499, 17499, 17499, 17499, 17499, 17499,\n",
              "       17499])>"
            ]
          },
          "metadata": {},
          "execution_count": 76
        }
      ]
    },
    {
      "cell_type": "code",
      "source": [
        ""
      ],
      "metadata": {
        "id": "NKvIk1e4R5_Y"
      },
      "execution_count": null,
      "outputs": []
    }
  ],
  "metadata": {
    "colab": {
      "collapsed_sections": [
        "ZS1Y56XayL9_",
        "xl7H67iPmZHL",
        "Y8NrwPONoVQ-",
        "2hyzKyj_-GjI",
        "sFBKCIE3Jxf2",
        "kx2f7Nn_4en9",
        "FF5Rtd4uqa_k",
        "wjVfZgIIf1RV",
        "fbjSxPGcFud_",
        "dtM9nOQrf3jq",
        "IF5J42g1l-be",
        "qIoySQKuIGlc",
        "0imUvBAg14Ep",
        "qyRA2RxZNsx4",
        "8WOVZj966EPP",
        "LsdTOIHxEphh",
        "iwLiPsCyNuor",
        "wc9WXQ9Dqt2u"
      ],
      "name": "NeuralQG2vocab.ipynb",
      "provenance": [],
      "toc_visible": true,
      "include_colab_link": true
    },
    "kernelspec": {
      "display_name": "Python 3",
      "name": "python3"
    },
    "language_info": {
      "name": "python"
    },
    "gpuClass": "standard",
    "accelerator": "GPU",
    "widgets": {
      "application/vnd.jupyter.widget-state+json": {
        "7b9cc52ab8bf4074b5c6493988ab32bb": {
          "model_module": "@jupyter-widgets/controls",
          "model_name": "HBoxModel",
          "model_module_version": "1.5.0",
          "state": {
            "_dom_classes": [],
            "_model_module": "@jupyter-widgets/controls",
            "_model_module_version": "1.5.0",
            "_model_name": "HBoxModel",
            "_view_count": null,
            "_view_module": "@jupyter-widgets/controls",
            "_view_module_version": "1.5.0",
            "_view_name": "HBoxView",
            "box_style": "",
            "children": [
              "IPY_MODEL_dc29507c9c18442dbe1107a1709904b5",
              "IPY_MODEL_3e71e17b666f486baefb97a7514f8734",
              "IPY_MODEL_2789b09639114c1899f11ad83004e0aa"
            ],
            "layout": "IPY_MODEL_b7c4dd9075bf44cf9b06ab55b6c8937e"
          }
        },
        "dc29507c9c18442dbe1107a1709904b5": {
          "model_module": "@jupyter-widgets/controls",
          "model_name": "HTMLModel",
          "model_module_version": "1.5.0",
          "state": {
            "_dom_classes": [],
            "_model_module": "@jupyter-widgets/controls",
            "_model_module_version": "1.5.0",
            "_model_name": "HTMLModel",
            "_view_count": null,
            "_view_module": "@jupyter-widgets/controls",
            "_view_module_version": "1.5.0",
            "_view_name": "HTMLView",
            "description": "",
            "description_tooltip": null,
            "layout": "IPY_MODEL_20285f4c1e5847f1a46f44967c3f7f46",
            "placeholder": "​",
            "style": "IPY_MODEL_d94de4a012c4430cbe65a31452838032",
            "value": "Downloading builder script: "
          }
        },
        "3e71e17b666f486baefb97a7514f8734": {
          "model_module": "@jupyter-widgets/controls",
          "model_name": "FloatProgressModel",
          "model_module_version": "1.5.0",
          "state": {
            "_dom_classes": [],
            "_model_module": "@jupyter-widgets/controls",
            "_model_module_version": "1.5.0",
            "_model_name": "FloatProgressModel",
            "_view_count": null,
            "_view_module": "@jupyter-widgets/controls",
            "_view_module_version": "1.5.0",
            "_view_name": "ProgressView",
            "bar_style": "success",
            "description": "",
            "description_tooltip": null,
            "layout": "IPY_MODEL_fd5534961e184d3d9fad1df4833e3ec0",
            "max": 2478,
            "min": 0,
            "orientation": "horizontal",
            "style": "IPY_MODEL_799d7cfb109440239fae5bd4f980421a",
            "value": 2478
          }
        },
        "2789b09639114c1899f11ad83004e0aa": {
          "model_module": "@jupyter-widgets/controls",
          "model_name": "HTMLModel",
          "model_module_version": "1.5.0",
          "state": {
            "_dom_classes": [],
            "_model_module": "@jupyter-widgets/controls",
            "_model_module_version": "1.5.0",
            "_model_name": "HTMLModel",
            "_view_count": null,
            "_view_module": "@jupyter-widgets/controls",
            "_view_module_version": "1.5.0",
            "_view_name": "HTMLView",
            "description": "",
            "description_tooltip": null,
            "layout": "IPY_MODEL_f3191eb5031e4c27a9c4015b8259f052",
            "placeholder": "​",
            "style": "IPY_MODEL_a0deb2e81f5f4d60b1eb5c6c00bfa251",
            "value": " 6.06k/? [00:00&lt;00:00, 126kB/s]"
          }
        },
        "b7c4dd9075bf44cf9b06ab55b6c8937e": {
          "model_module": "@jupyter-widgets/base",
          "model_name": "LayoutModel",
          "model_module_version": "1.2.0",
          "state": {
            "_model_module": "@jupyter-widgets/base",
            "_model_module_version": "1.2.0",
            "_model_name": "LayoutModel",
            "_view_count": null,
            "_view_module": "@jupyter-widgets/base",
            "_view_module_version": "1.2.0",
            "_view_name": "LayoutView",
            "align_content": null,
            "align_items": null,
            "align_self": null,
            "border": null,
            "bottom": null,
            "display": null,
            "flex": null,
            "flex_flow": null,
            "grid_area": null,
            "grid_auto_columns": null,
            "grid_auto_flow": null,
            "grid_auto_rows": null,
            "grid_column": null,
            "grid_gap": null,
            "grid_row": null,
            "grid_template_areas": null,
            "grid_template_columns": null,
            "grid_template_rows": null,
            "height": null,
            "justify_content": null,
            "justify_items": null,
            "left": null,
            "margin": null,
            "max_height": null,
            "max_width": null,
            "min_height": null,
            "min_width": null,
            "object_fit": null,
            "object_position": null,
            "order": null,
            "overflow": null,
            "overflow_x": null,
            "overflow_y": null,
            "padding": null,
            "right": null,
            "top": null,
            "visibility": null,
            "width": null
          }
        },
        "20285f4c1e5847f1a46f44967c3f7f46": {
          "model_module": "@jupyter-widgets/base",
          "model_name": "LayoutModel",
          "model_module_version": "1.2.0",
          "state": {
            "_model_module": "@jupyter-widgets/base",
            "_model_module_version": "1.2.0",
            "_model_name": "LayoutModel",
            "_view_count": null,
            "_view_module": "@jupyter-widgets/base",
            "_view_module_version": "1.2.0",
            "_view_name": "LayoutView",
            "align_content": null,
            "align_items": null,
            "align_self": null,
            "border": null,
            "bottom": null,
            "display": null,
            "flex": null,
            "flex_flow": null,
            "grid_area": null,
            "grid_auto_columns": null,
            "grid_auto_flow": null,
            "grid_auto_rows": null,
            "grid_column": null,
            "grid_gap": null,
            "grid_row": null,
            "grid_template_areas": null,
            "grid_template_columns": null,
            "grid_template_rows": null,
            "height": null,
            "justify_content": null,
            "justify_items": null,
            "left": null,
            "margin": null,
            "max_height": null,
            "max_width": null,
            "min_height": null,
            "min_width": null,
            "object_fit": null,
            "object_position": null,
            "order": null,
            "overflow": null,
            "overflow_x": null,
            "overflow_y": null,
            "padding": null,
            "right": null,
            "top": null,
            "visibility": null,
            "width": null
          }
        },
        "d94de4a012c4430cbe65a31452838032": {
          "model_module": "@jupyter-widgets/controls",
          "model_name": "DescriptionStyleModel",
          "model_module_version": "1.5.0",
          "state": {
            "_model_module": "@jupyter-widgets/controls",
            "_model_module_version": "1.5.0",
            "_model_name": "DescriptionStyleModel",
            "_view_count": null,
            "_view_module": "@jupyter-widgets/base",
            "_view_module_version": "1.2.0",
            "_view_name": "StyleView",
            "description_width": ""
          }
        },
        "fd5534961e184d3d9fad1df4833e3ec0": {
          "model_module": "@jupyter-widgets/base",
          "model_name": "LayoutModel",
          "model_module_version": "1.2.0",
          "state": {
            "_model_module": "@jupyter-widgets/base",
            "_model_module_version": "1.2.0",
            "_model_name": "LayoutModel",
            "_view_count": null,
            "_view_module": "@jupyter-widgets/base",
            "_view_module_version": "1.2.0",
            "_view_name": "LayoutView",
            "align_content": null,
            "align_items": null,
            "align_self": null,
            "border": null,
            "bottom": null,
            "display": null,
            "flex": null,
            "flex_flow": null,
            "grid_area": null,
            "grid_auto_columns": null,
            "grid_auto_flow": null,
            "grid_auto_rows": null,
            "grid_column": null,
            "grid_gap": null,
            "grid_row": null,
            "grid_template_areas": null,
            "grid_template_columns": null,
            "grid_template_rows": null,
            "height": null,
            "justify_content": null,
            "justify_items": null,
            "left": null,
            "margin": null,
            "max_height": null,
            "max_width": null,
            "min_height": null,
            "min_width": null,
            "object_fit": null,
            "object_position": null,
            "order": null,
            "overflow": null,
            "overflow_x": null,
            "overflow_y": null,
            "padding": null,
            "right": null,
            "top": null,
            "visibility": null,
            "width": null
          }
        },
        "799d7cfb109440239fae5bd4f980421a": {
          "model_module": "@jupyter-widgets/controls",
          "model_name": "ProgressStyleModel",
          "model_module_version": "1.5.0",
          "state": {
            "_model_module": "@jupyter-widgets/controls",
            "_model_module_version": "1.5.0",
            "_model_name": "ProgressStyleModel",
            "_view_count": null,
            "_view_module": "@jupyter-widgets/base",
            "_view_module_version": "1.2.0",
            "_view_name": "StyleView",
            "bar_color": null,
            "description_width": ""
          }
        },
        "f3191eb5031e4c27a9c4015b8259f052": {
          "model_module": "@jupyter-widgets/base",
          "model_name": "LayoutModel",
          "model_module_version": "1.2.0",
          "state": {
            "_model_module": "@jupyter-widgets/base",
            "_model_module_version": "1.2.0",
            "_model_name": "LayoutModel",
            "_view_count": null,
            "_view_module": "@jupyter-widgets/base",
            "_view_module_version": "1.2.0",
            "_view_name": "LayoutView",
            "align_content": null,
            "align_items": null,
            "align_self": null,
            "border": null,
            "bottom": null,
            "display": null,
            "flex": null,
            "flex_flow": null,
            "grid_area": null,
            "grid_auto_columns": null,
            "grid_auto_flow": null,
            "grid_auto_rows": null,
            "grid_column": null,
            "grid_gap": null,
            "grid_row": null,
            "grid_template_areas": null,
            "grid_template_columns": null,
            "grid_template_rows": null,
            "height": null,
            "justify_content": null,
            "justify_items": null,
            "left": null,
            "margin": null,
            "max_height": null,
            "max_width": null,
            "min_height": null,
            "min_width": null,
            "object_fit": null,
            "object_position": null,
            "order": null,
            "overflow": null,
            "overflow_x": null,
            "overflow_y": null,
            "padding": null,
            "right": null,
            "top": null,
            "visibility": null,
            "width": null
          }
        },
        "a0deb2e81f5f4d60b1eb5c6c00bfa251": {
          "model_module": "@jupyter-widgets/controls",
          "model_name": "DescriptionStyleModel",
          "model_module_version": "1.5.0",
          "state": {
            "_model_module": "@jupyter-widgets/controls",
            "_model_module_version": "1.5.0",
            "_model_name": "DescriptionStyleModel",
            "_view_count": null,
            "_view_module": "@jupyter-widgets/base",
            "_view_module_version": "1.2.0",
            "_view_name": "StyleView",
            "description_width": ""
          }
        },
        "2b5d0fe0599946d9903f8cf05163a4b0": {
          "model_module": "@jupyter-widgets/controls",
          "model_name": "HBoxModel",
          "model_module_version": "1.5.0",
          "state": {
            "_dom_classes": [],
            "_model_module": "@jupyter-widgets/controls",
            "_model_module_version": "1.5.0",
            "_model_name": "HBoxModel",
            "_view_count": null,
            "_view_module": "@jupyter-widgets/controls",
            "_view_module_version": "1.5.0",
            "_view_name": "HBoxView",
            "box_style": "",
            "children": [
              "IPY_MODEL_b2195661e1f9468390ce05ef6e7cc140",
              "IPY_MODEL_2352d721a4934ebab721002c61322b65",
              "IPY_MODEL_6857d6385b9e4083a5dad9681e72c223"
            ],
            "layout": "IPY_MODEL_ef8ce131fb9a45c89fc7b56c1af48051"
          }
        },
        "b2195661e1f9468390ce05ef6e7cc140": {
          "model_module": "@jupyter-widgets/controls",
          "model_name": "HTMLModel",
          "model_module_version": "1.5.0",
          "state": {
            "_dom_classes": [],
            "_model_module": "@jupyter-widgets/controls",
            "_model_module_version": "1.5.0",
            "_model_name": "HTMLModel",
            "_view_count": null,
            "_view_module": "@jupyter-widgets/controls",
            "_view_module_version": "1.5.0",
            "_view_name": "HTMLView",
            "description": "",
            "description_tooltip": null,
            "layout": "IPY_MODEL_b8f085081eac4631b499012123f81be4",
            "placeholder": "​",
            "style": "IPY_MODEL_9c89f683a038453ab2b9bd49a12fd757",
            "value": "Downloading extra modules: "
          }
        },
        "2352d721a4934ebab721002c61322b65": {
          "model_module": "@jupyter-widgets/controls",
          "model_name": "FloatProgressModel",
          "model_module_version": "1.5.0",
          "state": {
            "_dom_classes": [],
            "_model_module": "@jupyter-widgets/controls",
            "_model_module_version": "1.5.0",
            "_model_name": "FloatProgressModel",
            "_view_count": null,
            "_view_module": "@jupyter-widgets/controls",
            "_view_module_version": "1.5.0",
            "_view_name": "ProgressView",
            "bar_style": "success",
            "description": "",
            "description_tooltip": null,
            "layout": "IPY_MODEL_9c719e7d5e91434e8ae36a3d3241580e",
            "max": 1554,
            "min": 0,
            "orientation": "horizontal",
            "style": "IPY_MODEL_160767bad01b45bababec2e956ad66fa",
            "value": 1554
          }
        },
        "6857d6385b9e4083a5dad9681e72c223": {
          "model_module": "@jupyter-widgets/controls",
          "model_name": "HTMLModel",
          "model_module_version": "1.5.0",
          "state": {
            "_dom_classes": [],
            "_model_module": "@jupyter-widgets/controls",
            "_model_module_version": "1.5.0",
            "_model_name": "HTMLModel",
            "_view_count": null,
            "_view_module": "@jupyter-widgets/controls",
            "_view_module_version": "1.5.0",
            "_view_name": "HTMLView",
            "description": "",
            "description_tooltip": null,
            "layout": "IPY_MODEL_113b8bca01014ad680fb98a2dce41874",
            "placeholder": "​",
            "style": "IPY_MODEL_42d7b4b775ac4f1b86909014d408df78",
            "value": " 4.07k/? [00:00&lt;00:00, 116kB/s]"
          }
        },
        "ef8ce131fb9a45c89fc7b56c1af48051": {
          "model_module": "@jupyter-widgets/base",
          "model_name": "LayoutModel",
          "model_module_version": "1.2.0",
          "state": {
            "_model_module": "@jupyter-widgets/base",
            "_model_module_version": "1.2.0",
            "_model_name": "LayoutModel",
            "_view_count": null,
            "_view_module": "@jupyter-widgets/base",
            "_view_module_version": "1.2.0",
            "_view_name": "LayoutView",
            "align_content": null,
            "align_items": null,
            "align_self": null,
            "border": null,
            "bottom": null,
            "display": null,
            "flex": null,
            "flex_flow": null,
            "grid_area": null,
            "grid_auto_columns": null,
            "grid_auto_flow": null,
            "grid_auto_rows": null,
            "grid_column": null,
            "grid_gap": null,
            "grid_row": null,
            "grid_template_areas": null,
            "grid_template_columns": null,
            "grid_template_rows": null,
            "height": null,
            "justify_content": null,
            "justify_items": null,
            "left": null,
            "margin": null,
            "max_height": null,
            "max_width": null,
            "min_height": null,
            "min_width": null,
            "object_fit": null,
            "object_position": null,
            "order": null,
            "overflow": null,
            "overflow_x": null,
            "overflow_y": null,
            "padding": null,
            "right": null,
            "top": null,
            "visibility": null,
            "width": null
          }
        },
        "b8f085081eac4631b499012123f81be4": {
          "model_module": "@jupyter-widgets/base",
          "model_name": "LayoutModel",
          "model_module_version": "1.2.0",
          "state": {
            "_model_module": "@jupyter-widgets/base",
            "_model_module_version": "1.2.0",
            "_model_name": "LayoutModel",
            "_view_count": null,
            "_view_module": "@jupyter-widgets/base",
            "_view_module_version": "1.2.0",
            "_view_name": "LayoutView",
            "align_content": null,
            "align_items": null,
            "align_self": null,
            "border": null,
            "bottom": null,
            "display": null,
            "flex": null,
            "flex_flow": null,
            "grid_area": null,
            "grid_auto_columns": null,
            "grid_auto_flow": null,
            "grid_auto_rows": null,
            "grid_column": null,
            "grid_gap": null,
            "grid_row": null,
            "grid_template_areas": null,
            "grid_template_columns": null,
            "grid_template_rows": null,
            "height": null,
            "justify_content": null,
            "justify_items": null,
            "left": null,
            "margin": null,
            "max_height": null,
            "max_width": null,
            "min_height": null,
            "min_width": null,
            "object_fit": null,
            "object_position": null,
            "order": null,
            "overflow": null,
            "overflow_x": null,
            "overflow_y": null,
            "padding": null,
            "right": null,
            "top": null,
            "visibility": null,
            "width": null
          }
        },
        "9c89f683a038453ab2b9bd49a12fd757": {
          "model_module": "@jupyter-widgets/controls",
          "model_name": "DescriptionStyleModel",
          "model_module_version": "1.5.0",
          "state": {
            "_model_module": "@jupyter-widgets/controls",
            "_model_module_version": "1.5.0",
            "_model_name": "DescriptionStyleModel",
            "_view_count": null,
            "_view_module": "@jupyter-widgets/base",
            "_view_module_version": "1.2.0",
            "_view_name": "StyleView",
            "description_width": ""
          }
        },
        "9c719e7d5e91434e8ae36a3d3241580e": {
          "model_module": "@jupyter-widgets/base",
          "model_name": "LayoutModel",
          "model_module_version": "1.2.0",
          "state": {
            "_model_module": "@jupyter-widgets/base",
            "_model_module_version": "1.2.0",
            "_model_name": "LayoutModel",
            "_view_count": null,
            "_view_module": "@jupyter-widgets/base",
            "_view_module_version": "1.2.0",
            "_view_name": "LayoutView",
            "align_content": null,
            "align_items": null,
            "align_self": null,
            "border": null,
            "bottom": null,
            "display": null,
            "flex": null,
            "flex_flow": null,
            "grid_area": null,
            "grid_auto_columns": null,
            "grid_auto_flow": null,
            "grid_auto_rows": null,
            "grid_column": null,
            "grid_gap": null,
            "grid_row": null,
            "grid_template_areas": null,
            "grid_template_columns": null,
            "grid_template_rows": null,
            "height": null,
            "justify_content": null,
            "justify_items": null,
            "left": null,
            "margin": null,
            "max_height": null,
            "max_width": null,
            "min_height": null,
            "min_width": null,
            "object_fit": null,
            "object_position": null,
            "order": null,
            "overflow": null,
            "overflow_x": null,
            "overflow_y": null,
            "padding": null,
            "right": null,
            "top": null,
            "visibility": null,
            "width": null
          }
        },
        "160767bad01b45bababec2e956ad66fa": {
          "model_module": "@jupyter-widgets/controls",
          "model_name": "ProgressStyleModel",
          "model_module_version": "1.5.0",
          "state": {
            "_model_module": "@jupyter-widgets/controls",
            "_model_module_version": "1.5.0",
            "_model_name": "ProgressStyleModel",
            "_view_count": null,
            "_view_module": "@jupyter-widgets/base",
            "_view_module_version": "1.2.0",
            "_view_name": "StyleView",
            "bar_color": null,
            "description_width": ""
          }
        },
        "113b8bca01014ad680fb98a2dce41874": {
          "model_module": "@jupyter-widgets/base",
          "model_name": "LayoutModel",
          "model_module_version": "1.2.0",
          "state": {
            "_model_module": "@jupyter-widgets/base",
            "_model_module_version": "1.2.0",
            "_model_name": "LayoutModel",
            "_view_count": null,
            "_view_module": "@jupyter-widgets/base",
            "_view_module_version": "1.2.0",
            "_view_name": "LayoutView",
            "align_content": null,
            "align_items": null,
            "align_self": null,
            "border": null,
            "bottom": null,
            "display": null,
            "flex": null,
            "flex_flow": null,
            "grid_area": null,
            "grid_auto_columns": null,
            "grid_auto_flow": null,
            "grid_auto_rows": null,
            "grid_column": null,
            "grid_gap": null,
            "grid_row": null,
            "grid_template_areas": null,
            "grid_template_columns": null,
            "grid_template_rows": null,
            "height": null,
            "justify_content": null,
            "justify_items": null,
            "left": null,
            "margin": null,
            "max_height": null,
            "max_width": null,
            "min_height": null,
            "min_width": null,
            "object_fit": null,
            "object_position": null,
            "order": null,
            "overflow": null,
            "overflow_x": null,
            "overflow_y": null,
            "padding": null,
            "right": null,
            "top": null,
            "visibility": null,
            "width": null
          }
        },
        "42d7b4b775ac4f1b86909014d408df78": {
          "model_module": "@jupyter-widgets/controls",
          "model_name": "DescriptionStyleModel",
          "model_module_version": "1.5.0",
          "state": {
            "_model_module": "@jupyter-widgets/controls",
            "_model_module_version": "1.5.0",
            "_model_name": "DescriptionStyleModel",
            "_view_count": null,
            "_view_module": "@jupyter-widgets/base",
            "_view_module_version": "1.2.0",
            "_view_name": "StyleView",
            "description_width": ""
          }
        },
        "13c0403e96b641f9adcac1c5cea28d68": {
          "model_module": "@jupyter-widgets/controls",
          "model_name": "HBoxModel",
          "model_module_version": "1.5.0",
          "state": {
            "_dom_classes": [],
            "_model_module": "@jupyter-widgets/controls",
            "_model_module_version": "1.5.0",
            "_model_name": "HBoxModel",
            "_view_count": null,
            "_view_module": "@jupyter-widgets/controls",
            "_view_module_version": "1.5.0",
            "_view_name": "HBoxView",
            "box_style": "",
            "children": [
              "IPY_MODEL_391baa8012954970a919e9157427af3a",
              "IPY_MODEL_3f6de2a49685455a9724d696824af45d",
              "IPY_MODEL_7b137a757da7470299081bee13d35d89"
            ],
            "layout": "IPY_MODEL_555ee9201d9f46b2bb7a8216008c8022"
          }
        },
        "391baa8012954970a919e9157427af3a": {
          "model_module": "@jupyter-widgets/controls",
          "model_name": "HTMLModel",
          "model_module_version": "1.5.0",
          "state": {
            "_dom_classes": [],
            "_model_module": "@jupyter-widgets/controls",
            "_model_module_version": "1.5.0",
            "_model_name": "HTMLModel",
            "_view_count": null,
            "_view_module": "@jupyter-widgets/controls",
            "_view_module_version": "1.5.0",
            "_view_name": "HTMLView",
            "description": "",
            "description_tooltip": null,
            "layout": "IPY_MODEL_da19295172374e1f89ca91aeb3c180de",
            "placeholder": "​",
            "style": "IPY_MODEL_a73fddb53f0143c2b2390728b0df7832",
            "value": "Downloading builder script: "
          }
        },
        "3f6de2a49685455a9724d696824af45d": {
          "model_module": "@jupyter-widgets/controls",
          "model_name": "FloatProgressModel",
          "model_module_version": "1.5.0",
          "state": {
            "_dom_classes": [],
            "_model_module": "@jupyter-widgets/controls",
            "_model_module_version": "1.5.0",
            "_model_name": "FloatProgressModel",
            "_view_count": null,
            "_view_module": "@jupyter-widgets/controls",
            "_view_module_version": "1.5.0",
            "_view_name": "ProgressView",
            "bar_style": "success",
            "description": "",
            "description_tooltip": null,
            "layout": "IPY_MODEL_a203dde6b9f941508fe33d738a413274",
            "max": 2199,
            "min": 0,
            "orientation": "horizontal",
            "style": "IPY_MODEL_438c865882c24ca6985f92e632e1beb0",
            "value": 2199
          }
        },
        "7b137a757da7470299081bee13d35d89": {
          "model_module": "@jupyter-widgets/controls",
          "model_name": "HTMLModel",
          "model_module_version": "1.5.0",
          "state": {
            "_dom_classes": [],
            "_model_module": "@jupyter-widgets/controls",
            "_model_module_version": "1.5.0",
            "_model_name": "HTMLModel",
            "_view_count": null,
            "_view_module": "@jupyter-widgets/controls",
            "_view_module_version": "1.5.0",
            "_view_name": "HTMLView",
            "description": "",
            "description_tooltip": null,
            "layout": "IPY_MODEL_168ee25a25454fa39ad28c6e5cbd9ce0",
            "placeholder": "​",
            "style": "IPY_MODEL_7793b012e9f444fd832bd0e7a30ac6ca",
            "value": " 5.34k/? [00:00&lt;00:00, 152kB/s]"
          }
        },
        "555ee9201d9f46b2bb7a8216008c8022": {
          "model_module": "@jupyter-widgets/base",
          "model_name": "LayoutModel",
          "model_module_version": "1.2.0",
          "state": {
            "_model_module": "@jupyter-widgets/base",
            "_model_module_version": "1.2.0",
            "_model_name": "LayoutModel",
            "_view_count": null,
            "_view_module": "@jupyter-widgets/base",
            "_view_module_version": "1.2.0",
            "_view_name": "LayoutView",
            "align_content": null,
            "align_items": null,
            "align_self": null,
            "border": null,
            "bottom": null,
            "display": null,
            "flex": null,
            "flex_flow": null,
            "grid_area": null,
            "grid_auto_columns": null,
            "grid_auto_flow": null,
            "grid_auto_rows": null,
            "grid_column": null,
            "grid_gap": null,
            "grid_row": null,
            "grid_template_areas": null,
            "grid_template_columns": null,
            "grid_template_rows": null,
            "height": null,
            "justify_content": null,
            "justify_items": null,
            "left": null,
            "margin": null,
            "max_height": null,
            "max_width": null,
            "min_height": null,
            "min_width": null,
            "object_fit": null,
            "object_position": null,
            "order": null,
            "overflow": null,
            "overflow_x": null,
            "overflow_y": null,
            "padding": null,
            "right": null,
            "top": null,
            "visibility": null,
            "width": null
          }
        },
        "da19295172374e1f89ca91aeb3c180de": {
          "model_module": "@jupyter-widgets/base",
          "model_name": "LayoutModel",
          "model_module_version": "1.2.0",
          "state": {
            "_model_module": "@jupyter-widgets/base",
            "_model_module_version": "1.2.0",
            "_model_name": "LayoutModel",
            "_view_count": null,
            "_view_module": "@jupyter-widgets/base",
            "_view_module_version": "1.2.0",
            "_view_name": "LayoutView",
            "align_content": null,
            "align_items": null,
            "align_self": null,
            "border": null,
            "bottom": null,
            "display": null,
            "flex": null,
            "flex_flow": null,
            "grid_area": null,
            "grid_auto_columns": null,
            "grid_auto_flow": null,
            "grid_auto_rows": null,
            "grid_column": null,
            "grid_gap": null,
            "grid_row": null,
            "grid_template_areas": null,
            "grid_template_columns": null,
            "grid_template_rows": null,
            "height": null,
            "justify_content": null,
            "justify_items": null,
            "left": null,
            "margin": null,
            "max_height": null,
            "max_width": null,
            "min_height": null,
            "min_width": null,
            "object_fit": null,
            "object_position": null,
            "order": null,
            "overflow": null,
            "overflow_x": null,
            "overflow_y": null,
            "padding": null,
            "right": null,
            "top": null,
            "visibility": null,
            "width": null
          }
        },
        "a73fddb53f0143c2b2390728b0df7832": {
          "model_module": "@jupyter-widgets/controls",
          "model_name": "DescriptionStyleModel",
          "model_module_version": "1.5.0",
          "state": {
            "_model_module": "@jupyter-widgets/controls",
            "_model_module_version": "1.5.0",
            "_model_name": "DescriptionStyleModel",
            "_view_count": null,
            "_view_module": "@jupyter-widgets/base",
            "_view_module_version": "1.2.0",
            "_view_name": "StyleView",
            "description_width": ""
          }
        },
        "a203dde6b9f941508fe33d738a413274": {
          "model_module": "@jupyter-widgets/base",
          "model_name": "LayoutModel",
          "model_module_version": "1.2.0",
          "state": {
            "_model_module": "@jupyter-widgets/base",
            "_model_module_version": "1.2.0",
            "_model_name": "LayoutModel",
            "_view_count": null,
            "_view_module": "@jupyter-widgets/base",
            "_view_module_version": "1.2.0",
            "_view_name": "LayoutView",
            "align_content": null,
            "align_items": null,
            "align_self": null,
            "border": null,
            "bottom": null,
            "display": null,
            "flex": null,
            "flex_flow": null,
            "grid_area": null,
            "grid_auto_columns": null,
            "grid_auto_flow": null,
            "grid_auto_rows": null,
            "grid_column": null,
            "grid_gap": null,
            "grid_row": null,
            "grid_template_areas": null,
            "grid_template_columns": null,
            "grid_template_rows": null,
            "height": null,
            "justify_content": null,
            "justify_items": null,
            "left": null,
            "margin": null,
            "max_height": null,
            "max_width": null,
            "min_height": null,
            "min_width": null,
            "object_fit": null,
            "object_position": null,
            "order": null,
            "overflow": null,
            "overflow_x": null,
            "overflow_y": null,
            "padding": null,
            "right": null,
            "top": null,
            "visibility": null,
            "width": null
          }
        },
        "438c865882c24ca6985f92e632e1beb0": {
          "model_module": "@jupyter-widgets/controls",
          "model_name": "ProgressStyleModel",
          "model_module_version": "1.5.0",
          "state": {
            "_model_module": "@jupyter-widgets/controls",
            "_model_module_version": "1.5.0",
            "_model_name": "ProgressStyleModel",
            "_view_count": null,
            "_view_module": "@jupyter-widgets/base",
            "_view_module_version": "1.2.0",
            "_view_name": "StyleView",
            "bar_color": null,
            "description_width": ""
          }
        },
        "168ee25a25454fa39ad28c6e5cbd9ce0": {
          "model_module": "@jupyter-widgets/base",
          "model_name": "LayoutModel",
          "model_module_version": "1.2.0",
          "state": {
            "_model_module": "@jupyter-widgets/base",
            "_model_module_version": "1.2.0",
            "_model_name": "LayoutModel",
            "_view_count": null,
            "_view_module": "@jupyter-widgets/base",
            "_view_module_version": "1.2.0",
            "_view_name": "LayoutView",
            "align_content": null,
            "align_items": null,
            "align_self": null,
            "border": null,
            "bottom": null,
            "display": null,
            "flex": null,
            "flex_flow": null,
            "grid_area": null,
            "grid_auto_columns": null,
            "grid_auto_flow": null,
            "grid_auto_rows": null,
            "grid_column": null,
            "grid_gap": null,
            "grid_row": null,
            "grid_template_areas": null,
            "grid_template_columns": null,
            "grid_template_rows": null,
            "height": null,
            "justify_content": null,
            "justify_items": null,
            "left": null,
            "margin": null,
            "max_height": null,
            "max_width": null,
            "min_height": null,
            "min_width": null,
            "object_fit": null,
            "object_position": null,
            "order": null,
            "overflow": null,
            "overflow_x": null,
            "overflow_y": null,
            "padding": null,
            "right": null,
            "top": null,
            "visibility": null,
            "width": null
          }
        },
        "7793b012e9f444fd832bd0e7a30ac6ca": {
          "model_module": "@jupyter-widgets/controls",
          "model_name": "DescriptionStyleModel",
          "model_module_version": "1.5.0",
          "state": {
            "_model_module": "@jupyter-widgets/controls",
            "_model_module_version": "1.5.0",
            "_model_name": "DescriptionStyleModel",
            "_view_count": null,
            "_view_module": "@jupyter-widgets/base",
            "_view_module_version": "1.2.0",
            "_view_name": "StyleView",
            "description_width": ""
          }
        }
      }
    }
  },
  "nbformat": 4,
  "nbformat_minor": 0
}